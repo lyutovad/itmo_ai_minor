{
 "cells": [
  {
   "cell_type": "code",
   "execution_count": null,
   "id": "81a7ccdf",
   "metadata": {},
   "outputs": [],
   "source": [
    "my_list = [1, 2, 3, 4, 5]\n",
    "my_list[0] = 9\n",
    "my_list[4] = 7\n",
    "print(my_list)"
   ]
  },
  {
   "cell_type": "code",
   "execution_count": null,
   "id": "12e76ef3",
   "metadata": {},
   "outputs": [],
   "source": [
    "my_tuple = (1, 2, 3, 4, 5)\n",
    "my_tuple[0] = 9\n",
    "my_tuple[4] = 7\n",
    "print(my_tuple)"
   ]
  },
  {
   "cell_type": "code",
   "execution_count": null,
   "id": "502486d5",
   "metadata": {},
   "outputs": [],
   "source": [
    "my_tuple = (1,)\n",
    "print(type(my_tuple))"
   ]
  },
  {
   "cell_type": "code",
   "execution_count": null,
   "id": "2629cb79",
   "metadata": {},
   "outputs": [],
   "source": [
    "my_tuple = (1, 'python', [1, 2, 3])\n",
    "print(my_tuple)\n",
    "my_tuple[2][0] = 100\n",
    "my_tuple[2].append(17)\n",
    "print(my_tuple)"
   ]
  },
  {
   "cell_type": "code",
   "execution_count": null,
   "id": "66122d30",
   "metadata": {},
   "outputs": [],
   "source": [
    "a = (3, 4, 5)\n",
    "for i in range(3):\n",
    "    a[i] += 3\n",
    "print(sum(a))"
   ]
  },
  {
   "cell_type": "code",
   "execution_count": null,
   "id": "5596a06d",
   "metadata": {},
   "outputs": [],
   "source": [
    "colors = ('red', ('green', 'blue'), 'yellow')\n",
    "numbers = (1, 2, (4, (6, 7, 8, 9)), 10, 11)\n",
    "print(colors[1][1])\n",
    "print(numbers[2][1][3])"
   ]
  },
  {
   "cell_type": "code",
   "execution_count": null,
   "id": "cf15d36e",
   "metadata": {},
   "outputs": [],
   "source": [
    "letters = 'abcdefghijkl'\n",
    "tpl = tuple(letters)\n",
    "print(tpl)"
   ]
  },
  {
   "cell_type": "code",
   "execution_count": null,
   "id": "0fb853a7",
   "metadata": {},
   "outputs": [],
   "source": [
    "number = 12345\n",
    "tpl = tuple(number)\n",
    "print(tpl)"
   ]
  },
  {
   "cell_type": "markdown",
   "id": "24f37a10",
   "metadata": {},
   "source": [
    "Метод index() возвращает индекс первого элемента, значение которого равняется переданному в метод значению.\n",
    "Таким образом, в метод передается один параметр:\n",
    "value: значение, индекс которого требуется найти.\n",
    "Если элемент в кортеже не найден, то во время выполнения происходит ошибка.\n"
   ]
  },
  {
   "cell_type": "code",
   "execution_count": null,
   "id": "ce5c7c9a",
   "metadata": {},
   "outputs": [],
   "source": [
    "colors = ('red', 'green', 'yellow')\n",
    "position = colors.index('green')\n",
    "print(position)"
   ]
  },
  {
   "cell_type": "code",
   "execution_count": null,
   "id": "be9a85db",
   "metadata": {},
   "outputs": [],
   "source": [
    "colors = ('red', 'green', 'yellow')\n",
    "position = colors.index('black')\n",
    "print(position)"
   ]
  },
  {
   "cell_type": "code",
   "execution_count": null,
   "id": "ef88a036",
   "metadata": {},
   "outputs": [],
   "source": [
    "colors = ('red', 'green', 'yellow')\n",
    "if 'black' in colors:\n",
    "    position = colors.index('black')\n",
    "    print(position)\n",
    "else:\n",
    "    print('Такого значения нет в кортеже')"
   ]
  },
  {
   "cell_type": "markdown",
   "id": "d71dd96e",
   "metadata": {},
   "source": [
    "Метод count()\n",
    "Метод count() возвращает количество элементов в кортеже, значения которых равны переданному в метод значению. \n",
    "В метод передается один параметр:\n",
    "\n",
    "value: значение, количество элементов, равных которому,  нужно посчитать.\n",
    "Если значение в кортеже не найдено, то метод возвращает 0."
   ]
  },
  {
   "cell_type": "code",
   "execution_count": null,
   "id": "6e495d81",
   "metadata": {},
   "outputs": [],
   "source": [
    "colors = ('red', 'green', 'white', 'yellow', 'green', 'blue', 'green')\n",
    "cnt1 = colors.count('red')\n",
    "cnt2 = colors.count('violet')\n",
    "cnt3 = colors.count('green')\n",
    "\n",
    "print(cnt1)\n",
    "print(cnt2)\n",
    "print(cnt3)"
   ]
  },
  {
   "cell_type": "markdown",
   "id": "e89805b3",
   "metadata": {},
   "source": [
    "Встроенная функция sum() принимает в качестве параметра кортеж чисел и вычисляет сумму его элементов.\n"
   ]
  },
  {
   "cell_type": "code",
   "execution_count": null,
   "id": "e5ffce66",
   "metadata": {},
   "outputs": [],
   "source": [
    "numbers = (1, 2, 3, 4, 5, 6, 7, 8, 9, 10)\n",
    "print('Сумма всех элементов кортежа =', sum(numbers))"
   ]
  },
  {
   "cell_type": "markdown",
   "id": "8352a3d9",
   "metadata": {},
   "source": [
    "Встроенные функции min() и max() принимают в качестве параметра кортеж и находят минимальный и максимальный элементы соответственно.\n"
   ]
  },
  {
   "cell_type": "code",
   "execution_count": null,
   "id": "ebba6061",
   "metadata": {},
   "outputs": [],
   "source": [
    "numbers = (3, 4, 10, 3333, 12, -7, -5, 4)\n",
    "print('Минимальный элемент кортежа =', min(numbers))\n",
    "print('Максимальный элемент кортежа =', max(numbers))"
   ]
  },
  {
   "cell_type": "code",
   "execution_count": null,
   "id": "b357b4ea",
   "metadata": {},
   "outputs": [],
   "source": []
  }
 ],
 "metadata": {
  "kernelspec": {
   "display_name": "Python 3 (ipykernel)",
   "language": "python",
   "name": "python3"
  },
  "language_info": {
   "codemirror_mode": {
    "name": "ipython",
    "version": 3
   },
   "file_extension": ".py",
   "mimetype": "text/x-python",
   "name": "python",
   "nbconvert_exporter": "python",
   "pygments_lexer": "ipython3",
   "version": "3.9.13"
  }
 },
 "nbformat": 4,
 "nbformat_minor": 5
}
