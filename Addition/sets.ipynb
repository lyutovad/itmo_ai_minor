{
 "cells": [
  {
   "cell_type": "code",
   "execution_count": 1,
   "id": "ce337dbc",
   "metadata": {},
   "outputs": [
    {
     "name": "stdout",
     "output_type": "stream",
     "text": [
      "<class 'set'>\n",
      "<class 'dict'>\n"
     ]
    }
   ],
   "source": [
    "numbers = {2, 4, 6, 8, 10}\n",
    "languages = {'yellow', 'green', 'blue',}\n",
    "\n",
    "my_set = {'green', 12345, 61.5}\n",
    "\n",
    "my_set = set()\n",
    "print(type(my_set))\n",
    "my_set = {}\n",
    "print(type(my_set))"
   ]
  },
  {
   "cell_type": "markdown",
   "id": "38a78485",
   "metadata": {},
   "source": [
    "Множества не могут содержать повторяющиеся элементы. \n",
    "Если в функцию set() передать аргумент, содержащий повторяющиеся элементы, \n",
    "то в множестве появится только один из этих повторяющихся элементов.\n"
   ]
  },
  {
   "cell_type": "code",
   "execution_count": 2,
   "id": "fdc51083",
   "metadata": {},
   "outputs": [
    {
     "name": "stdout",
     "output_type": "stream",
     "text": [
      "{2, 4, 6}\n",
      "{1, 2, 3}\n",
      "{'b', 'a', 'c', 'd'}\n"
     ]
    }
   ],
   "source": [
    "myset1 = {2, 2, 4, 6, 6}\n",
    "myset2 = set([1, 2, 2, 3, 3])\n",
    "myset3 = set('aaaaabbbbccccddd')\n",
    "\n",
    "print(myset1)\n",
    "print(myset2)\n",
    "print(myset3)"
   ]
  },
  {
   "cell_type": "code",
   "execution_count": 3,
   "id": "fc9eb3d7",
   "metadata": {},
   "outputs": [
    {
     "name": "stdout",
     "output_type": "stream",
     "text": [
      "{'л', 'у', ' ', 'р', 'а', 'ы', 'М', 'м'}\n"
     ]
    }
   ],
   "source": [
    "myset = set('Мама мыла раму')\n",
    "\n",
    "print(myset)"
   ]
  },
  {
   "cell_type": "code",
   "execution_count": 4,
   "id": "5a44a52f",
   "metadata": {},
   "outputs": [
    {
     "name": "stdout",
     "output_type": "stream",
     "text": [
      "{'раму', 'Мама', 'мыла'}\n"
     ]
    }
   ],
   "source": [
    "myset = set(['Мама', 'мыла', 'раму'])\n",
    "\n",
    "print(myset)"
   ]
  },
  {
   "cell_type": "code",
   "execution_count": 5,
   "id": "925a4258",
   "metadata": {},
   "outputs": [
    {
     "ename": "TypeError",
     "evalue": "unhashable type: 'list'",
     "output_type": "error",
     "traceback": [
      "\u001b[1;31m---------------------------------------------------------------------------\u001b[0m",
      "\u001b[1;31mTypeError\u001b[0m                                 Traceback (most recent call last)",
      "Cell \u001b[1;32mIn[5], line 1\u001b[0m\n\u001b[1;32m----> 1\u001b[0m myset1 \u001b[38;5;241m=\u001b[39m {\u001b[38;5;241m1\u001b[39m, \u001b[38;5;241m2\u001b[39m, [\u001b[38;5;124m'\u001b[39m\u001b[38;5;124maaa\u001b[39m\u001b[38;5;124m'\u001b[39m, \u001b[38;5;124m'\u001b[39m\u001b[38;5;124mbbbb\u001b[39m\u001b[38;5;124m'\u001b[39m, \u001b[38;5;124m'\u001b[39m\u001b[38;5;124mcc\u001b[39m\u001b[38;5;124m'\u001b[39m], \u001b[38;5;241m7\u001b[39m}\n\u001b[0;32m      2\u001b[0m \u001b[38;5;28mprint\u001b[39m(myset1)\n",
      "\u001b[1;31mTypeError\u001b[0m: unhashable type: 'list'"
     ]
    }
   ],
   "source": [
    "myset1 = {1, 2, ['aaa', 'bbbb', 'cc'], 7}\n",
    "print(myset1)"
   ]
  },
  {
   "cell_type": "markdown",
   "id": "736e0eda",
   "metadata": {},
   "source": [
    "Для добавления нового элемента в множество используется метод add().\n"
   ]
  },
  {
   "cell_type": "code",
   "execution_count": 6,
   "id": "7f676651",
   "metadata": {},
   "outputs": [
    {
     "name": "stdout",
     "output_type": "stream",
     "text": [
      "{1, 2, 3, 5, 8}\n",
      "{1, 2, 3, 5, 8, 234, 123}\n"
     ]
    }
   ],
   "source": [
    "numbers = {1, 1, 2, 3, 5, 8, 3}\n",
    "print(numbers)\n",
    "\n",
    "numbers.add(123)\n",
    "numbers.add(234)\n",
    "numbers.add(5)\n",
    "\n",
    "print(numbers)"
   ]
  },
  {
   "cell_type": "markdown",
   "id": "65a4c659",
   "metadata": {},
   "source": [
    "Метод remove() — удаляет элемент из множества. При отсутствии элемента - ошибка.\n"
   ]
  },
  {
   "cell_type": "code",
   "execution_count": 8,
   "id": "5533c95e",
   "metadata": {},
   "outputs": [
    {
     "name": "stdout",
     "output_type": "stream",
     "text": [
      "{1, 2, 4, 5}\n"
     ]
    }
   ],
   "source": [
    "numbers = {1, 2, 3, 4, 5}\n",
    "\n",
    "numbers.remove(3)\n",
    "print(numbers)"
   ]
  },
  {
   "cell_type": "markdown",
   "id": "860b43d4",
   "metadata": {},
   "source": [
    "Метод discard() — удаляет элемент из множества без генерации исключения (ошибки), если элемент отсутствует.\n"
   ]
  },
  {
   "cell_type": "code",
   "execution_count": 9,
   "id": "0dda9c17",
   "metadata": {},
   "outputs": [
    {
     "name": "stdout",
     "output_type": "stream",
     "text": [
      "{1, 2, 4, 5}\n",
      "{1, 2, 3, 4, 5}\n"
     ]
    }
   ],
   "source": [
    "numbers = {1, 2, 3, 4, 5}\n",
    "\n",
    "numbers.discard(3)\n",
    "print(numbers)\n",
    "\n",
    "\n",
    "numbers = {1, 2, 3, 4, 5}\n",
    "\n",
    "numbers.discard(10)\n",
    "print(numbers)"
   ]
  },
  {
   "cell_type": "markdown",
   "id": "fc75902c",
   "metadata": {},
   "source": [
    "Метод pop() — удаляет и возвращает случайный элемент из множества\n",
    "Gри попытке удаления из пустого множества - исключение (ошибка) ."
   ]
  },
  {
   "cell_type": "code",
   "execution_count": 10,
   "id": "092b30e0",
   "metadata": {},
   "outputs": [
    {
     "name": "stdout",
     "output_type": "stream",
     "text": [
      "до удаления: {1, 2, 3, 4, 5}\n",
      "удалённый элемент: 1\n",
      "после удаления: {2, 3, 4, 5}\n"
     ]
    }
   ],
   "source": [
    "numbers = {1, 2, 3, 4, 5}\n",
    "\n",
    "print('до удаления:', numbers)\n",
    "num = numbers.pop()\n",
    "print('удалённый элемент:', num)\n",
    "print('после удаления:', numbers)"
   ]
  },
  {
   "cell_type": "markdown",
   "id": "01f47efe",
   "metadata": {},
   "source": [
    "Метод clear() удаляет все элементы из множества."
   ]
  },
  {
   "cell_type": "code",
   "execution_count": 11,
   "id": "da394c11",
   "metadata": {},
   "outputs": [
    {
     "name": "stdout",
     "output_type": "stream",
     "text": [
      "set()\n"
     ]
    }
   ],
   "source": [
    "numbers = {1, 2, 3, 4, 5}\n",
    "numbers.clear()\n",
    "\n",
    "print(numbers)"
   ]
  },
  {
   "cell_type": "code",
   "execution_count": null,
   "id": "40f626c5",
   "metadata": {},
   "outputs": [],
   "source": []
  }
 ],
 "metadata": {
  "kernelspec": {
   "display_name": "Python 3 (ipykernel)",
   "language": "python",
   "name": "python3"
  },
  "language_info": {
   "codemirror_mode": {
    "name": "ipython",
    "version": 3
   },
   "file_extension": ".py",
   "mimetype": "text/x-python",
   "name": "python",
   "nbconvert_exporter": "python",
   "pygments_lexer": "ipython3",
   "version": "3.9.13"
  }
 },
 "nbformat": 4,
 "nbformat_minor": 5
}
