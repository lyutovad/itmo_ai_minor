{
 "cells": [
  {
   "cell_type": "code",
   "execution_count": 1,
   "id": "50ce1130",
   "metadata": {},
   "outputs": [
    {
     "name": "stdout",
     "output_type": "stream",
     "text": [
      "<class 'list'>\n"
     ]
    }
   ],
   "source": [
    "colors = ['red', 'green', 'white']\n",
    "print(type(colors))"
   ]
  },
  {
   "cell_type": "code",
   "execution_count": 2,
   "id": "d6e45de5",
   "metadata": {},
   "outputs": [
    {
     "name": "stdout",
     "output_type": "stream",
     "text": [
      "['__add__', '__class__', '__class_getitem__', '__contains__', '__delattr__', '__delitem__', '__dir__', '__doc__', '__eq__', '__format__', '__ge__', '__getattribute__', '__getitem__', '__gt__', '__hash__', '__iadd__', '__imul__', '__init__', '__init_subclass__', '__iter__', '__le__', '__len__', '__lt__', '__mul__', '__ne__', '__new__', '__reduce__', '__reduce_ex__', '__repr__', '__reversed__', '__rmul__', '__setattr__', '__setitem__', '__sizeof__', '__str__', '__subclasshook__', 'append', 'clear', 'copy', 'count', 'extend', 'index', 'insert', 'pop', 'remove', 'reverse', 'sort']\n"
     ]
    }
   ],
   "source": [
    "print(dir(colors))"
   ]
  },
  {
   "cell_type": "markdown",
   "id": "9d6330a9",
   "metadata": {},
   "source": [
    "Метод **append()** принимает единственный аргумент:\n",
    "item – элемент, который нужно добавить в **конец списка**. Элементом могут быть числа, строки, словари, другой список и т.д."
   ]
  },
  {
   "cell_type": "code",
   "execution_count": 3,
   "id": "7b198b4a",
   "metadata": {},
   "outputs": [
    {
     "name": "stdout",
     "output_type": "stream",
     "text": [
      "['red', 'green', 'white']\n"
     ]
    }
   ],
   "source": [
    "colors = ['red', 'green', 'white']\n",
    "print(colors)"
   ]
  },
  {
   "cell_type": "code",
   "execution_count": 8,
   "id": "02daedf2",
   "metadata": {},
   "outputs": [
    {
     "ename": "TypeError",
     "evalue": "list.append() takes exactly one argument (2 given)",
     "output_type": "error",
     "traceback": [
      "\u001b[1;31m---------------------------------------------------------------------------\u001b[0m",
      "\u001b[1;31mTypeError\u001b[0m                                 Traceback (most recent call last)",
      "Cell \u001b[1;32mIn[8], line 1\u001b[0m\n\u001b[1;32m----> 1\u001b[0m \u001b[43mcolors\u001b[49m\u001b[38;5;241;43m.\u001b[39;49m\u001b[43mappend\u001b[49m\u001b[43m(\u001b[49m\u001b[38;5;124;43m'\u001b[39;49m\u001b[38;5;124;43mblack\u001b[39;49m\u001b[38;5;124;43m'\u001b[39;49m\u001b[43m,\u001b[49m\u001b[43m \u001b[49m\u001b[38;5;241;43m2\u001b[39;49m\u001b[43m)\u001b[49m\n\u001b[0;32m      2\u001b[0m \u001b[38;5;28mprint\u001b[39m(colors)\n",
      "\u001b[1;31mTypeError\u001b[0m: list.append() takes exactly one argument (2 given)"
     ]
    }
   ],
   "source": [
    "colors.append('black')\n",
    "print(colors)"
   ]
  },
  {
   "cell_type": "code",
   "execution_count": 5,
   "id": "a0d20341",
   "metadata": {},
   "outputs": [],
   "source": [
    "for _ in range(5):\n",
    "    colors.append('blue')"
   ]
  },
  {
   "cell_type": "code",
   "execution_count": 6,
   "id": "613a3ab0",
   "metadata": {},
   "outputs": [
    {
     "name": "stdout",
     "output_type": "stream",
     "text": [
      "['red', 'green', 'white', 'black', 'blue', 'blue', 'blue', 'blue', 'blue']\n"
     ]
    }
   ],
   "source": [
    "print(colors)"
   ]
  },
  {
   "cell_type": "markdown",
   "id": "db477c14",
   "metadata": {},
   "source": [
    "Метод insert() позволяет вставлять значение в список в заданной позиции. В него передается два аргумента:\n",
    "\n",
    "index: индекс, задающий место вставки значения;\n",
    "\n",
    "value: значение, которое требуется вставить."
   ]
  },
  {
   "cell_type": "code",
   "execution_count": 7,
   "id": "02b2f5e1",
   "metadata": {},
   "outputs": [
    {
     "name": "stdout",
     "output_type": "stream",
     "text": [
      "['red', 'green', 'white']\n",
      "['black', 'red', 'green', 'white']\n",
      "['black', 'red', 'green', 'yellow', 'white']\n"
     ]
    }
   ],
   "source": [
    "colors = ['red', 'green', 'white']\n",
    "print(colors)\n",
    "colors.insert(0, 'black')\n",
    "print(colors)\n",
    "colors.insert(3, 'yellow')\n",
    "print(colors)"
   ]
  },
  {
   "cell_type": "markdown",
   "id": "a5027659",
   "metadata": {},
   "source": [
    "Метод **index()** возвращает индекс первого элемента, значение которого равняется переданному в метод значению. \n",
    "Таким образом, в метод передается один параметр:\n",
    "\n",
    "value: значение, индекс которого требуется найти.\n",
    "\n",
    "Если элемент в списке не найден, то во время выполнения происходит ошибка."
   ]
  },
  {
   "cell_type": "code",
   "execution_count": 14,
   "id": "0065c05f",
   "metadata": {},
   "outputs": [
    {
     "name": "stdout",
     "output_type": "stream",
     "text": [
      "1\n"
     ]
    }
   ],
   "source": [
    "colors = ['red','green', 'blue', 'green', 'white','green']\n",
    "position = colors.index('green')\n",
    "print(position)"
   ]
  },
  {
   "cell_type": "code",
   "execution_count": 11,
   "id": "e3a95401",
   "metadata": {},
   "outputs": [
    {
     "ename": "ValueError",
     "evalue": "'violet' is not in list",
     "output_type": "error",
     "traceback": [
      "\u001b[1;31m---------------------------------------------------------------------------\u001b[0m",
      "\u001b[1;31mValueError\u001b[0m                                Traceback (most recent call last)",
      "Cell \u001b[1;32mIn[11], line 1\u001b[0m\n\u001b[1;32m----> 1\u001b[0m position \u001b[38;5;241m=\u001b[39m \u001b[43mcolors\u001b[49m\u001b[38;5;241;43m.\u001b[39;49m\u001b[43mindex\u001b[49m\u001b[43m(\u001b[49m\u001b[38;5;124;43m'\u001b[39;49m\u001b[38;5;124;43mviolet\u001b[39;49m\u001b[38;5;124;43m'\u001b[39;49m\u001b[43m)\u001b[49m\n\u001b[0;32m      2\u001b[0m \u001b[38;5;28mprint\u001b[39m(position)\n",
      "\u001b[1;31mValueError\u001b[0m: 'violet' is not in list"
     ]
    }
   ],
   "source": [
    "position = colors.index('violet')\n",
    "print(position)"
   ]
  },
  {
   "cell_type": "code",
   "execution_count": 12,
   "id": "78b627cf",
   "metadata": {},
   "outputs": [
    {
     "name": "stdout",
     "output_type": "stream",
     "text": [
      "Такого значения нет в списке\n"
     ]
    }
   ],
   "source": [
    "if 'violet' in colors:\n",
    "    position = colors.index('violet')\n",
    "    print(position)\n",
    "else:\n",
    "    print('Такого значения нет в списке')"
   ]
  },
  {
   "cell_type": "markdown",
   "id": "87e4c17b",
   "metadata": {},
   "source": [
    "Метод **remove()** удаляет первый элемент, значение которого равняется переданному в метод значению. \n",
    "В метод передается один параметр:\n",
    "\n",
    "value: значение, которое требуется удалить.\n",
    "\n",
    "Метод уменьшает размер списка на один элемент. Все элементы после удаленного элемента смещаются на одну позицию к началу списка. \n",
    "Если элемент в списке не найден, то во время выполнения происходит ошибка.\n",
    "\n",
    "Важно: метод remove() удаляет только первый элемент с указанным значением. Все последующие его вхождения остаются в списке. \n",
    "Чтобы удалить все вхождения нужно использовать цикл while в связке с оператором принадлежности in и методом remove."
   ]
  },
  {
   "cell_type": "code",
   "execution_count": 15,
   "id": "ca2d6001",
   "metadata": {},
   "outputs": [
    {
     "name": "stdout",
     "output_type": "stream",
     "text": [
      "['red', 'green', 'yellow', 'white']\n"
     ]
    }
   ],
   "source": [
    "colors = ['red', 'green', 'white', 'yellow', 'white']\n",
    "colors.remove('white')\n",
    "print(colors)"
   ]
  },
  {
   "cell_type": "markdown",
   "id": "95f11b6d",
   "metadata": {},
   "source": [
    "Метод **pop()** удаляет элемент по указанному индексу и возвращает его. В метод pop() передается один необязательный аргумент:\n",
    "\n",
    "index: индекс элемента, который требуется удалить.\n",
    "\n",
    "Если индекс не указан, то метод удаляет и возвращает последний элемент списка. \n",
    "Если список пуст или указан индекс за пределами диапазона, то во время выполнения происходит ошибка."
   ]
  },
  {
   "cell_type": "code",
   "execution_count": 18,
   "id": "91f1fb06",
   "metadata": {},
   "outputs": [],
   "source": [
    "colors = ['red', 'green', 'white', 'yellow']"
   ]
  },
  {
   "cell_type": "code",
   "execution_count": 23,
   "id": "748e61c4",
   "metadata": {},
   "outputs": [
    {
     "ename": "IndexError",
     "evalue": "pop from empty list",
     "output_type": "error",
     "traceback": [
      "\u001b[1;31m---------------------------------------------------------------------------\u001b[0m",
      "\u001b[1;31mIndexError\u001b[0m                                Traceback (most recent call last)",
      "Cell \u001b[1;32mIn[23], line 1\u001b[0m\n\u001b[1;32m----> 1\u001b[0m item \u001b[38;5;241m=\u001b[39m \u001b[43mcolors\u001b[49m\u001b[38;5;241;43m.\u001b[39;49m\u001b[43mpop\u001b[49m\u001b[43m(\u001b[49m\u001b[43m)\u001b[49m\n\u001b[0;32m      2\u001b[0m \u001b[38;5;28mprint\u001b[39m(item)\n\u001b[0;32m      3\u001b[0m \u001b[38;5;28mprint\u001b[39m(colors)\n",
      "\u001b[1;31mIndexError\u001b[0m: pop from empty list"
     ]
    }
   ],
   "source": [
    "item = colors.pop()\n",
    "print(item)\n",
    "print(colors)"
   ]
  },
  {
   "cell_type": "markdown",
   "id": "5f1ddbe2",
   "metadata": {},
   "source": [
    "Метод **count()** возвращает количество элементов в списке, значения которых равны переданному в метод значению. \n",
    "\n",
    "В метод передается один параметр:\n",
    "\n",
    "value: значение, количество элементов, равных которому,  нужно посчитать.\n",
    "\n",
    "Если значение в списке не найдено, то метод возвращает 0."
   ]
  },
  {
   "cell_type": "code",
   "execution_count": 24,
   "id": "15621810",
   "metadata": {},
   "outputs": [
    {
     "name": "stdout",
     "output_type": "stream",
     "text": [
      "1\n",
      "0\n",
      "3\n"
     ]
    }
   ],
   "source": [
    "colors = ['red', 'green', 'white', 'yellow', 'green', 'blue', 'green']\n",
    "cnt1 = colors.count('red')\n",
    "cnt2 = colors.count('violet')\n",
    "cnt3 = colors.count('green')\n",
    "\n",
    "print(cnt1)\n",
    "print(cnt2)\n",
    "print(cnt3)"
   ]
  },
  {
   "cell_type": "markdown",
   "id": "8fdcc6e6",
   "metadata": {},
   "source": [
    "Метод **reverse()** инвертирует порядок следования значений в списке, то есть меняет его на противоположный. in place\n",
    "\n",
    "Существует большая разница между вызовом метода names.reverse() и использованием среза [::-1]. \n",
    "\n",
    "Метод reverse() меняет порядок элементов на обратный в текущем списке, \n",
    "а срез создает копию списка, в котором элементы следуют в обратном порядке."
   ]
  },
  {
   "cell_type": "code",
   "execution_count": 28,
   "id": "a87860c7",
   "metadata": {},
   "outputs": [
    {
     "data": {
      "text/plain": [
       "['yellow', 'white', 'green', 'red']"
      ]
     },
     "execution_count": 28,
     "metadata": {},
     "output_type": "execute_result"
    }
   ],
   "source": [
    "colors = ['red', 'green', 'white', 'yellow']\n",
    "colors = colors[::-1]\n",
    "colors"
   ]
  },
  {
   "cell_type": "code",
   "execution_count": 26,
   "id": "5868343f",
   "metadata": {},
   "outputs": [
    {
     "name": "stdout",
     "output_type": "stream",
     "text": [
      "1947278344000 ['red', 'green', 'white', 'yellow']\n",
      "1947278344000 ['yellow', 'white', 'green', 'red']\n"
     ]
    }
   ],
   "source": [
    "colors = ['red', 'green', 'white', 'yellow']\n",
    "print(id(colors), colors) # id() возвращает уникальный id для указанного объекта (адрес памяти объекта) - отличается при каждом запуске программы.\n",
    "colors.reverse()\n",
    "print(id(colors), colors)"
   ]
  },
  {
   "cell_type": "code",
   "execution_count": 29,
   "id": "ea7ae327",
   "metadata": {},
   "outputs": [
    {
     "name": "stdout",
     "output_type": "stream",
     "text": [
      "1947313400128 ['red', 'green', 'white', 'yellow']\n",
      "1947313385792 ['yellow', 'white', 'green', 'red']\n",
      "1947313465664 ['yellow', 'white', 'green', 'red']\n"
     ]
    }
   ],
   "source": [
    "colors = ['red', 'green', 'white', 'yellow']\n",
    "print(id(colors), colors)\n",
    "colors_reversed = list(reversed(colors))\n",
    "print(id(colors_reversed), colors_reversed)\n",
    "print(id(colors[::-1]), colors[::-1])"
   ]
  },
  {
   "cell_type": "markdown",
   "id": "89ae95ad",
   "metadata": {},
   "source": [
    "Метод **sort** меняет состояние списка и расставляет элементы по возрастанию. in place"
   ]
  },
  {
   "cell_type": "code",
   "execution_count": 30,
   "id": "5f1d23cd",
   "metadata": {},
   "outputs": [
    {
     "name": "stdout",
     "output_type": "stream",
     "text": [
      "1947278264832 ['red', 'green', 'white', 'yellow']\n",
      "1947278264832 ['green', 'red', 'white', 'yellow']\n"
     ]
    }
   ],
   "source": [
    "colors = ['red', 'green', 'white', 'yellow']\n",
    "print(id(colors), colors)\n",
    "colors.sort()\n",
    "print(id(colors), colors)"
   ]
  },
  {
   "cell_type": "code",
   "execution_count": 31,
   "id": "cb75e92f",
   "metadata": {
    "scrolled": true
   },
   "outputs": [
    {
     "name": "stdout",
     "output_type": "stream",
     "text": [
      "1947313388992 ['red', 'green', 'white', 'yellow']\n",
      "1947313408256 ['green', 'red', 'white', 'yellow']\n"
     ]
    }
   ],
   "source": [
    "colors = ['red', 'green', 'white', 'yellow']\n",
    "print(id(colors), colors)\n",
    "colors_sorted = list(sorted(colors))\n",
    "print(id(colors_sorted), colors_sorted)"
   ]
  },
  {
   "cell_type": "markdown",
   "id": "342627b6",
   "metadata": {},
   "source": [
    "Метод clear() удаляет все элементы из списка."
   ]
  },
  {
   "cell_type": "code",
   "execution_count": 32,
   "id": "6ba76f59",
   "metadata": {},
   "outputs": [
    {
     "name": "stdout",
     "output_type": "stream",
     "text": [
      "[]\n"
     ]
    }
   ],
   "source": [
    "colors = ['red', 'green', 'white', 'yellow']\n",
    "colors.clear()\n",
    "print(colors)"
   ]
  },
  {
   "cell_type": "markdown",
   "id": "f30442db",
   "metadata": {},
   "source": [
    "Индексация и срезы"
   ]
  },
  {
   "cell_type": "code",
   "execution_count": 34,
   "id": "1bee0153",
   "metadata": {},
   "outputs": [
    {
     "name": "stdout",
     "output_type": "stream",
     "text": [
      "['янв', 'мар', 'май']\n"
     ]
    }
   ],
   "source": [
    "year_months = ['янв', 'фев', 'мар', 'апр', 'май', 'июн', 'июл', 'авг', 'сен', 'окт', 'ноя', 'дек']\n",
    "first_quarter = year_months[0:6:2]\n",
    "print(first_quarter)"
   ]
  },
  {
   "cell_type": "code",
   "execution_count": 35,
   "id": "683a89fc",
   "metadata": {},
   "outputs": [
    {
     "name": "stdout",
     "output_type": "stream",
     "text": [
      "['янв', 'фев', 'мар']\n"
     ]
    }
   ],
   "source": [
    "other_first_quarter = year_months[: 3]\n",
    "print(other_first_quarter)"
   ]
  },
  {
   "cell_type": "code",
   "execution_count": 36,
   "id": "4ea27c9f",
   "metadata": {},
   "outputs": [
    {
     "data": {
      "text/plain": [
       "['апр', 'май', 'июн']"
      ]
     },
     "execution_count": 36,
     "metadata": {},
     "output_type": "execute_result"
    }
   ],
   "source": [
    "second_quarter = year_months[3:6]\n",
    "second_quarter"
   ]
  },
  {
   "cell_type": "code",
   "execution_count": null,
   "id": "1785836c",
   "metadata": {},
   "outputs": [],
   "source": [
    "# range(start, stop, step)\n",
    "# list[start: stop: step]"
   ]
  },
  {
   "cell_type": "code",
   "execution_count": 38,
   "id": "e4150925",
   "metadata": {},
   "outputs": [
    {
     "name": "stdout",
     "output_type": "stream",
     "text": [
      "['июл', 'авг', 'сен', 'окт', 'ноя', 'дек']\n"
     ]
    }
   ],
   "source": [
    "second_half_year = year_months[6:]  # second_half_year = year_months[6: 1000]\n",
    "print(second_half_year)"
   ]
  },
  {
   "cell_type": "code",
   "execution_count": 39,
   "id": "400dc08a",
   "metadata": {},
   "outputs": [
    {
     "name": "stdout",
     "output_type": "stream",
     "text": [
      "['янв', 'мар', 'май', 'июл', 'сен', 'ноя']\n"
     ]
    }
   ],
   "source": [
    "odd_months = year_months[:: 2]\n",
    "print(odd_months)"
   ]
  },
  {
   "cell_type": "code",
   "execution_count": 40,
   "id": "61f1d37a",
   "metadata": {},
   "outputs": [
    {
     "name": "stdout",
     "output_type": "stream",
     "text": [
      "['фев', 'апр', 'июн', 'авг', 'окт', 'дек']\n"
     ]
    }
   ],
   "source": [
    "even_months = year_months[1:: 2]\n",
    "print(even_months)"
   ]
  },
  {
   "cell_type": "code",
   "execution_count": 42,
   "id": "b9b0e7ac",
   "metadata": {},
   "outputs": [
    {
     "name": "stdout",
     "output_type": "stream",
     "text": [
      "ноя\n"
     ]
    }
   ],
   "source": [
    "even_months = year_months[-2]\n",
    "print(even_months)"
   ]
  },
  {
   "cell_type": "code",
   "execution_count": 46,
   "id": "be59969c",
   "metadata": {},
   "outputs": [
    {
     "name": "stdout",
     "output_type": "stream",
     "text": [
      "аяотк\n"
     ]
    }
   ],
   "source": [
    "my_str = 'Какая-то строка'\n",
    "print(my_str[1::3])"
   ]
  },
  {
   "cell_type": "markdown",
   "id": "e645366b",
   "metadata": {},
   "source": [
    "Метод **copy()** создает поверхностную копию списка."
   ]
  },
  {
   "cell_type": "code",
   "execution_count": 55,
   "id": "d9d4e9a9",
   "metadata": {},
   "outputs": [
    {
     "name": "stdout",
     "output_type": "stream",
     "text": [
      "['red', 'green', 'white', 'yellow']\n",
      "['red', 'green', 'white', 'yellow']\n"
     ]
    }
   ],
   "source": [
    "colors = ['red', 'green', 'white', 'yellow']\n",
    "colors_copy = colors.copy()\n",
    "\n",
    "print(colors)\n",
    "print(colors_copy)"
   ]
  },
  {
   "cell_type": "code",
   "execution_count": 56,
   "id": "7794d536",
   "metadata": {},
   "outputs": [],
   "source": [
    "colors_copy[0] = 1"
   ]
  },
  {
   "cell_type": "code",
   "execution_count": 57,
   "id": "5d488de8",
   "metadata": {},
   "outputs": [
    {
     "data": {
      "text/plain": [
       "[1, 'green', 'white', 'yellow']"
      ]
     },
     "execution_count": 57,
     "metadata": {},
     "output_type": "execute_result"
    }
   ],
   "source": [
    "colors_copy"
   ]
  },
  {
   "cell_type": "code",
   "execution_count": 58,
   "id": "0127c297",
   "metadata": {},
   "outputs": [
    {
     "data": {
      "text/plain": [
       "['red', 'green', 'white', 'yellow']"
      ]
     },
     "execution_count": 58,
     "metadata": {},
     "output_type": "execute_result"
    }
   ],
   "source": [
    "colors"
   ]
  },
  {
   "cell_type": "code",
   "execution_count": 59,
   "id": "7d0ad773",
   "metadata": {},
   "outputs": [],
   "source": [
    "colors = [[1, 2], 'red', 'green', 'white', 'yellow']\n",
    "colors_copy = colors.copy()"
   ]
  },
  {
   "cell_type": "code",
   "execution_count": 62,
   "id": "bab2d44c",
   "metadata": {},
   "outputs": [
    {
     "data": {
      "text/plain": [
       "1"
      ]
     },
     "execution_count": 62,
     "metadata": {},
     "output_type": "execute_result"
    }
   ],
   "source": [
    "colors_copy[0][0]"
   ]
  },
  {
   "cell_type": "code",
   "execution_count": 63,
   "id": "14da281d",
   "metadata": {},
   "outputs": [
    {
     "data": {
      "text/plain": [
       "[['red', 2], 'red', 'green', 'white', 'yellow']"
      ]
     },
     "execution_count": 63,
     "metadata": {},
     "output_type": "execute_result"
    }
   ],
   "source": [
    "colors_copy[0][0] = 'red'\n",
    "colors_copy"
   ]
  },
  {
   "cell_type": "code",
   "execution_count": 64,
   "id": "06a5a677",
   "metadata": {},
   "outputs": [
    {
     "data": {
      "text/plain": [
       "[['red', 2], 'red', 'green', 'white', 'yellow']"
      ]
     },
     "execution_count": 64,
     "metadata": {},
     "output_type": "execute_result"
    }
   ],
   "source": [
    "colors"
   ]
  },
  {
   "cell_type": "code",
   "execution_count": null,
   "id": "98350793",
   "metadata": {},
   "outputs": [],
   "source": []
  },
  {
   "cell_type": "code",
   "execution_count": null,
   "id": "e351589a",
   "metadata": {},
   "outputs": [],
   "source": []
  },
  {
   "cell_type": "code",
   "execution_count": 48,
   "id": "68ad2f49",
   "metadata": {},
   "outputs": [],
   "source": [
    "colors = ['red', 'green', 'white', 'yellow']\n",
    "c_colors = colors"
   ]
  },
  {
   "cell_type": "code",
   "execution_count": 49,
   "id": "05bb417e",
   "metadata": {},
   "outputs": [
    {
     "data": {
      "text/plain": [
       "['red', 'green', 'white', 'yellow']"
      ]
     },
     "execution_count": 49,
     "metadata": {},
     "output_type": "execute_result"
    }
   ],
   "source": [
    "colors"
   ]
  },
  {
   "cell_type": "code",
   "execution_count": 50,
   "id": "3646d3ec",
   "metadata": {},
   "outputs": [
    {
     "data": {
      "text/plain": [
       "['red', 'green', 'white', 'yellow']"
      ]
     },
     "execution_count": 50,
     "metadata": {},
     "output_type": "execute_result"
    }
   ],
   "source": [
    "c_colors"
   ]
  },
  {
   "cell_type": "code",
   "execution_count": 52,
   "id": "64bc322a",
   "metadata": {},
   "outputs": [],
   "source": [
    "c_colors[0] = 1"
   ]
  },
  {
   "cell_type": "code",
   "execution_count": 53,
   "id": "afd0c89c",
   "metadata": {},
   "outputs": [
    {
     "data": {
      "text/plain": [
       "[1, 'green', 'white', 'yellow']"
      ]
     },
     "execution_count": 53,
     "metadata": {},
     "output_type": "execute_result"
    }
   ],
   "source": [
    "c_colors"
   ]
  },
  {
   "cell_type": "code",
   "execution_count": 54,
   "id": "df51ba7b",
   "metadata": {},
   "outputs": [
    {
     "data": {
      "text/plain": [
       "[1, 'green', 'white', 'yellow']"
      ]
     },
     "execution_count": 54,
     "metadata": {},
     "output_type": "execute_result"
    }
   ],
   "source": [
    "colors"
   ]
  },
  {
   "cell_type": "code",
   "execution_count": 77,
   "id": "167fe5da",
   "metadata": {},
   "outputs": [],
   "source": [
    "import math #math.factorial"
   ]
  },
  {
   "cell_type": "code",
   "execution_count": 72,
   "id": "a26e8428",
   "metadata": {},
   "outputs": [],
   "source": [
    "from math import factorial, sqrt, sin"
   ]
  },
  {
   "cell_type": "code",
   "execution_count": 65,
   "id": "ea455a24",
   "metadata": {},
   "outputs": [
    {
     "name": "stdout",
     "output_type": "stream",
     "text": [
      "Оригинальный словарь:\n",
      "{1: 5, 2: 6, 3: 7, 4: {10: 11}}\n"
     ]
    }
   ],
   "source": [
    "data = {1: 5, 2: 6, 3: 7, 4: {10: 11}}\n",
    "print(\"Оригинальный словарь:\")\n",
    "print(data)"
   ]
  },
  {
   "cell_type": "code",
   "execution_count": 76,
   "id": "e1eb8d91",
   "metadata": {},
   "outputs": [
    {
     "name": "stdout",
     "output_type": "stream",
     "text": [
      "Копия словаря:\n",
      "{1: 5, 2: 6, 3: 7, 4: {8: 99}}\n"
     ]
    }
   ],
   "source": [
    "new_data = deepcopy(data)\n",
    "print(\"Копия словаря:\")\n",
    "print(new_data)"
   ]
  },
  {
   "cell_type": "code",
   "execution_count": 69,
   "id": "31f5f2a2",
   "metadata": {},
   "outputs": [
    {
     "name": "stdout",
     "output_type": "stream",
     "text": [
      "Оригинальный словарь:\n",
      "{1: 5, 2: 6, 3: 7, 4: {8: 9}}\n",
      "Копия словаря:\n",
      "{1: 5, 2: 6, 3: 7, 4: {8: 9}}\n",
      "Оригинал после изменения:\n",
      "{1: 5, 2: 6, 3: 7, 4: {8: 99}}\n",
      "Копия после изменения:\n",
      "{1: 5, 2: 6, 3: 7, 4: {8: 9}}\n"
     ]
    }
   ],
   "source": [
    "import copy\n",
    "\n",
    "data = {1: 5, 2: 6, 3: 7, 4: {8: 9}}\n",
    "print(\"Оригинальный словарь:\")\n",
    "print(data)\n",
    "new_data = copy.deepcopy(data)\n",
    "print(\"Копия словаря:\")\n",
    "print(new_data)\n",
    "data[4][8] = 99\n",
    "print(\"Оригинал после изменения:\")\n",
    "print(data)\n",
    "print(\"Копия после изменения:\")\n",
    "print(new_data)"
   ]
  },
  {
   "cell_type": "code",
   "execution_count": null,
   "id": "d2fc81b1",
   "metadata": {},
   "outputs": [],
   "source": []
  }
 ],
 "metadata": {
  "kernelspec": {
   "display_name": "Python 3 (ipykernel)",
   "language": "python",
   "name": "python3"
  },
  "language_info": {
   "codemirror_mode": {
    "name": "ipython",
    "version": 3
   },
   "file_extension": ".py",
   "mimetype": "text/x-python",
   "name": "python",
   "nbconvert_exporter": "python",
   "pygments_lexer": "ipython3",
   "version": "3.9.13"
  }
 },
 "nbformat": 4,
 "nbformat_minor": 5
}
