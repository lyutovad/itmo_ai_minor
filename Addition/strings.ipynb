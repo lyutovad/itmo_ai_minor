{
 "cells": [
  {
   "cell_type": "markdown",
   "id": "fbc67785",
   "metadata": {},
   "source": [
    "Метод **.split()**\n",
    "Первая задача: дан адрес “https://www.vavt.ru/main/site/vavt_schedule”. Нужно его распарсить — придать определённую структуру, понять, что есть что.\n",
    "Обычно при парсинге начинают с разделения исходной строки на части по определённой схеме. В нашем примере очевидно, что надо делить по слешу:\n",
    "url = 'https://www.vavt.ru/main/site/vavt_schedule'\n",
    "url_parts = url.split('/')\n",
    "print(url_parts)"
   ]
  },
  {
   "cell_type": "code",
   "execution_count": 1,
   "id": "1eea5318",
   "metadata": {},
   "outputs": [
    {
     "name": "stdout",
     "output_type": "stream",
     "text": [
      "['https:', '', 'www.vavt.ru', 'main', 'site', 'vavt_schedule']\n"
     ]
    }
   ],
   "source": [
    "url = 'https://www.vavt.ru/main/site/vavt_schedule'\n",
    "url_parts = url.split('/')\n",
    "print(url_parts)"
   ]
  },
  {
   "cell_type": "code",
   "execution_count": 4,
   "id": "a0af8685",
   "metadata": {},
   "outputs": [
    {
     "data": {
      "text/plain": [
       "['Метод .split() Первая задача: дан адрес “https://www.vavt.ru/main/site/vavt_schedule”',\n",
       " 'Нужно его распарсить — придать определённую структуру, понять, что есть что',\n",
       " 'Обычно при парсинге начинают с разделения исходной строки на части по определённой схеме',\n",
       " \"В нашем примере очевидно, что надо делить по слешу: url = 'https://www.vavt.ru/main/site/vavt_schedule' url_parts = url.split('/') print(url_parts)\"]"
      ]
     },
     "execution_count": 4,
     "metadata": {},
     "output_type": "execute_result"
    }
   ],
   "source": [
    "text = \"\"\"Метод .split() Первая задача: дан адрес “https://www.vavt.ru/main/site/vavt_schedule”. Нужно его распарсить — придать определённую структуру, понять, что есть что. Обычно при парсинге начинают с разделения исходной строки на части по определённой схеме. В нашем примере очевидно, что надо делить по слешу: url = 'https://www.vavt.ru/main/site/vavt_schedule' url_parts = url.split('/') print(url_parts)\"\"\"\n",
    "text.split('. ')"
   ]
  },
  {
   "cell_type": "code",
   "execution_count": 5,
   "id": "9c85f293",
   "metadata": {},
   "outputs": [],
   "source": [
    "url = 'https://www.vavt.ru/main/site/vavt_schedule'\n",
    "_t_protocol, _, domain, *resource_address = url.split('/')"
   ]
  },
  {
   "cell_type": "code",
   "execution_count": 7,
   "id": "82556758",
   "metadata": {},
   "outputs": [
    {
     "data": {
      "text/plain": [
       "'https:'"
      ]
     },
     "execution_count": 7,
     "metadata": {},
     "output_type": "execute_result"
    }
   ],
   "source": [
    "_t_protocol"
   ]
  },
  {
   "cell_type": "code",
   "execution_count": 8,
   "id": "73a254da",
   "metadata": {},
   "outputs": [
    {
     "data": {
      "text/plain": [
       "'www.vavt.ru'"
      ]
     },
     "execution_count": 8,
     "metadata": {},
     "output_type": "execute_result"
    }
   ],
   "source": [
    "domain"
   ]
  },
  {
   "cell_type": "code",
   "execution_count": 12,
   "id": "5b875b66",
   "metadata": {},
   "outputs": [
    {
     "data": {
      "text/plain": [
       "'https'"
      ]
     },
     "execution_count": 12,
     "metadata": {},
     "output_type": "execute_result"
    }
   ],
   "source": [
    "t_protocol = _t_protocol[:-1]\n",
    "t_protocol"
   ]
  },
  {
   "cell_type": "code",
   "execution_count": 13,
   "id": "c1878971",
   "metadata": {},
   "outputs": [
    {
     "data": {
      "text/plain": [
       "['main', 'site', 'vavt_schedule']"
      ]
     },
     "execution_count": 13,
     "metadata": {},
     "output_type": "execute_result"
    }
   ],
   "source": [
    "resource_address"
   ]
  },
  {
   "cell_type": "code",
   "execution_count": 14,
   "id": "359d8bec",
   "metadata": {},
   "outputs": [
    {
     "name": "stdout",
     "output_type": "stream",
     "text": [
      "https ['main', 'site', 'vavt_schedule']\n"
     ]
    }
   ],
   "source": [
    "print(t_protocol, resource_address)"
   ]
  },
  {
   "cell_type": "markdown",
   "id": "30ce80cf",
   "metadata": {},
   "source": [
    ".join()\n",
    "!!! он корректно склеивает последовательности, состоящие только из строк"
   ]
  },
  {
   "cell_type": "code",
   "execution_count": 15,
   "id": "65f4d39d",
   "metadata": {},
   "outputs": [
    {
     "name": "stdout",
     "output_type": "stream",
     "text": [
      "https://www.vavt.ru/main/site/vavt_schedule\n"
     ]
    }
   ],
   "source": [
    "raw_url = ['https:', '', 'www.vavt.ru', 'main', 'site', 'vavt_schedule']\n",
    "print('/'.join(raw_url))"
   ]
  },
  {
   "cell_type": "code",
   "execution_count": 16,
   "id": "63743993",
   "metadata": {},
   "outputs": [
    {
     "name": "stdout",
     "output_type": "stream",
     "text": [
      "https://www.vavt.ru/main/site/vavt_schedule\n"
     ]
    }
   ],
   "source": [
    "url = '/'.join(raw_url)\n",
    "print(url)"
   ]
  },
  {
   "cell_type": "code",
   "execution_count": 18,
   "id": "6465d8fe",
   "metadata": {},
   "outputs": [
    {
     "name": "stdout",
     "output_type": "stream",
     "text": [
      "https://www.vavt.ru/main/site/vavt_schedule/some_params\n"
     ]
    }
   ],
   "source": [
    "raw_url_2 = ['https:', '', 'www.vavt.ru', 'main', 'site', 'vavt_schedule', 'some_params']\n",
    "url_2 = '/'.join(raw_url_2)\n",
    "print(url_2)"
   ]
  },
  {
   "cell_type": "markdown",
   "id": "0f619711",
   "metadata": {},
   "source": [
    ".upper() и .lower() — вся строка переводится в верхний или нижний регистр:"
   ]
  },
  {
   "cell_type": "code",
   "execution_count": 20,
   "id": "fbe918f6",
   "metadata": {},
   "outputs": [
    {
     "name": "stdout",
     "output_type": "stream",
     "text": [
      "ТОВАРОВ В КОРЗИНЕ: 5\n",
      "товаров в корзине: 5\n"
     ]
    }
   ],
   "source": [
    "msg = 'Товаров в коРзине: 5'\n",
    "print(msg.upper())\n",
    "\n",
    "print(msg.lower())\n"
   ]
  },
  {
   "cell_type": "markdown",
   "id": "387c1cfd",
   "metadata": {},
   "source": [
    "Правим регистр: методы .title() и .capitalize() — либо у всех слов первая буква становится заглавной, либо только первая:"
   ]
  },
  {
   "cell_type": "code",
   "execution_count": 22,
   "id": "b4240995",
   "metadata": {},
   "outputs": [
    {
     "name": "stdout",
     "output_type": "stream",
     "text": [
      "Товаров В Корзине: 5. Стоимость: 4789,5 Руб.\n",
      "Товаров в корзине: 5. стоимость: 4789,5 руб.\n"
     ]
    }
   ],
   "source": [
    "msg = 'тОВАров в коРЗИНЕ: 5. стоимость: 4789,5 руб.'\n",
    "\n",
    "\n",
    "print(msg.title())  # Товаров В Корзине: 5. Стоимость: 4789,5 Руб.\n",
    "print(msg.capitalize())  # Товаров в корзине: 5. стоимость: 4789,5 руб.\n",
    "\n",
    "\n",
    "# print(msg[::-2])"
   ]
  },
  {
   "cell_type": "markdown",
   "id": "91fdfb9a",
   "metadata": {},
   "source": [
    "Реверс строк\n",
    "\n",
    "Для реверса строк используем срез с шагом -1:"
   ]
  },
  {
   "cell_type": "code",
   "execution_count": 37,
   "id": "7928b34a",
   "metadata": {},
   "outputs": [
    {
     "name": "stdout",
     "output_type": "stream",
     "text": [
      "...акортс              от-яакаК\n"
     ]
    }
   ],
   "source": [
    "msg = 'Какая-то              строка...'\n",
    "print(msg[::-1])\n"
   ]
  },
  {
   "cell_type": "code",
   "execution_count": 42,
   "id": "47bed2fa",
   "metadata": {},
   "outputs": [
    {
     "data": {
      "text/plain": [
       "'Какая-то строка...'"
      ]
     },
     "execution_count": 42,
     "metadata": {},
     "output_type": "execute_result"
    }
   ],
   "source": [
    "msg = msg.replace('  ', ' ')\n",
    "msg "
   ]
  },
  {
   "cell_type": "markdown",
   "id": "cbf1d094",
   "metadata": {},
   "source": [
    "### \\+ к ДЗ - для тренировки"
   ]
  },
  {
   "cell_type": "markdown",
   "id": "cd34c7d9",
   "metadata": {},
   "source": [
    "Дан список, содержащий искажённые данные с должностями и именами сотрудников:\n",
    "['инженер-конструктор Игорь', 'главный бухгалтер МАРИНА', 'токарь высшего разряда нИКОЛАй', 'директор аэлита']\n",
    "\n",
    "Известно, что имя сотрудника всегда в конце строки. Сформировать и вывести на экран фразы вида: 'Привет, Игорь!' Подумать, как получить имена сотрудников из элементов списка, как привести их к корректному виду. Можно ли при этом не создавать новый список?"
   ]
  },
  {
   "cell_type": "code",
   "execution_count": null,
   "id": "a4574763",
   "metadata": {},
   "outputs": [],
   "source": []
  }
 ],
 "metadata": {
  "kernelspec": {
   "display_name": "Python 3 (ipykernel)",
   "language": "python",
   "name": "python3"
  },
  "language_info": {
   "codemirror_mode": {
    "name": "ipython",
    "version": 3
   },
   "file_extension": ".py",
   "mimetype": "text/x-python",
   "name": "python",
   "nbconvert_exporter": "python",
   "pygments_lexer": "ipython3",
   "version": "3.9.13"
  }
 },
 "nbformat": 4,
 "nbformat_minor": 5
}
