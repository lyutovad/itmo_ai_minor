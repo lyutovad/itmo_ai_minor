{
 "cells": [
  {
   "cell_type": "code",
   "execution_count": 1,
   "id": "a0405f40",
   "metadata": {},
   "outputs": [
    {
     "name": "stdout",
     "output_type": "stream",
     "text": [
      "Создателем языка Python является Гвидо ван Россум\n",
      "Создателем языка C# является Андерс Хейлсберг\n",
      "Создателем языка Java является Джеймс Гослинг\n",
      "Создателем языка C++ является Бьёрн Страуструп\n"
     ]
    }
   ],
   "source": [
    "languages = ['Python', 'C#', 'Java', 'C++']\n",
    "creators = ['Гвидо ван Россум', 'Андерс Хейлсберг', 'Джеймс Гослинг', 'Бьёрн Страуструп']\n",
    "\n",
    "for i in range(len(languages)):\n",
    "    print('Создателем языка', languages[i], 'является', creators[i])"
   ]
  },
  {
   "cell_type": "code",
   "execution_count": 10,
   "id": "f9a547c8",
   "metadata": {},
   "outputs": [
    {
     "name": "stdout",
     "output_type": "stream",
     "text": [
      "Создателем языка Java является Джеймс Гослинг\n"
     ]
    }
   ],
   "source": [
    "languages = [('Python', 'Гвидо ван Россум'),\n",
    "             ('C#', 'Андерс Хейлсберг'),\n",
    "             ('Java', 'Джеймс Гослинг'),\n",
    "             ('C++', 'Бьёрн Страуструп')]\n",
    "\n",
    "print('Создателем языка', languages[2][0], 'является', languages[2][1])"
   ]
  },
  {
   "cell_type": "code",
   "execution_count": 11,
   "id": "718fd6cf",
   "metadata": {},
   "outputs": [
    {
     "name": "stdout",
     "output_type": "stream",
     "text": [
      "Создателем языка Java является Джеймс Гослинг\n"
     ]
    }
   ],
   "source": [
    "for item in languages:\n",
    "#     print(item)\n",
    "    if item[0] == 'Java':\n",
    "        print('Создателем языка', item[0], 'является', item[1])"
   ]
  },
  {
   "cell_type": "code",
   "execution_count": 8,
   "id": "cd297f93",
   "metadata": {},
   "outputs": [
    {
     "name": "stdout",
     "output_type": "stream",
     "text": [
      "Создателем языка Java является Джеймс Гослинг\n"
     ]
    }
   ],
   "source": [
    "languages = {'Python': 'Гвидо ван Россум',\n",
    "             'C#': 'Андерс Хейлсберг',\n",
    "             'Java': 'Джеймс Гослинг',\n",
    "             'C++': 'Бьёрн Страуструп'}\n",
    "\n",
    "print('Создателем языка Java является', languages['Java'])"
   ]
  },
  {
   "cell_type": "code",
   "execution_count": 12,
   "id": "fd897db8",
   "metadata": {},
   "outputs": [],
   "source": [
    "info = dict(name='Ivan', age=28, job='DS')  # ключи: 'name', 'age', 'job', значения: 'Ivan', 28, 'DS'"
   ]
  },
  {
   "cell_type": "code",
   "execution_count": 13,
   "id": "278bc7dd",
   "metadata": {},
   "outputs": [
    {
     "data": {
      "text/plain": [
       "{'name': 'Ivan', 'age': 28, 'job': 'DS'}"
      ]
     },
     "execution_count": 13,
     "metadata": {},
     "output_type": "execute_result"
    }
   ],
   "source": [
    "info"
   ]
  },
  {
   "cell_type": "code",
   "execution_count": 15,
   "id": "f353d0a2",
   "metadata": {},
   "outputs": [
    {
     "data": {
      "text/plain": [
       "{'name': 'Ivan', 'age': 28, 'job': 'DS'}"
      ]
     },
     "execution_count": 15,
     "metadata": {},
     "output_type": "execute_result"
    }
   ],
   "source": [
    "info_list = [('name', 'Ivan'), ('age', 28), ('job', 'DS')]  # список кортежей\n",
    "\n",
    "info_dict = dict(info_list)  # создаем словарь на основе списка кортежей\n",
    "info_dict"
   ]
  },
  {
   "cell_type": "code",
   "execution_count": 16,
   "id": "454be728",
   "metadata": {},
   "outputs": [],
   "source": [
    "info_tuple = (['name', 'Ivan'], ['age', 28], ['job', 'DS'])  # кортеж списков\n",
    "\n",
    "info_dict1 = dict(info_tuple)"
   ]
  },
  {
   "cell_type": "code",
   "execution_count": 17,
   "id": "8a8bcb9d",
   "metadata": {},
   "outputs": [
    {
     "name": "stdout",
     "output_type": "stream",
     "text": [
      "{'name': 'Ivan', 'age': 28, 'job': 'DS'}\n"
     ]
    }
   ],
   "source": [
    "print(info_dict1)"
   ]
  },
  {
   "cell_type": "code",
   "execution_count": null,
   "id": "dd6721a1",
   "metadata": {},
   "outputs": [],
   "source": [
    "# dict[key] = value"
   ]
  },
  {
   "cell_type": "code",
   "execution_count": 18,
   "id": "6c4afd51",
   "metadata": {},
   "outputs": [
    {
     "name": "stdout",
     "output_type": "stream",
     "text": [
      "{1: 1, 2: 4, 3: 9, 4: 16, 5: 25, 6: 36, 7: 49, 8: 64, 9: 81}\n"
     ]
    }
   ],
   "source": [
    "my_dict = {}\n",
    "for i in range(1, 10):\n",
    "    my_dict[i] = i**2\n",
    "print(my_dict)"
   ]
  },
  {
   "cell_type": "code",
   "execution_count": 34,
   "id": "9d48428a",
   "metadata": {},
   "outputs": [],
   "source": [
    "keys = ['name', 'age', 'job', 23, 54, 45]\n",
    "values = ['Ivan', 28, 'Teacher' ]"
   ]
  },
  {
   "cell_type": "code",
   "execution_count": 25,
   "id": "24073a64",
   "metadata": {},
   "outputs": [],
   "source": [
    "import itertools"
   ]
  },
  {
   "cell_type": "code",
   "execution_count": 35,
   "id": "d410cabc",
   "metadata": {},
   "outputs": [
    {
     "data": {
      "text/plain": [
       "{'name': 'Ivan', 'age': 28, 'job': 'Teacher', 23: None, 54: None, 45: None}"
      ]
     },
     "execution_count": 35,
     "metadata": {},
     "output_type": "execute_result"
    }
   ],
   "source": [
    "dict(itertools.zip_longest(keys, values))"
   ]
  },
  {
   "cell_type": "code",
   "execution_count": 36,
   "id": "8305407d",
   "metadata": {},
   "outputs": [
    {
     "name": "stdout",
     "output_type": "stream",
     "text": [
      "{'name': 'Ivan', 'age': 28, 'job': 'Teacher'}\n"
     ]
    }
   ],
   "source": [
    "info = dict(zip(keys, values))\n",
    "\n",
    "print(info)"
   ]
  },
  {
   "cell_type": "code",
   "execution_count": 42,
   "id": "e5d4cc4f",
   "metadata": {},
   "outputs": [
    {
     "name": "stdout",
     "output_type": "stream",
     "text": [
      "Россия\n",
      "Франция\n",
      "Чехия\n"
     ]
    }
   ],
   "source": [
    "capitals = {'Россия': 'Москва', 'Франция': 'Париж', 'Чехия': 'Прага'}\n",
    "\n",
    "for k in capitals.keys():     # итерируем по списку ['Россия', 'Франция', 'Чехия']\n",
    "    print(k)"
   ]
  },
  {
   "cell_type": "code",
   "execution_count": 43,
   "id": "177463f1",
   "metadata": {},
   "outputs": [
    {
     "name": "stdout",
     "output_type": "stream",
     "text": [
      "Москва\n",
      "Париж\n",
      "Прага\n"
     ]
    }
   ],
   "source": [
    "capitals = {'Россия': 'Москва', 'Франция': 'Париж', 'Чехия': 'Прага'}\n",
    "\n",
    "for val in capitals.values():     # итерируем по списку ['Москва', 'Париж', 'Прага']\n",
    "    print(val)"
   ]
  },
  {
   "cell_type": "code",
   "execution_count": 44,
   "id": "ae91cea7",
   "metadata": {},
   "outputs": [
    {
     "data": {
      "text/plain": [
       "['Москва', 'Париж', 'Прага']"
      ]
     },
     "execution_count": 44,
     "metadata": {},
     "output_type": "execute_result"
    }
   ],
   "source": [
    "list(capitals.values())"
   ]
  },
  {
   "cell_type": "code",
   "execution_count": 45,
   "id": "e08625ea",
   "metadata": {},
   "outputs": [
    {
     "name": "stdout",
     "output_type": "stream",
     "text": [
      "('Россия', 'Москва')\n",
      "('Франция', 'Париж')\n",
      "('Чехия', 'Прага')\n"
     ]
    }
   ],
   "source": [
    "capitals = {'Россия': 'Москва', 'Франция': 'Париж', 'Чехия': 'Прага'}\n",
    "\n",
    "for item in capitals.items():\n",
    "    print(item)"
   ]
  },
  {
   "cell_type": "code",
   "execution_count": 47,
   "id": "cbe81b48",
   "metadata": {},
   "outputs": [],
   "source": [
    "a, b = item"
   ]
  },
  {
   "cell_type": "code",
   "execution_count": 48,
   "id": "69ca492b",
   "metadata": {},
   "outputs": [
    {
     "data": {
      "text/plain": [
       "'Чехия'"
      ]
     },
     "execution_count": 48,
     "metadata": {},
     "output_type": "execute_result"
    }
   ],
   "source": [
    "a"
   ]
  },
  {
   "cell_type": "code",
   "execution_count": 49,
   "id": "ab561a59",
   "metadata": {},
   "outputs": [
    {
     "data": {
      "text/plain": [
       "'Прага'"
      ]
     },
     "execution_count": 49,
     "metadata": {},
     "output_type": "execute_result"
    }
   ],
   "source": [
    "b"
   ]
  },
  {
   "cell_type": "code",
   "execution_count": 51,
   "id": "cd81f1c8",
   "metadata": {},
   "outputs": [
    {
     "name": "stdout",
     "output_type": "stream",
     "text": [
      "Столицей Россия является Москва\n",
      "Столицей Франция является Париж\n",
      "Столицей Чехия является Прага\n"
     ]
    }
   ],
   "source": [
    "capitals = {'Россия': 'Москва', 'Франция': 'Париж', 'Чехия': 'Прага'}\n",
    "\n",
    "for key, value in capitals.items():\n",
    "    print(f'Столицей {key} является {value}')"
   ]
  },
  {
   "cell_type": "code",
   "execution_count": 55,
   "id": "7177db76",
   "metadata": {},
   "outputs": [
    {
     "name": "stdout",
     "output_type": "stream",
     "text": [
      "Россия\n",
      "Франция\n",
      "Чехия\n"
     ]
    }
   ],
   "source": [
    "capitals = {'Россия': 'Москва', 'Франция': 'Париж', 'Чехия': 'Прага'}\n",
    "\n",
    "print(*capitals, sep='\\n')  # распаковка ключей словаря"
   ]
  },
  {
   "cell_type": "markdown",
   "id": "e788d463",
   "metadata": {},
   "source": [
    "Сортировка по ключам выполняется с использованием функции sorted().\n"
   ]
  },
  {
   "cell_type": "code",
   "execution_count": 59,
   "id": "f05660c1",
   "metadata": {},
   "outputs": [
    {
     "name": "stdout",
     "output_type": "stream",
     "text": [
      "Англия\n",
      "Бразилия\n",
      "Россия\n",
      "Чехия\n"
     ]
    }
   ],
   "source": [
    "capitals = {'Россия': 'Москва', 'Англия': 'Лондон', 'Чехия': 'Прага', 'Бразилия':'Бразилиа'}\n",
    "\n",
    "for key in sorted(capitals):\n",
    "    print(key)"
   ]
  },
  {
   "cell_type": "markdown",
   "id": "127b73e3",
   "metadata": {},
   "source": [
    "Для сортировки словаря по значениям можно использовать функцию sorted() вместе с методом items().\n"
   ]
  },
  {
   "cell_type": "code",
   "execution_count": 62,
   "id": "205f0fd3",
   "metadata": {},
   "outputs": [
    {
     "name": "stdout",
     "output_type": "stream",
     "text": [
      "Бразилиа\n",
      "Лондон\n",
      "Москва\n",
      "Прага\n"
     ]
    }
   ],
   "source": [
    "capitals = {'Россия': 'Москва', 'Англия': 'Лондон', 'Чехия': 'Прага', 'Бразилия':'Бразилиа'}\n",
    "\n",
    "for key, value in sorted(capitals.items(), key = lambda x: x[1]):\n",
    "    print(value)"
   ]
  },
  {
   "cell_type": "code",
   "execution_count": 63,
   "id": "f3bb4bf0",
   "metadata": {},
   "outputs": [
    {
     "name": "stdout",
     "output_type": "stream",
     "text": [
      "В словаре есть ключ Россия\n"
     ]
    }
   ],
   "source": [
    "capitals = {'Россия': 'Москва', 'Франция': 'Париж', 'Чехия': 'Прага'}\n",
    "\n",
    "if 'Россия' in capitals:\n",
    "    print('В словаре есть ключ Россия')"
   ]
  },
  {
   "cell_type": "code",
   "execution_count": 64,
   "id": "f339e0dc",
   "metadata": {},
   "outputs": [
    {
     "name": "stdout",
     "output_type": "stream",
     "text": [
      "В словаре есть ключ Россия\n"
     ]
    }
   ],
   "source": [
    "country = 'Россия'\n",
    "# country = 'Китай'\n",
    "\n",
    "if country in capitals:\n",
    "    print(f'В словаре есть ключ {country}')"
   ]
  },
  {
   "cell_type": "code",
   "execution_count": 65,
   "id": "9b665241",
   "metadata": {},
   "outputs": [
    {
     "name": "stdout",
     "output_type": "stream",
     "text": [
      "В словаре есть значение Париж\n"
     ]
    }
   ],
   "source": [
    "capitals = {'Россия': 'Москва', 'Франция': 'Париж', 'Чехия': 'Прага'}\n",
    "\n",
    "if 'Париж' in capitals.values():\n",
    "    print('В словаре есть значение Париж')"
   ]
  },
  {
   "cell_type": "markdown",
   "id": "0c630110",
   "metadata": {},
   "source": [
    "Решим следующую задачу: пусть задан список чисел numbers, где некоторые числа встречаются неоднократно. Нужно узнать, сколько именно раз встречается каждое из чисел.\n"
   ]
  },
  {
   "cell_type": "code",
   "execution_count": 67,
   "id": "9e5431c4",
   "metadata": {},
   "outputs": [
    {
     "ename": "KeyError",
     "evalue": "9",
     "output_type": "error",
     "traceback": [
      "\u001b[1;31m---------------------------------------------------------------------------\u001b[0m",
      "\u001b[1;31mKeyError\u001b[0m                                  Traceback (most recent call last)",
      "Cell \u001b[1;32mIn[67], line 6\u001b[0m\n\u001b[0;32m      4\u001b[0m result \u001b[38;5;241m=\u001b[39m {}\n\u001b[0;32m      5\u001b[0m \u001b[38;5;28;01mfor\u001b[39;00m num \u001b[38;5;129;01min\u001b[39;00m numbers:\n\u001b[1;32m----> 6\u001b[0m     result[num] \u001b[38;5;241m+\u001b[39m\u001b[38;5;241m=\u001b[39m \u001b[38;5;241m1\u001b[39m\n\u001b[0;32m      8\u001b[0m result\n",
      "\u001b[1;31mKeyError\u001b[0m: 9"
     ]
    }
   ],
   "source": [
    "numbers = [9, 8, 32, 1, 10, 1, 10, 23, 1, 4, 10, 4, 2, 2, 2, 2, 1, 10, 1, 2, 2, 32, 23, 23]\n",
    "\n",
    "# ???\n",
    "# result = {}\n",
    "# for num in numbers:\n",
    "#     result[num] += 1\n",
    "\n",
    "# result"
   ]
  },
  {
   "cell_type": "code",
   "execution_count": 68,
   "id": "0e16e874",
   "metadata": {},
   "outputs": [
    {
     "name": "stdout",
     "output_type": "stream",
     "text": [
      "{9: 1, 8: 1, 32: 2, 1: 5, 10: 4, 23: 3, 4: 2, 2: 6}\n"
     ]
    }
   ],
   "source": [
    "numbers = [9, 8, 32, 1, 10, 1, 10, 23, 1, 4, 10, 4, 2, 2, 2, 2, 1, 10, 1, 2, 2, 32, 23, 23]\n",
    "\n",
    "result = {}\n",
    "for num in numbers:\n",
    "    if num not in result.keys():\n",
    "        result[num] = 1\n",
    "    else:\n",
    "        result[num] += 1\n",
    "\n",
    "print(result)"
   ]
  },
  {
   "cell_type": "code",
   "execution_count": 69,
   "id": "ef0e46e1",
   "metadata": {},
   "outputs": [
    {
     "name": "stdout",
     "output_type": "stream",
     "text": [
      "Bob\n"
     ]
    }
   ],
   "source": [
    "info = {'name': 'Bob',\n",
    "        'age': 25,\n",
    "        'job': 'Dev'}\n",
    "\n",
    "print(info['name'])"
   ]
  },
  {
   "cell_type": "code",
   "execution_count": 70,
   "id": "030c096d",
   "metadata": {},
   "outputs": [
    {
     "ename": "KeyError",
     "evalue": "'salary'",
     "output_type": "error",
     "traceback": [
      "\u001b[1;31m---------------------------------------------------------------------------\u001b[0m",
      "\u001b[1;31mKeyError\u001b[0m                                  Traceback (most recent call last)",
      "Cell \u001b[1;32mIn[70], line 5\u001b[0m\n\u001b[0;32m      1\u001b[0m info \u001b[38;5;241m=\u001b[39m {\u001b[38;5;124m'\u001b[39m\u001b[38;5;124mname\u001b[39m\u001b[38;5;124m'\u001b[39m: \u001b[38;5;124m'\u001b[39m\u001b[38;5;124mBob\u001b[39m\u001b[38;5;124m'\u001b[39m,\n\u001b[0;32m      2\u001b[0m         \u001b[38;5;124m'\u001b[39m\u001b[38;5;124mage\u001b[39m\u001b[38;5;124m'\u001b[39m: \u001b[38;5;241m25\u001b[39m,\n\u001b[0;32m      3\u001b[0m         \u001b[38;5;124m'\u001b[39m\u001b[38;5;124mjob\u001b[39m\u001b[38;5;124m'\u001b[39m: \u001b[38;5;124m'\u001b[39m\u001b[38;5;124mDev\u001b[39m\u001b[38;5;124m'\u001b[39m}\n\u001b[1;32m----> 5\u001b[0m \u001b[38;5;28mprint\u001b[39m(\u001b[43minfo\u001b[49m\u001b[43m[\u001b[49m\u001b[38;5;124;43m'\u001b[39;49m\u001b[38;5;124;43msalary\u001b[39;49m\u001b[38;5;124;43m'\u001b[39;49m\u001b[43m]\u001b[49m) \u001b[38;5;66;03m# ошибка\u001b[39;00m\n",
      "\u001b[1;31mKeyError\u001b[0m: 'salary'"
     ]
    }
   ],
   "source": [
    "info = {'name': 'Bob',\n",
    "        'age': 25,\n",
    "        'job': 'Dev'}\n",
    "\n",
    "print(info['salary']) # ошибка"
   ]
  },
  {
   "cell_type": "code",
   "execution_count": 71,
   "id": "a2d7cc25",
   "metadata": {},
   "outputs": [
    {
     "name": "stdout",
     "output_type": "stream",
     "text": [
      "None\n",
      "Информации о зарплате нет\n"
     ]
    }
   ],
   "source": [
    "info = {'name': 'Bob',\n",
    "        'age': 25,\n",
    "        'job': 'Dev'}\n",
    "\n",
    "item1 = info.get('salary')\n",
    "item2 = info.get('salary', 'Информации о зарплате нет') # значение, которое вернется, если заданного ключа нет\n",
    "\n",
    "print(item1)\n",
    "print(item2)"
   ]
  },
  {
   "cell_type": "code",
   "execution_count": 72,
   "id": "d36d7721",
   "metadata": {},
   "outputs": [
    {
     "data": {
      "text/plain": [
       "'Bob'"
      ]
     },
     "execution_count": 72,
     "metadata": {},
     "output_type": "execute_result"
    }
   ],
   "source": [
    "info.get('name')"
   ]
  },
  {
   "cell_type": "code",
   "execution_count": 73,
   "id": "c39ef2b2",
   "metadata": {},
   "outputs": [
    {
     "name": "stdout",
     "output_type": "stream",
     "text": [
      "{9: 1, 8: 1, 32: 2, 1: 5, 10: 4, 23: 3, 4: 2, 2: 6}\n"
     ]
    }
   ],
   "source": [
    "numbers = [9, 8, 32, 1, 10, 1, 10, 23, 1, 4, 10, 4, 2, 2, 2, 2, 1, 10, 1, 2, 2, 32, 23, 23]\n",
    "\n",
    "result = {}\n",
    "for num in numbers:\n",
    "    result[num] = result.get(num, 0) + 1\n",
    "print(result)"
   ]
  },
  {
   "cell_type": "markdown",
   "id": "4494ea55",
   "metadata": {},
   "source": [
    "Метод update() – реализует своеобразную операцию конкатенации для словарей. \n",
    "Он объединяет ключи и значения одного словаря с ключами и значениями другого. \n",
    "При совпадении ключей в итоге сохранится значение словаря, указанного в качестве аргумента метода update().\n"
   ]
  },
  {
   "cell_type": "code",
   "execution_count": 81,
   "id": "900de328",
   "metadata": {},
   "outputs": [
    {
     "name": "stdout",
     "output_type": "stream",
     "text": [
      "{'name': 'Bob', 'age': 30, 'job': 'qweqr', 'city': 'New York', 'email': 'bob@web.com'}\n"
     ]
    }
   ],
   "source": [
    "info1 = {'name': 'Bob',\n",
    "        'age': 25,\n",
    "        'job': 'Dev'}\n",
    "\n",
    "info2 = {'age': 30,\n",
    "        'city': 'New York',\n",
    "        'email': 'bob@web.com'}\n",
    "\n",
    "info1.update(info2)\n",
    "\n",
    "print(info1)"
   ]
  },
  {
   "cell_type": "code",
   "execution_count": 77,
   "id": "c3253c07",
   "metadata": {},
   "outputs": [
    {
     "name": "stdout",
     "output_type": "stream",
     "text": [
      "{'name': 'Bob', 'age': 30, 'job': 'Dev', 'city': 'New York', 'email': 'bob@web.com'}\n"
     ]
    }
   ],
   "source": [
    "info1 = {'name': 'Bob',\n",
    "        'age': 25,\n",
    "        'job': 'Dev'}\n",
    "\n",
    "info2 = {'age': 30,\n",
    "        'city': 'New York',\n",
    "        'email': 'bob@web.com'}\n",
    "\n",
    "info1 |= info2\n",
    "\n",
    "print(info1)"
   ]
  },
  {
   "cell_type": "markdown",
   "id": "27473a2f",
   "metadata": {},
   "source": [
    "\n",
    "Метод setdefault() позволяет получить значение из словаря по заданному ключу, автоматически добавляя элемент словаря, если он отсутствует\n",
    "key: ключ, значение по которому следует получить, если таковое имеется в словаре, либо создать.\n",
    "default: значение, которое будет использовано при добавлении нового элемента в словарь.\n",
    "В зависимости от значений параметров key и default возможны следующие сценарии работы данного метода.\n",
    "\n",
    "Сценарий 1. Если ключ key присутствует в словаре, то метод возвращает значение по заданному ключу (независимо от того, передан параметр default или нет).\n",
    "\n",
    "Сценарий 2. Если ключ key отсутствует в словаре, то метод вставляет переданное значение default по заданному ключу.\n"
   ]
  },
  {
   "cell_type": "code",
   "execution_count": 83,
   "id": "63e4ea39",
   "metadata": {},
   "outputs": [
    {
     "name": "stdout",
     "output_type": "stream",
     "text": [
      "Bob\n",
      "Bob\n"
     ]
    }
   ],
   "source": [
    "info = {'name': 'Bob',\n",
    "        'age': 25}\n",
    "\n",
    "name1 = info.setdefault('name')           # параметр default не задан\n",
    "name2 = info.setdefault('name', 'Max')    # параметр default задан\n",
    "\n",
    "print(name1)\n",
    "print(name2)"
   ]
  },
  {
   "cell_type": "code",
   "execution_count": 84,
   "id": "ba9b7ab3",
   "metadata": {},
   "outputs": [
    {
     "name": "stdout",
     "output_type": "stream",
     "text": [
      "{'name': 'Bob', 'age': 25, 'job': 'Dev'}\n",
      "Dev\n"
     ]
    }
   ],
   "source": [
    "info = {'name': 'Bob',\n",
    "        'age': 25}\n",
    "\n",
    "job = info.setdefault('job', 'Dev')\n",
    "print(info)\n",
    "print(job)"
   ]
  },
  {
   "cell_type": "code",
   "execution_count": 85,
   "id": "b90c7d7a",
   "metadata": {},
   "outputs": [
    {
     "name": "stdout",
     "output_type": "stream",
     "text": [
      "{'name': 'Bob', 'age': 25, 'job': None}\n",
      "None\n"
     ]
    }
   ],
   "source": [
    "info = {'name': 'Bob',\n",
    "        'age': 25}\n",
    "\n",
    "job = info.setdefault('job') # параметр default не задан\n",
    "print(info)\n",
    "print(job)"
   ]
  },
  {
   "cell_type": "markdown",
   "id": "26d9a138",
   "metadata": {},
   "source": [
    "С помощью оператора del можно удалять элементы словаря по определенному ключу.\n"
   ]
  },
  {
   "cell_type": "code",
   "execution_count": 86,
   "id": "1e0ce5fd",
   "metadata": {},
   "outputs": [
    {
     "name": "stdout",
     "output_type": "stream",
     "text": [
      "{'name': 'Sam', 'age': 28}\n"
     ]
    }
   ],
   "source": [
    "info = {'name': 'Sam',\n",
    "        'age': 28,\n",
    "        'job': 'Teacher',\n",
    "        'email': 'timyr-guev@yandex.ru'}\n",
    "\n",
    "del info['email']    # удаляем элемент имеющий ключ email\n",
    "del info['job']      # удаляем элемент имеющий ключ job\n",
    "\n",
    "print(info)"
   ]
  },
  {
   "cell_type": "markdown",
   "id": "88d271e8",
   "metadata": {},
   "source": [
    "Оператор del удаляет из словаря элемент по заданному ключу вместе с его значением. \n",
    "Если требуется получить само значение удаляемого элемента, то нужен метод pop().\n"
   ]
  },
  {
   "cell_type": "code",
   "execution_count": 87,
   "id": "9b87bf35",
   "metadata": {},
   "outputs": [
    {
     "name": "stdout",
     "output_type": "stream",
     "text": [
      "samv@yandex.ru\n",
      "Teacher\n",
      "{'name': 'Sam', 'age': 28}\n"
     ]
    }
   ],
   "source": [
    "info = {'name': 'Sam',\n",
    "        'age': 28,\n",
    "        'job': 'Teacher',\n",
    "        'email': 'samv@yandex.ru'}\n",
    "\n",
    "email = info.pop('email')          # удаляем элемент по ключу email, возвращая его значение\n",
    "job = info.pop('job')              # удаляем элемент по ключу job, возвращая его значение\n",
    "\n",
    "print(email)\n",
    "print(job)\n",
    "print(info)"
   ]
  },
  {
   "cell_type": "code",
   "execution_count": 89,
   "id": "a7875653",
   "metadata": {},
   "outputs": [],
   "source": [
    "# surname = info.pop('surname')"
   ]
  },
  {
   "cell_type": "markdown",
   "id": "b48a7c40",
   "metadata": {},
   "source": [
    "Чтобы ошибка не появлялась, этому методу можно передать второй аргумент. \n",
    "Он будет возвращен, если указанного ключа в словаре нет. Это позволяет реализовать безопасное удаление элемента из словаря:\n"
   ]
  },
  {
   "cell_type": "code",
   "execution_count": 92,
   "id": "74ec1a0d",
   "metadata": {},
   "outputs": [
    {
     "data": {
      "text/plain": [
       "1"
      ]
     },
     "execution_count": 92,
     "metadata": {},
     "output_type": "execute_result"
    }
   ],
   "source": [
    "surname = info.pop('surname', None)\n",
    "surname"
   ]
  },
  {
   "cell_type": "markdown",
   "id": "d471b05c",
   "metadata": {},
   "source": [
    "\n",
    "Метод popitem() удаляет из словаря последний добавленный элемент и возвращает удаляемый элемент в виде кортежа (ключ, значение).\n"
   ]
  },
  {
   "cell_type": "code",
   "execution_count": null,
   "id": "98c05695",
   "metadata": {},
   "outputs": [],
   "source": [
    "info = {'name': 'Bob',\n",
    "     'age': 25,\n",
    "     'job': 'Dev'}\n",
    "\n",
    "info['surname'] = 'Sinclar'\n",
    "\n",
    "item = info.popitem()\n",
    "\n",
    "print(item)\n",
    "print(info)"
   ]
  },
  {
   "cell_type": "markdown",
   "id": "dfc08480",
   "metadata": {},
   "source": [
    "\n",
    "Метод clear() удаляет все элементы из словаря.\n"
   ]
  },
  {
   "cell_type": "code",
   "execution_count": null,
   "id": "374f34c1",
   "metadata": {},
   "outputs": [],
   "source": [
    "info = {'name': 'Bob',\n",
    "        'age': 25,\n",
    "        'job': 'Dev'}\n",
    "\n",
    "info.clear()\n",
    "\n",
    "print(info)"
   ]
  },
  {
   "cell_type": "markdown",
   "id": "44bc3e2b",
   "metadata": {},
   "source": [
    "\n",
    "Метод copy() создает поверхностную копию словаря.\n"
   ]
  },
  {
   "cell_type": "code",
   "execution_count": 93,
   "id": "6b8824c1",
   "metadata": {},
   "outputs": [
    {
     "name": "stdout",
     "output_type": "stream",
     "text": [
      "{'name': 'Tim', 'age': 25, 'job': 'Dev'}\n"
     ]
    }
   ],
   "source": [
    "info = {'name': 'Bob',\n",
    "        'age': 25,\n",
    "        'job': 'Dev'}\n",
    "\n",
    "new_info = info\n",
    "new_info['name'] = 'Tim'\n",
    "\n",
    "print(info)"
   ]
  },
  {
   "cell_type": "code",
   "execution_count": 94,
   "id": "81a9ad02",
   "metadata": {},
   "outputs": [
    {
     "name": "stdout",
     "output_type": "stream",
     "text": [
      "{'name': 'Bob', 'age': 25, 'job': 'Dev'}\n",
      "{'name': 'Tim', 'age': 25, 'job': 'Dev'}\n"
     ]
    }
   ],
   "source": [
    "info = {'name': 'Bob',\n",
    "        'age': 25,\n",
    "        'job': 'Dev'}\n",
    "\n",
    "new_info = info.copy()\n",
    "new_info['name'] = 'Tim'\n",
    "\n",
    "print(info)\n",
    "print(new_info)"
   ]
  },
  {
   "cell_type": "markdown",
   "id": "eb016d2f",
   "metadata": {},
   "source": [
    "\n",
    "Словарь можно использовать вместо нескольких вложенных условий, если вам нужно проверить число на равенство. Например вместо\n"
   ]
  },
  {
   "cell_type": "code",
   "execution_count": 95,
   "id": "ed3539a2",
   "metadata": {},
   "outputs": [
    {
     "name": "stdout",
     "output_type": "stream",
     "text": [
      "Введите число: 2\n",
      "Two\n"
     ]
    }
   ],
   "source": [
    "num = int(input('Введите число: '))\n",
    "\n",
    "if num == 1:\n",
    "    description = 'One'\n",
    "elif num == 2:\n",
    "    description = 'Two'\n",
    "elif num == 3:\n",
    "    description = 'Three'\n",
    "else:\n",
    "    description = 'Unknown'\n",
    "\n",
    "print(description)"
   ]
  },
  {
   "cell_type": "code",
   "execution_count": 97,
   "id": "06ae1009",
   "metadata": {},
   "outputs": [
    {
     "name": "stdout",
     "output_type": "stream",
     "text": [
      "Введите число: 6\n",
      "Unknown\n"
     ]
    }
   ],
   "source": [
    "num = int(input('Введите число: '))\n",
    "\n",
    "description = {1: 'One', 2: 'Two', 3: 'Three'}\n",
    "\n",
    "print(description.get(num, 'Unknown'))"
   ]
  },
  {
   "cell_type": "code",
   "execution_count": 98,
   "id": "aea644c4",
   "metadata": {},
   "outputs": [
    {
     "name": "stdout",
     "output_type": "stream",
     "text": [
      "{'name': 'Ivan', 'age': 28, 'job': 'Teacher'}\n"
     ]
    }
   ],
   "source": [
    "keys = ['name', 'age', 'job']\n",
    "values = ['Ivan', 28, 'Teacher', 23]\n",
    "\n",
    "info = dict(zip(keys, values))\n",
    "\n",
    "print(info)"
   ]
  },
  {
   "cell_type": "code",
   "execution_count": null,
   "id": "38e90820",
   "metadata": {},
   "outputs": [],
   "source": []
  }
 ],
 "metadata": {
  "kernelspec": {
   "display_name": "Python 3 (ipykernel)",
   "language": "python",
   "name": "python3"
  },
  "language_info": {
   "codemirror_mode": {
    "name": "ipython",
    "version": 3
   },
   "file_extension": ".py",
   "mimetype": "text/x-python",
   "name": "python",
   "nbconvert_exporter": "python",
   "pygments_lexer": "ipython3",
   "version": "3.9.13"
  }
 },
 "nbformat": 4,
 "nbformat_minor": 5
}
