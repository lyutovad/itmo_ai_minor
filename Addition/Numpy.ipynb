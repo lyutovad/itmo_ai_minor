{
 "cells": [
  {
   "cell_type": "markdown",
   "id": "c3013177",
   "metadata": {
    "id": "JcZig5sTgRJM"
   },
   "source": [
    "## NumPy\n",
    "\n",
    "NumPy (сокращенно от Numerical Python)— библиотека с открытым исходным кодом для языка программирования Python. \n",
    "\n",
    "Возможности:\n",
    "\n",
    "* поддержка многомерных массивов (включая матрицы);\n",
    "* поддержка высокоуровневых математических функций, предназначенных для работы с многомерными массивами.\n",
    "\n",
    "[Документация](https://numpy.org/doc/stable/user/index.html#user)"
   ]
  },
  {
   "cell_type": "markdown",
   "id": "b20fd882",
   "metadata": {
    "id": "5lHoHP9-g3VL"
   },
   "source": [
    "#### Установка"
   ]
  },
  {
   "cell_type": "code",
   "execution_count": 2,
   "id": "c25841c3",
   "metadata": {
    "id": "0w8AkQ3cg06d"
   },
   "outputs": [],
   "source": [
    "# !pip install numpy"
   ]
  },
  {
   "cell_type": "markdown",
   "id": "f6881183",
   "metadata": {
    "id": "qz6-oO0Lg5Kz"
   },
   "source": [
    "#### Импорт"
   ]
  },
  {
   "cell_type": "code",
   "execution_count": 5,
   "id": "017318b3",
   "metadata": {
    "id": "v7HtIkQ4fozz"
   },
   "outputs": [],
   "source": [
    "import numpy as np"
   ]
  },
  {
   "cell_type": "markdown",
   "id": "c41d8022",
   "metadata": {
    "id": "-p02bCAeiW5U"
   },
   "source": [
    "#### ndarray"
   ]
  },
  {
   "cell_type": "markdown",
   "id": "e28e6836",
   "metadata": {
    "id": "NoQi-MTygWEr"
   },
   "source": [
    "![Изображение](https://laboputer.github.io/assets/img/ml/python/numpy/1.JPG)\n",
    "    \n",
    "Массив — упорядоченная изменяемая структура данных, к элементам которой можно обратиться по индексу\n",
    "\n",
    "Основной объект NumPy является **ndarray** (n-dimensional array) - многомерный однородный массив с заранее заданным количеством элементов. \n",
    "* все объекты в нем одного размера или типа (тип данных определен другим объектом NumPy, который называется dtype (тип-данных)). Каждый ndarray ассоциирован только с одним типом dtype.\n",
    "* размер массива фиксирован, а это значит, что после создания объекта его уже нельзя поменять. Это поведение отличается от такового у списков Python, которые могут увеличиваться и уменьшаться в размерах.\n",
    "\n",
    "\n",
    "Основные атрибуты объекта numpy.ndarray в Python:\n",
    "\n",
    "1. .shape: Это кортеж, показывающий размеры массива по каждой оси. В данном случае (3, 5), что означает 3 строки и 5 столбцов.\n",
    "\n",
    "2. .ndim: Количество измерений или осей массива. Здесь 2, так как массив двумерный.\n",
    "\n",
    "3. .dtype: Тип данных элементов массива. В этом примере int32, что означает 32-битное целое число.\n",
    "\n",
    "4. .itemsize: Размер каждого элемента в байтах. Здесь 4 байта, что соответствует типу int32.\n",
    "\n",
    "5. .size: Общее количество элементов в массиве. В данном случае 15 (3 * 5).\n",
    "\n",
    "\n"
   ]
  },
  {
   "cell_type": "markdown",
   "id": "4d117ba7",
   "metadata": {
    "id": "G12KtBo8iUFr"
   },
   "source": [
    "**Создание ndarray**"
   ]
  },
  {
   "cell_type": "markdown",
   "id": "1d736e06",
   "metadata": {
    "id": "c7bznb-nipDj"
   },
   "source": [
    "Конвертация python-объектов"
   ]
  },
  {
   "cell_type": "code",
   "execution_count": 3,
   "id": "5dc4f892",
   "metadata": {
    "colab": {
     "base_uri": "https://localhost:8080/"
    },
    "id": "D7HvpgklgPJ2",
    "outputId": "0f5e3b81-be67-4091-9361-553ee1166776"
   },
   "outputs": [
    {
     "data": {
      "text/plain": [
       "array([1, 2, 3, 4])"
      ]
     },
     "execution_count": 3,
     "metadata": {},
     "output_type": "execute_result"
    }
   ],
   "source": [
    "np.array([1, 2, 3, 4]) # одномерный массив"
   ]
  },
  {
   "cell_type": "code",
   "execution_count": 4,
   "id": "372bb325",
   "metadata": {
    "colab": {
     "base_uri": "https://localhost:8080/"
    },
    "id": "_TkI7AStiJxM",
    "outputId": "3cfd1490-6b54-4bb5-b074-ba055709de62"
   },
   "outputs": [],
   "source": [
    "a = np.array([[1, 2], [3, 4]]) # двумерный массив"
   ]
  },
  {
   "cell_type": "markdown",
   "id": "f6e66c00",
   "metadata": {
    "id": "x6cGLCzLi1OS"
   },
   "source": [
    "Использование внутренних функций NumPy"
   ]
  },
  {
   "cell_type": "code",
   "execution_count": 5,
   "id": "0f133d33",
   "metadata": {
    "colab": {
     "base_uri": "https://localhost:8080/"
    },
    "id": "OzQlfmU0iJ0T",
    "outputId": "26ec3b38-a302-468f-a4ed-a39561888ff9"
   },
   "outputs": [
    {
     "data": {
      "text/plain": [
       "array([0, 1, 2, 3, 4, 5, 6, 7, 8, 9])"
      ]
     },
     "execution_count": 5,
     "metadata": {},
     "output_type": "execute_result"
    }
   ],
   "source": [
    "np.arange(10)"
   ]
  },
  {
   "cell_type": "code",
   "execution_count": 6,
   "id": "79c02b1e",
   "metadata": {
    "colab": {
     "base_uri": "https://localhost:8080/"
    },
    "id": "XXNNKFCyiJ3V",
    "outputId": "f026f49c-87a1-4693-aeac-8f75342e8810"
   },
   "outputs": [
    {
     "data": {
      "text/plain": [
       "array([2. , 2.5, 3. , 3.5, 4. , 4.5, 5. , 5.5, 6. , 6.5, 7. , 7.5, 8. ,\n",
       "       8.5, 9. , 9.5])"
      ]
     },
     "execution_count": 6,
     "metadata": {},
     "output_type": "execute_result"
    }
   ],
   "source": [
    "np.arange(2, 10, 0.5)"
   ]
  },
  {
   "cell_type": "code",
   "execution_count": 7,
   "id": "0a3fbf30",
   "metadata": {
    "colab": {
     "base_uri": "https://localhost:8080/"
    },
    "id": "XAvBRJcpiJ6F",
    "outputId": "541431cf-3808-4850-88fc-c4c9979ee918"
   },
   "outputs": [
    {
     "data": {
      "text/plain": [
       "array([[1., 0., 0.],\n",
       "       [0., 1., 0.],\n",
       "       [0., 0., 1.]])"
      ]
     },
     "execution_count": 7,
     "metadata": {},
     "output_type": "execute_result"
    }
   ],
   "source": [
    "np.eye(3) #  Используется в линейной алгебре и матричных вычислениях."
   ]
  },
  {
   "cell_type": "code",
   "execution_count": 8,
   "id": "a7d4ead2",
   "metadata": {
    "colab": {
     "base_uri": "https://localhost:8080/"
    },
    "id": "zhox_3ZUjKNy",
    "outputId": "bf9f95a9-62ad-416f-ba17-e3d3ae346ced"
   },
   "outputs": [
    {
     "data": {
      "text/plain": [
       "array([[0., 0., 0.],\n",
       "       [0., 0., 0.]])"
      ]
     },
     "execution_count": 8,
     "metadata": {},
     "output_type": "execute_result"
    }
   ],
   "source": [
    "np.zeros((2, 3)) #Полезна для инициализации массивов перед вычислениями."
   ]
  },
  {
   "cell_type": "code",
   "execution_count": 9,
   "id": "931cec0d",
   "metadata": {
    "colab": {
     "base_uri": "https://localhost:8080/"
    },
    "id": "CJh_1yfrjROY",
    "outputId": "d3690f99-7e0c-41e0-db13-d5e99bfe2782"
   },
   "outputs": [
    {
     "data": {
      "text/plain": [
       "array([[1., 1., 1.],\n",
       "       [1., 1., 1.]])"
      ]
     },
     "execution_count": 9,
     "metadata": {},
     "output_type": "execute_result"
    }
   ],
   "source": [
    "np.ones((2, 3)) # Часто используется в математических операциях."
   ]
  },
  {
   "cell_type": "code",
   "execution_count": 10,
   "id": "0b6c2650",
   "metadata": {
    "colab": {
     "base_uri": "https://localhost:8080/"
    },
    "id": "1H2t3LupjRRb",
    "outputId": "e2052d96-6f20-49af-d16a-15fd0b85043a"
   },
   "outputs": [
    {
     "data": {
      "text/plain": [
       "array([[0.17726262, 0.47049182],\n",
       "       [0.3376185 , 0.38136018],\n",
       "       [0.55130379, 0.47545845]])"
      ]
     },
     "execution_count": 10,
     "metadata": {},
     "output_type": "execute_result"
    }
   ],
   "source": [
    "np.random.rand(3, 2) # Полезна для статистических расчетов, симуляций и инициализации весов в машинном обучении."
   ]
  },
  {
   "cell_type": "markdown",
   "id": "ba60ca1f",
   "metadata": {},
   "source": [
    "Эти функции важны для:\n",
    "\n",
    "1. Быстрой инициализации массивов с определенными свойствами\n",
    "2. Создания тестовых данных\n",
    "3. Выполнения матричных операций\n",
    "4. Работы с алгоритмами машинного обучения и статистики\n",
    "\n",
    "Они позволяют эффективно создавать структурированные данные для различных научных и инженерных задач."
   ]
  },
  {
   "cell_type": "markdown",
   "id": "1c424273",
   "metadata": {
    "id": "-3mAyc5gj8Hj"
   },
   "source": [
    "**Обращение по индексу**"
   ]
  },
  {
   "cell_type": "code",
   "execution_count": 6,
   "id": "769c574e",
   "metadata": {
    "colab": {
     "base_uri": "https://localhost:8080/"
    },
    "id": "THUZ6JcPjRUf",
    "outputId": "b5dd70d6-e80d-4862-cd70-150bb3ccddb2"
   },
   "outputs": [
    {
     "data": {
      "text/plain": [
       "2"
      ]
     },
     "execution_count": 6,
     "metadata": {},
     "output_type": "execute_result"
    }
   ],
   "source": [
    "np_array = np.array([1, 2, 3, 4])\n",
    "np_array[1]"
   ]
  },
  {
   "cell_type": "code",
   "execution_count": 7,
   "id": "2c053b90",
   "metadata": {
    "colab": {
     "base_uri": "https://localhost:8080/"
    },
    "id": "wFoU5081jRW3",
    "outputId": "b9742fcb-306c-4c04-9cf4-167a2df7420c"
   },
   "outputs": [
    {
     "data": {
      "text/plain": [
       "array([[1, 2],\n",
       "       [3, 4]])"
      ]
     },
     "execution_count": 7,
     "metadata": {},
     "output_type": "execute_result"
    }
   ],
   "source": [
    "np_array = np.array([[1, 2], [3, 4]])\n",
    "np_array"
   ]
  },
  {
   "cell_type": "code",
   "execution_count": 8,
   "id": "22c567c8",
   "metadata": {
    "colab": {
     "base_uri": "https://localhost:8080/"
    },
    "id": "wFoU5081jRW3",
    "outputId": "b9742fcb-306c-4c04-9cf4-167a2df7420c"
   },
   "outputs": [
    {
     "data": {
      "text/plain": [
       "array([3, 4])"
      ]
     },
     "execution_count": 8,
     "metadata": {},
     "output_type": "execute_result"
    }
   ],
   "source": [
    "np_array[1]"
   ]
  },
  {
   "cell_type": "code",
   "execution_count": 9,
   "id": "22b8807a",
   "metadata": {
    "colab": {
     "base_uri": "https://localhost:8080/"
    },
    "id": "r70YKNJKkKEa",
    "outputId": "2fdc3e47-ac95-4ea4-d935-7a1f70f300ba"
   },
   "outputs": [
    {
     "data": {
      "text/plain": [
       "3"
      ]
     },
     "execution_count": 9,
     "metadata": {},
     "output_type": "execute_result"
    }
   ],
   "source": [
    "np_array[1, 0]"
   ]
  },
  {
   "cell_type": "code",
   "execution_count": 10,
   "id": "ecae2ad1",
   "metadata": {
    "colab": {
     "base_uri": "https://localhost:8080/"
    },
    "id": "Wv9t3HXWkNAm",
    "outputId": "8ae5e1d2-954f-4fef-92cb-c246a6d084ac"
   },
   "outputs": [
    {
     "data": {
      "text/plain": [
       "3"
      ]
     },
     "execution_count": 10,
     "metadata": {},
     "output_type": "execute_result"
    }
   ],
   "source": [
    "np_array[1][0]"
   ]
  },
  {
   "cell_type": "markdown",
   "id": "9fc28418",
   "metadata": {
    "id": "zL9dZf7kh6Jd"
   },
   "source": [
    "`np_array[1, 0] == np_array[1][0]`, однако второй вариант менее эффективен, так как после обращения по первому индексу создается новый временный массив"
   ]
  },
  {
   "cell_type": "markdown",
   "id": "f0b96cc4",
   "metadata": {
    "id": "vPVGQfbblwlb"
   },
   "source": [
    "**Срезы (слайсинг)**"
   ]
  },
  {
   "cell_type": "markdown",
   "id": "9a7497ce",
   "metadata": {
    "id": "OUV4lf1el9Rb"
   },
   "source": [
    "`item[START:STOP:STEP]` - берёт срез от номера START, до STOP (не включая его), с шагом STEP."
   ]
  },
  {
   "cell_type": "code",
   "execution_count": 11,
   "id": "f872caf5",
   "metadata": {
    "colab": {
     "base_uri": "https://localhost:8080/"
    },
    "id": "Hq4lUVwPkRzi",
    "outputId": "967e80ea-a737-4e55-96f1-0c261ee823c8"
   },
   "outputs": [
    {
     "data": {
      "text/plain": [
       "array([0, 1, 2, 3, 4])"
      ]
     },
     "execution_count": 11,
     "metadata": {},
     "output_type": "execute_result"
    }
   ],
   "source": [
    "np_array = np.array([0, 1, 2, 3, 4, 5, 6, 7, 8, 9])\n",
    "np_array[:5]"
   ]
  },
  {
   "cell_type": "code",
   "execution_count": 17,
   "id": "dbc8df48",
   "metadata": {
    "colab": {
     "base_uri": "https://localhost:8080/"
    },
    "id": "QQDUOoaugPNI",
    "outputId": "96c3692d-c494-4792-9ca9-38c3e977f4b5"
   },
   "outputs": [
    {
     "data": {
      "text/plain": [
       "array([1, 3, 5])"
      ]
     },
     "execution_count": 17,
     "metadata": {},
     "output_type": "execute_result"
    }
   ],
   "source": [
    "np_array[1:6:2]"
   ]
  },
  {
   "cell_type": "code",
   "execution_count": 18,
   "id": "f604d375",
   "metadata": {
    "colab": {
     "base_uri": "https://localhost:8080/"
    },
    "id": "MJ7F4SptkvKj",
    "outputId": "5ec81400-05e6-4378-ec26-9b3968f6a2b8"
   },
   "outputs": [
    {
     "data": {
      "text/plain": [
       "array([7, 8])"
      ]
     },
     "execution_count": 18,
     "metadata": {},
     "output_type": "execute_result"
    }
   ],
   "source": [
    "np_array[-3:-1]"
   ]
  },
  {
   "cell_type": "markdown",
   "id": "82e09fdc",
   "metadata": {
    "id": "Artq7NNxouCc"
   },
   "source": [
    "#### Характеристики массива"
   ]
  },
  {
   "cell_type": "code",
   "execution_count": 12,
   "id": "81022680",
   "metadata": {
    "colab": {
     "base_uri": "https://localhost:8080/"
    },
    "id": "eLXqyBgxotnB",
    "outputId": "614591f3-7e4a-448c-bb0a-f14d9d7e7608"
   },
   "outputs": [
    {
     "data": {
      "text/plain": [
       "array([0, 1, 2, 3, 4, 5, 6, 7, 8, 9])"
      ]
     },
     "execution_count": 12,
     "metadata": {},
     "output_type": "execute_result"
    }
   ],
   "source": [
    "np_array = np.array([0, 1, 2, 3, 4, 5, 6, 7, 8, 9])\n",
    "np_array"
   ]
  },
  {
   "cell_type": "code",
   "execution_count": 13,
   "id": "c7d39439",
   "metadata": {
    "colab": {
     "base_uri": "https://localhost:8080/"
    },
    "id": "oeUG8pTFotjN",
    "outputId": "4e2e5485-ccef-411e-fd49-cefd1b27cb33"
   },
   "outputs": [
    {
     "data": {
      "text/plain": [
       "1"
      ]
     },
     "execution_count": 13,
     "metadata": {},
     "output_type": "execute_result"
    }
   ],
   "source": [
    "np_array.ndim"
   ]
  },
  {
   "cell_type": "code",
   "execution_count": 14,
   "id": "33a345b4",
   "metadata": {
    "colab": {
     "base_uri": "https://localhost:8080/"
    },
    "id": "RVY7OaWFqYoj",
    "outputId": "70e910f4-7f30-444a-898f-ef2d9855df93"
   },
   "outputs": [
    {
     "data": {
      "text/plain": [
       "(2, 2)"
      ]
     },
     "execution_count": 14,
     "metadata": {},
     "output_type": "execute_result"
    }
   ],
   "source": [
    "x = np.array([[1, 1],\n",
    "              [0, 1]])\n",
    "x.shape"
   ]
  },
  {
   "cell_type": "code",
   "execution_count": 15,
   "id": "2d91c7d1",
   "metadata": {
    "colab": {
     "base_uri": "https://localhost:8080/"
    },
    "id": "6BZQJHnzqYsJ",
    "outputId": "ae0d281e-fbac-4bd5-8fcb-4b6ad2c8181c"
   },
   "outputs": [
    {
     "data": {
      "text/plain": [
       "2"
      ]
     },
     "execution_count": 15,
     "metadata": {},
     "output_type": "execute_result"
    }
   ],
   "source": [
    "x.ndim"
   ]
  },
  {
   "cell_type": "code",
   "execution_count": 23,
   "id": "cde98545",
   "metadata": {
    "colab": {
     "base_uri": "https://localhost:8080/"
    },
    "id": "tnhMlv9rqYvP",
    "outputId": "b02d32d6-f60d-48bf-870c-6ac818aaf372"
   },
   "outputs": [
    {
     "data": {
      "text/plain": [
       "4"
      ]
     },
     "execution_count": 23,
     "metadata": {},
     "output_type": "execute_result"
    }
   ],
   "source": [
    "x.size"
   ]
  },
  {
   "cell_type": "code",
   "execution_count": 29,
   "id": "70a78cac",
   "metadata": {
    "colab": {
     "base_uri": "https://localhost:8080/"
    },
    "id": "AnrU0aKsq8Aj",
    "outputId": "93915988-3cc1-447a-d8ea-f7e44c829ee5"
   },
   "outputs": [
    {
     "data": {
      "text/plain": [
       "array([[0, 1, 2, 3, 4],\n",
       "       [5, 6, 7, 8, 9]])"
      ]
     },
     "execution_count": 29,
     "metadata": {},
     "output_type": "execute_result"
    }
   ],
   "source": [
    "x1 = np_array.reshape(2, 5)\n",
    "x1"
   ]
  },
  {
   "cell_type": "code",
   "execution_count": 17,
   "id": "69ad425b",
   "metadata": {},
   "outputs": [
    {
     "data": {
      "text/plain": [
       "array([[0, 1],\n",
       "       [2, 3],\n",
       "       [4, 5],\n",
       "       [6, 7],\n",
       "       [8, 9]])"
      ]
     },
     "execution_count": 17,
     "metadata": {},
     "output_type": "execute_result"
    }
   ],
   "source": [
    "np_array.reshape(5, 2)"
   ]
  },
  {
   "cell_type": "code",
   "execution_count": 18,
   "id": "6ff2f485",
   "metadata": {
    "colab": {
     "base_uri": "https://localhost:8080/"
    },
    "id": "-3UMtJhrrXYN",
    "outputId": "8320ad51-96e2-444f-df56-e7d6403e30f8"
   },
   "outputs": [
    {
     "data": {
      "text/plain": [
       "(2, 5)"
      ]
     },
     "execution_count": 18,
     "metadata": {},
     "output_type": "execute_result"
    }
   ],
   "source": [
    "x1.shape"
   ]
  },
  {
   "cell_type": "code",
   "execution_count": 27,
   "id": "e04bb8e3",
   "metadata": {
    "colab": {
     "base_uri": "https://localhost:8080/"
    },
    "id": "Q0fx4Rq4rXbx",
    "outputId": "825bfc56-ba2c-42be-e0d9-bb5228c2451d"
   },
   "outputs": [
    {
     "data": {
      "text/plain": [
       "array([[0, 1, 2, 3, 4, 5, 6, 7, 8, 9]])"
      ]
     },
     "execution_count": 27,
     "metadata": {},
     "output_type": "execute_result"
    }
   ],
   "source": [
    "x2 = np_array.reshape(1, -1)\n",
    "x2"
   ]
  },
  {
   "cell_type": "code",
   "execution_count": 24,
   "id": "cde5c12c",
   "metadata": {
    "colab": {
     "base_uri": "https://localhost:8080/"
    },
    "id": "CALOSzn7sCvA",
    "outputId": "c143293e-2570-4491-e15a-01af2439dadc"
   },
   "outputs": [
    {
     "data": {
      "text/plain": [
       "(2, 5)"
      ]
     },
     "execution_count": 24,
     "metadata": {},
     "output_type": "execute_result"
    }
   ],
   "source": [
    "x2.shape"
   ]
  },
  {
   "cell_type": "markdown",
   "id": "38e6d55a",
   "metadata": {
    "id": "u7Vf4XzfnuIL"
   },
   "source": [
    "#### Базовые операции"
   ]
  },
  {
   "cell_type": "code",
   "execution_count": 30,
   "id": "420354e4",
   "metadata": {
    "colab": {
     "base_uri": "https://localhost:8080/"
    },
    "id": "XdZoV3PBkR39",
    "outputId": "3e021a01-0084-4c8c-dc13-c6b51bd728ef"
   },
   "outputs": [
    {
     "data": {
      "text/plain": [
       "array([10, 11, 12, 13, 14, 15, 16, 17, 18, 19])"
      ]
     },
     "execution_count": 30,
     "metadata": {},
     "output_type": "execute_result"
    }
   ],
   "source": [
    "np_array = np.array([0, 1, 2, 3, 4, 5, 6, 7, 8, 9])\n",
    "np_array + 10"
   ]
  },
  {
   "cell_type": "code",
   "execution_count": 31,
   "id": "4c9a4cf7",
   "metadata": {
    "colab": {
     "base_uri": "https://localhost:8080/"
    },
    "id": "TqD--x04gPQS",
    "outputId": "6db54714-49e1-416d-98dc-5f9a6999c1b0"
   },
   "outputs": [
    {
     "data": {
      "text/plain": [
       "array([ 0, 10, 20, 30, 40, 50, 60, 70, 80, 90])"
      ]
     },
     "execution_count": 31,
     "metadata": {},
     "output_type": "execute_result"
    }
   ],
   "source": [
    "np_array * 10"
   ]
  },
  {
   "cell_type": "code",
   "execution_count": 32,
   "id": "190b7881",
   "metadata": {
    "colab": {
     "base_uri": "https://localhost:8080/"
    },
    "id": "fOigQ4RRohfu",
    "outputId": "1d0dd591-0e7d-4361-8f83-78fe6f69ee3d"
   },
   "outputs": [
    {
     "data": {
      "text/plain": [
       "array([ 0,  1,  4,  9, 16, 25, 36, 49, 64, 81])"
      ]
     },
     "execution_count": 32,
     "metadata": {},
     "output_type": "execute_result"
    }
   ],
   "source": [
    "np_array ** 2"
   ]
  },
  {
   "cell_type": "code",
   "execution_count": 35,
   "id": "0cf853e8",
   "metadata": {
    "colab": {
     "base_uri": "https://localhost:8080/"
    },
    "id": "mipmb3lFgPTT",
    "outputId": "77f061d3-ec54-4da5-864c-1796d79cf5d0"
   },
   "outputs": [
    {
     "data": {
      "text/plain": [
       "array([ 0, 10, 20, 30, 40, 50, 60, 70, 80, 90])"
      ]
     },
     "execution_count": 35,
     "metadata": {},
     "output_type": "execute_result"
    }
   ],
   "source": [
    "x = np.arange(0, 100, 10)\n",
    "x"
   ]
  },
  {
   "cell_type": "code",
   "execution_count": 36,
   "id": "3613b634",
   "metadata": {
    "colab": {
     "base_uri": "https://localhost:8080/"
    },
    "id": "ECpquYA4gPWc",
    "outputId": "bcbf97c9-9871-4942-abb0-f12b7c2f97e1"
   },
   "outputs": [
    {
     "data": {
      "text/plain": [
       "array([ 0,  9, 18, 27, 36, 45, 54, 63, 72, 81])"
      ]
     },
     "execution_count": 36,
     "metadata": {},
     "output_type": "execute_result"
    }
   ],
   "source": [
    "x - np_array"
   ]
  },
  {
   "cell_type": "code",
   "execution_count": 37,
   "id": "74a0d00b",
   "metadata": {
    "colab": {
     "base_uri": "https://localhost:8080/"
    },
    "id": "Fmi1idGNgPaM",
    "outputId": "c534175e-3905-46d0-cf65-fecea166b916"
   },
   "outputs": [
    {
     "data": {
      "text/plain": [
       "array([ 0.        ,  0.84147098,  0.90929743,  0.14112001, -0.7568025 ,\n",
       "       -0.95892427, -0.2794155 ,  0.6569866 ,  0.98935825,  0.41211849])"
      ]
     },
     "execution_count": 37,
     "metadata": {},
     "output_type": "execute_result"
    }
   ],
   "source": [
    "np.sin(np_array)"
   ]
  },
  {
   "cell_type": "code",
   "execution_count": 38,
   "id": "4a4c703b",
   "metadata": {
    "colab": {
     "base_uri": "https://localhost:8080/"
    },
    "id": "uVZeACL9psr6",
    "outputId": "431bb804-b408-4149-89f1-1f846533882c"
   },
   "outputs": [
    {
     "data": {
      "text/plain": [
       "array([ 0,  2,  4,  6,  8, 10, 12, 14, 16, 18])"
      ]
     },
     "execution_count": 38,
     "metadata": {},
     "output_type": "execute_result"
    }
   ],
   "source": [
    "np_array *= 2\n",
    "np_array"
   ]
  },
  {
   "cell_type": "code",
   "execution_count": 40,
   "id": "88cf168a",
   "metadata": {
    "colab": {
     "base_uri": "https://localhost:8080/"
    },
    "id": "3qgSwJIbxb3n",
    "outputId": "327d8aee-9fa8-45ef-c7bc-7d08ba4f7e6a"
   },
   "outputs": [
    {
     "data": {
      "text/plain": [
       "0"
      ]
     },
     "execution_count": 40,
     "metadata": {},
     "output_type": "execute_result"
    }
   ],
   "source": [
    "x = np.array([[2, 0],\n",
    "              [3, 4]])\n",
    "x.min()"
   ]
  },
  {
   "cell_type": "code",
   "execution_count": 41,
   "id": "e78becd7",
   "metadata": {
    "colab": {
     "base_uri": "https://localhost:8080/"
    },
    "id": "syP7DFDmxdoL",
    "outputId": "246490b7-53c9-4cc0-cc1b-9ad8985738c0"
   },
   "outputs": [
    {
     "data": {
      "text/plain": [
       "4"
      ]
     },
     "execution_count": 41,
     "metadata": {},
     "output_type": "execute_result"
    }
   ],
   "source": [
    "x.max()"
   ]
  },
  {
   "cell_type": "code",
   "execution_count": 43,
   "id": "2c777405",
   "metadata": {
    "colab": {
     "base_uri": "https://localhost:8080/"
    },
    "id": "owScrP-HxfiF",
    "outputId": "966fcd62-80ea-4a5a-927f-089e92cef970"
   },
   "outputs": [
    {
     "data": {
      "text/plain": [
       "3"
      ]
     },
     "execution_count": 43,
     "metadata": {},
     "output_type": "execute_result"
    }
   ],
   "source": [
    "x.argmax()"
   ]
  },
  {
   "cell_type": "code",
   "execution_count": 44,
   "id": "acbbd8d4",
   "metadata": {
    "colab": {
     "base_uri": "https://localhost:8080/"
    },
    "id": "gH98oefrw_2u",
    "outputId": "28b0ea79-89da-4dc2-d1f6-b70154c62e6b"
   },
   "outputs": [
    {
     "data": {
      "text/plain": [
       "2.25"
      ]
     },
     "execution_count": 44,
     "metadata": {},
     "output_type": "execute_result"
    }
   ],
   "source": [
    "x.mean()"
   ]
  },
  {
   "cell_type": "code",
   "execution_count": 47,
   "id": "f1bb46d7",
   "metadata": {
    "colab": {
     "base_uri": "https://localhost:8080/"
    },
    "id": "QpxwXpWQw_6S",
    "outputId": "199dd480-f042-47d3-e98d-eef85599db44"
   },
   "outputs": [
    {
     "data": {
      "text/plain": [
       "array([2.5, 2. ])"
      ]
     },
     "execution_count": 47,
     "metadata": {},
     "output_type": "execute_result"
    }
   ],
   "source": [
    "x.mean(axis=0)"
   ]
  },
  {
   "cell_type": "code",
   "execution_count": 48,
   "id": "a99089cc",
   "metadata": {
    "colab": {
     "base_uri": "https://localhost:8080/"
    },
    "id": "kcqqKhYixIi1",
    "outputId": "91928f09-373d-42e3-eae7-e3aada7d1972"
   },
   "outputs": [
    {
     "data": {
      "text/plain": [
       "array([1. , 3.5])"
      ]
     },
     "execution_count": 48,
     "metadata": {},
     "output_type": "execute_result"
    }
   ],
   "source": [
    "x.mean(axis=1)"
   ]
  },
  {
   "cell_type": "markdown",
   "id": "26e25158",
   "metadata": {
    "id": "cOeXTIslpm7U"
   },
   "source": [
    "Операции с матрицами"
   ]
  },
  {
   "cell_type": "code",
   "execution_count": 49,
   "id": "a8d2322d",
   "metadata": {
    "colab": {
     "base_uri": "https://localhost:8080/"
    },
    "id": "Y_Uymmd3ofbb",
    "outputId": "feefa422-824a-4f59-ff75-d0b6fa50c13f"
   },
   "outputs": [
    {
     "data": {
      "text/plain": [
       "array([[2, 0],\n",
       "       [0, 4]])"
      ]
     },
     "execution_count": 49,
     "metadata": {},
     "output_type": "execute_result"
    }
   ],
   "source": [
    "A = np.array([[1, 1],\n",
    "              [0, 1]])\n",
    "B = np.array([[2, 0],\n",
    "              [3, 4]])\n",
    "\n",
    "A * B # поэлементное произведение"
   ]
  },
  {
   "cell_type": "code",
   "execution_count": 50,
   "id": "e03f2a44",
   "metadata": {
    "colab": {
     "base_uri": "https://localhost:8080/"
    },
    "id": "yhV1N7p1gPdI",
    "outputId": "06214cad-a438-4ec8-8d43-f6c6481b9898"
   },
   "outputs": [
    {
     "data": {
      "text/plain": [
       "array([[5, 4],\n",
       "       [3, 4]])"
      ]
     },
     "execution_count": 50,
     "metadata": {},
     "output_type": "execute_result"
    }
   ],
   "source": [
    "A @ B # матричное произведение, python >= 3.5"
   ]
  },
  {
   "cell_type": "code",
   "execution_count": 51,
   "id": "c219b817",
   "metadata": {
    "colab": {
     "base_uri": "https://localhost:8080/"
    },
    "id": "jrpXXC4ogPgC",
    "outputId": "7c0131ad-5314-4ce2-ae70-83b45630fcde"
   },
   "outputs": [
    {
     "data": {
      "text/plain": [
       "array([[5, 4],\n",
       "       [3, 4]])"
      ]
     },
     "execution_count": 51,
     "metadata": {},
     "output_type": "execute_result"
    }
   ],
   "source": [
    "A.dot(B) # матричное произведение"
   ]
  },
  {
   "cell_type": "code",
   "execution_count": 52,
   "id": "1d0fcf5e",
   "metadata": {
    "colab": {
     "base_uri": "https://localhost:8080/"
    },
    "id": "qp5b5PwWpRve",
    "outputId": "36164551-e64e-4926-f2b4-ebdc8bd76b11"
   },
   "outputs": [
    {
     "data": {
      "text/plain": [
       "array([[5, 3],\n",
       "       [4, 4]])"
      ]
     },
     "execution_count": 52,
     "metadata": {},
     "output_type": "execute_result"
    }
   ],
   "source": [
    "A.dot(B).T"
   ]
  },
  {
   "cell_type": "markdown",
   "id": "d2ee6136",
   "metadata": {
    "id": "BEUW9t6AsUpt"
   },
   "source": [
    "#### Соединение/разбиение массивов"
   ]
  },
  {
   "cell_type": "code",
   "execution_count": 53,
   "id": "bcbe8839",
   "metadata": {
    "colab": {
     "base_uri": "https://localhost:8080/"
    },
    "id": "Azjy4LQZpRyX",
    "outputId": "5dff6653-a82b-44a7-cd24-23015093e2c9"
   },
   "outputs": [
    {
     "data": {
      "text/plain": [
       "array([[1, 1],\n",
       "       [0, 1],\n",
       "       [2, 0],\n",
       "       [3, 4]])"
      ]
     },
     "execution_count": 53,
     "metadata": {},
     "output_type": "execute_result"
    }
   ],
   "source": [
    "A = np.array([[1, 1],\n",
    "              [0, 1]])\n",
    "B = np.array([[2, 0],\n",
    "              [3, 4]])\n",
    "\n",
    "vstack_result = np.vstack((A, B))\n",
    "vstack_result"
   ]
  },
  {
   "cell_type": "code",
   "execution_count": 54,
   "id": "e0232d76",
   "metadata": {
    "colab": {
     "base_uri": "https://localhost:8080/"
    },
    "id": "w5R9A7wwsQxh",
    "outputId": "f17d9b2f-4e8a-4f15-c495-25fd5d6a45ee"
   },
   "outputs": [
    {
     "data": {
      "text/plain": [
       "array([[1, 1, 2, 0],\n",
       "       [0, 1, 3, 4]])"
      ]
     },
     "execution_count": 54,
     "metadata": {},
     "output_type": "execute_result"
    }
   ],
   "source": [
    "hstack_result = np.hstack((A, B))\n",
    "hstack_result"
   ]
  },
  {
   "cell_type": "code",
   "execution_count": 55,
   "id": "47442fdb",
   "metadata": {
    "colab": {
     "base_uri": "https://localhost:8080/"
    },
    "id": "8GdiPvvWsQ1j",
    "outputId": "ea8ab77b-9e54-410b-ae55-154f47c7316e"
   },
   "outputs": [
    {
     "data": {
      "text/plain": [
       "[array([[1, 1],\n",
       "        [0, 1]]),\n",
       " array([[2, 0],\n",
       "        [3, 4]])]"
      ]
     },
     "execution_count": 55,
     "metadata": {},
     "output_type": "execute_result"
    }
   ],
   "source": [
    "np.vsplit(vstack_result, 2)"
   ]
  },
  {
   "cell_type": "code",
   "execution_count": 56,
   "id": "779b15fa",
   "metadata": {
    "colab": {
     "base_uri": "https://localhost:8080/"
    },
    "id": "UoyYm780sQ5c",
    "outputId": "f4479d9a-c94a-45f8-b8f9-ffad4fea4514"
   },
   "outputs": [
    {
     "data": {
      "text/plain": [
       "[array([[1, 1],\n",
       "        [0, 1]]),\n",
       " array([[2, 0],\n",
       "        [3, 4]])]"
      ]
     },
     "execution_count": 56,
     "metadata": {},
     "output_type": "execute_result"
    }
   ],
   "source": [
    "np.hsplit(hstack_result, 2)"
   ]
  },
  {
   "cell_type": "markdown",
   "id": "ea11e3f5",
   "metadata": {
    "id": "cvP6Ak7vNdaJ"
   },
   "source": [
    "#### Массивы случайных значений"
   ]
  },
  {
   "cell_type": "markdown",
   "id": "61fa3df9",
   "metadata": {
    "id": "EDsTdpoENdaJ"
   },
   "source": [
    "np.random.sample - массив заданной формы, состоящий из чисел, взятых из равномерного распределения на отрезке $[0, 1)$."
   ]
  },
  {
   "cell_type": "code",
   "execution_count": 57,
   "id": "0bf88c55",
   "metadata": {
    "id": "W1_ld1SDNdaJ",
    "outputId": "4d1aa83d-94f7-40de-aa97-c3e8de044acc",
    "scrolled": true
   },
   "outputs": [
    {
     "name": "stdout",
     "output_type": "stream",
     "text": [
      "[[0.44326773 0.03705781 0.43074527 0.35676952]\n",
      " [0.75317897 0.66023128 0.7631963  0.10587961]\n",
      " [0.61609483 0.34952678 0.07891    0.76743072]]\n"
     ]
    }
   ],
   "source": [
    "a = np.random.sample((3, 4)) # на вход подается кортеж\n",
    "\n",
    "print(a)"
   ]
  },
  {
   "cell_type": "code",
   "execution_count": 58,
   "id": "e9058879",
   "metadata": {
    "id": "WeyHsyr5NdaK",
    "outputId": "b0b7dd79-9493-410a-97da-4f04bfff337e"
   },
   "outputs": [
    {
     "name": "stdout",
     "output_type": "stream",
     "text": [
      "Одно значение: 0.16012650526804706\n",
      "Пять значениий: [0.21433229 0.3998508  0.73590347 0.89461656 0.68988399]\n"
     ]
    }
   ],
   "source": [
    "print(f\"Одно значение: {np.random.sample()}\")\n",
    "\n",
    "print(f\"Пять значениий: {np.random.sample(5)}\")"
   ]
  },
  {
   "cell_type": "markdown",
   "id": "be0bfb96",
   "metadata": {
    "id": "EzyvOkdeNdaL"
   },
   "source": [
    "np.random.randn - массив, взятый из нормального распределения (со средним $0$ и среднеквадратическим отклонением $1$):"
   ]
  },
  {
   "cell_type": "code",
   "execution_count": 59,
   "id": "6815fe82",
   "metadata": {
    "id": "dpOkmHEjNdaL",
    "outputId": "179b1d56-5042-40ee-d91a-8f9c3ebeb7c5"
   },
   "outputs": [
    {
     "name": "stdout",
     "output_type": "stream",
     "text": [
      "[[-1.45627219  0.20184679  0.68984463 -0.24620813]\n",
      " [ 0.04514977  0.66433045 -1.23476554 -1.18453191]\n",
      " [-1.25039506 -1.11606473 -0.81282904 -1.53974618]]\n"
     ]
    }
   ],
   "source": [
    "b = np.random.randn(3, 4) # не кортеж, а последовательность размеров по каждому измерению.\n",
    "\n",
    "print(b)"
   ]
  },
  {
   "cell_type": "markdown",
   "id": "37434aee",
   "metadata": {
    "id": "AP_WhcI9NdaL"
   },
   "source": [
    "np.random.randint - возвращает массив из целых чисел в указанном диапазоне:"
   ]
  },
  {
   "cell_type": "code",
   "execution_count": 72,
   "id": "600643ea",
   "metadata": {
    "id": "cxbgB9CLNdaL",
    "outputId": "d8b51c36-a493-41af-b2f2-8637d7d010c6"
   },
   "outputs": [
    {
     "name": "stdout",
     "output_type": "stream",
     "text": [
      "[[3 2 1 2]\n",
      " [2 3 0 1]\n",
      " [0 2 3 3]]\n"
     ]
    }
   ],
   "source": [
    "c = np.random.randint(0, 4, (3, 4))\n",
    "\n",
    "print(c)"
   ]
  },
  {
   "cell_type": "markdown",
   "id": "f9bf710c",
   "metadata": {
    "id": "YPfpEL_hNdaM"
   },
   "source": [
    "np.random.choice - возвращает случайно выбранные элементы из заранее заданного массива:"
   ]
  },
  {
   "cell_type": "code",
   "execution_count": 73,
   "id": "887e7c15",
   "metadata": {
    "id": "_gpyzsXWNdaN",
    "outputId": "584bd8bd-eeb1-4e73-ac15-128359491b8b"
   },
   "outputs": [
    {
     "data": {
      "text/plain": [
       "array([-10,  -9,  -8,  -7,  -6,  -5,  -4,  -3,  -2,  -1])"
      ]
     },
     "execution_count": 73,
     "metadata": {},
     "output_type": "execute_result"
    }
   ],
   "source": [
    "A = np.arange(-10, 0)\n",
    "A"
   ]
  },
  {
   "cell_type": "code",
   "execution_count": 75,
   "id": "d216bab4",
   "metadata": {
    "id": "_gpyzsXWNdaN",
    "outputId": "584bd8bd-eeb1-4e73-ac15-128359491b8b"
   },
   "outputs": [
    {
     "name": "stdout",
     "output_type": "stream",
     "text": [
      "[[-4 -9 -7 -6]\n",
      " [-5 -5 -5 -5]\n",
      " [-7 -9 -2 -8]]\n"
     ]
    }
   ],
   "source": [
    "d = np.random.choice(A, (3, 4))\n",
    "\n",
    "print(d)"
   ]
  },
  {
   "cell_type": "markdown",
   "id": "218cec32",
   "metadata": {
    "id": "uKCAGIzBNda3"
   },
   "source": [
    "#### Статистические функции\n",
    "\n",
    "Вот несколько методов, позволяющих вычислить различные статистики массива `a`:\n",
    "\n",
    "* `a.min` - минимальное значение\n",
    "* `a.max` - максимальное значение\n",
    "* `a.mean` - среднее значение\n",
    "* `a.std` - среднее квадратическое отклонение\n",
    "\n",
    "Все эти значения считаются по всему массиву, либо вдоль определённой оси, если задан параметр `axis`."
   ]
  },
  {
   "cell_type": "code",
   "execution_count": 76,
   "id": "e04bfaf0",
   "metadata": {
    "colab": {
     "base_uri": "https://localhost:8080/",
     "height": 167
    },
    "id": "_-yuld7ZNda3",
    "outputId": "89c408ea-c73a-43e9-8da3-391245af16c4"
   },
   "outputs": [
    {
     "name": "stdout",
     "output_type": "stream",
     "text": [
      "[[0.44326773 0.03705781 0.43074527 0.35676952]\n",
      " [0.75317897 0.66023128 0.7631963  0.10587961]\n",
      " [0.61609483 0.34952678 0.07891    0.76743072]]\n"
     ]
    }
   ],
   "source": [
    "print(a)"
   ]
  },
  {
   "cell_type": "code",
   "execution_count": 79,
   "id": "4f382aa6",
   "metadata": {
    "colab": {
     "base_uri": "https://localhost:8080/",
     "height": 238
    },
    "id": "JLAFUHk2Nda4",
    "outputId": "3322a85d-458b-44cd-d7d7-859f9c76c8e2"
   },
   "outputs": [
    {
     "name": "stdout",
     "output_type": "stream",
     "text": [
      "Минимальное значение: 0.03705780544574422\n",
      "Средние значения строк: 0.4468573999998653\n",
      "Средние квадратические отклонения столбцов: [0.60418051 0.34893862 0.42428385 0.41002662]\n"
     ]
    }
   ],
   "source": [
    "print(\"Минимальное значение: {}\".format(a.min()))\n",
    "\n",
    "print(\"Средние значения строк: {}\".format(a.mean(axis=1)))\n",
    "\n",
    "print(\"Средние квадратические отклонения столбцов: {}\".format(a.mean(axis=0)))"
   ]
  },
  {
   "cell_type": "markdown",
   "id": "de5eddcd",
   "metadata": {
    "id": "gLy_rR8pNda4"
   },
   "source": [
    "#### Запись и чтение массивов из файла\n",
    "\n"
   ]
  },
  {
   "cell_type": "code",
   "execution_count": 58,
   "id": "f2ccbfbc",
   "metadata": {
    "id": "_fzhK25wNda4"
   },
   "outputs": [],
   "source": [
    "np.save(\"a.npy\", a)"
   ]
  },
  {
   "cell_type": "markdown",
   "id": "6589a2e3",
   "metadata": {
    "id": "W8aW0FDqNda5"
   },
   "source": [
    "Для чтения из файла используется функция `np.load`:"
   ]
  },
  {
   "cell_type": "code",
   "execution_count": 59,
   "id": "5a1e2d4f",
   "metadata": {
    "id": "mIEqwVC3Nda6"
   },
   "outputs": [],
   "source": [
    "a = np.load(\"a.npy\")"
   ]
  },
  {
   "cell_type": "code",
   "execution_count": null,
   "id": "6cc00fc0",
   "metadata": {},
   "outputs": [],
   "source": []
  }
 ],
 "metadata": {
  "kernelspec": {
   "display_name": "Python 3 (ipykernel)",
   "language": "python",
   "name": "python3"
  },
  "language_info": {
   "codemirror_mode": {
    "name": "ipython",
    "version": 3
   },
   "file_extension": ".py",
   "mimetype": "text/x-python",
   "name": "python",
   "nbconvert_exporter": "python",
   "pygments_lexer": "ipython3",
   "version": "3.9.13"
  }
 },
 "nbformat": 4,
 "nbformat_minor": 5
}
