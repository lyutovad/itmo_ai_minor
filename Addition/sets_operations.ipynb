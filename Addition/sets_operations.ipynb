{
 "cells": [
  {
   "cell_type": "markdown",
   "id": "84a3f2a7",
   "metadata": {},
   "source": [
    "Объединение множеств union()\n",
    "возвращает новое множество в которое входят все элементы объединенных множеств.\n",
    "Для объединения двух множеств можно также использовать оператор |\n",
    "Для изменения текущего множества используется метод update()"
   ]
  },
  {
   "cell_type": "code",
   "execution_count": 1,
   "id": "ecba6d43",
   "metadata": {},
   "outputs": [
    {
     "name": "stdout",
     "output_type": "stream",
     "text": [
      "{1, 2, 3, 4, 5, 6, 7, 8}\n"
     ]
    }
   ],
   "source": [
    "myset1 = {1, 2, 3, 4, 5}\n",
    "myset2 = {3, 4, 6, 7, 8}\n",
    "\n",
    "myset3 = myset1.union(myset2)\n",
    "print(myset3)"
   ]
  },
  {
   "cell_type": "code",
   "execution_count": 2,
   "id": "2e800815",
   "metadata": {},
   "outputs": [
    {
     "name": "stdout",
     "output_type": "stream",
     "text": [
      "{1, 2, 3, 4, 5, 6, 7, 8}\n"
     ]
    }
   ],
   "source": [
    "myset1 = {1, 2, 3, 4, 5}\n",
    "myset2 = {3, 4, 6, 7, 8}\n",
    "\n",
    "myset3 = myset1 | myset2\n",
    "print(myset3)"
   ]
  },
  {
   "cell_type": "markdown",
   "id": "2ec87a1c",
   "metadata": {},
   "source": [
    "Пересечение множеств: метод intersection()\n",
    "Метод intersection() возвращает новое множество, в которое входят общие элементы множеств.\n",
    "Для изменения текущего множества используется метод intersection_update()\n",
    "Для пересечения двух множеств можно также использовать оператор &."
   ]
  },
  {
   "cell_type": "code",
   "execution_count": 3,
   "id": "39cbb7a7",
   "metadata": {},
   "outputs": [
    {
     "name": "stdout",
     "output_type": "stream",
     "text": [
      "{3, 4}\n"
     ]
    }
   ],
   "source": [
    "myset1 = {1, 2, 3, 4, 5}\n",
    "myset2 = {3, 4, 6, 7, 8}\n",
    "\n",
    "myset3 = myset1.intersection(myset2)\n",
    "print(myset3)"
   ]
  },
  {
   "cell_type": "code",
   "execution_count": 4,
   "id": "90cd50da",
   "metadata": {},
   "outputs": [
    {
     "name": "stdout",
     "output_type": "stream",
     "text": [
      "{3, 4}\n"
     ]
    }
   ],
   "source": [
    "myset1 = {1, 2, 3, 4, 5}\n",
    "myset2 = {3, 4, 6, 7, 8}\n",
    "\n",
    "myset3 = myset1 & myset2\n",
    "print(myset3)"
   ]
  },
  {
   "cell_type": "markdown",
   "id": "bea7059c",
   "metadata": {},
   "source": [
    "Разность множеств: метод difference() возвращает множество, в которое входят все элементы первого множества, не входящие во второе множество. \n",
    "Для разности двух множеств можно также использовать оператор -.\n",
    "\n",
    "!!! Для операции разности множеств важен порядок, в котором указаны множества. Если поменять местами myset1 и myset2, получим совсем другой результат: \n",
    "элементы входящие в множество myset2 и которых нет в множестве myset1."
   ]
  },
  {
   "cell_type": "code",
   "execution_count": 5,
   "id": "876630fc",
   "metadata": {},
   "outputs": [
    {
     "name": "stdout",
     "output_type": "stream",
     "text": [
      "{1, 2, 5}\n"
     ]
    }
   ],
   "source": [
    "myset1 = {1, 2, 3, 4, 5}\n",
    "myset2 = {3, 4, 6, 7, 8}\n",
    "\n",
    "myset3 = myset1.difference(myset2)\n",
    "print(myset3)"
   ]
  },
  {
   "cell_type": "code",
   "execution_count": 6,
   "id": "57527319",
   "metadata": {},
   "outputs": [
    {
     "name": "stdout",
     "output_type": "stream",
     "text": [
      "{1, 2, 5}\n"
     ]
    }
   ],
   "source": [
    "myset1 = {1, 2, 3, 4, 5}\n",
    "myset2 = {3, 4, 6, 7, 8}\n",
    "\n",
    "myset3 = myset1 - myset2\n",
    "print(myset3)"
   ]
  },
  {
   "cell_type": "code",
   "execution_count": 7,
   "id": "fd8a7324",
   "metadata": {},
   "outputs": [
    {
     "name": "stdout",
     "output_type": "stream",
     "text": [
      "{8, 6, 7}\n"
     ]
    }
   ],
   "source": [
    "myset1 = {1, 2, 3, 4, 5}\n",
    "myset2 = {3, 4, 6, 7, 8}\n",
    "\n",
    "myset3 = myset2.difference(myset1)\n",
    "print(myset3)"
   ]
  },
  {
   "cell_type": "markdown",
   "id": "dc1678fe",
   "metadata": {},
   "source": [
    "Симметрическая разность: symmetric_difference()\n",
    "    \n",
    "Возвращает множество, включающее все элементы исходных множеств, не принадлежащие одновременно обоим исходным множествам. \n",
    "Для симметрической разности двух множеств можно также использовать оператор \\^."
   ]
  },
  {
   "cell_type": "code",
   "execution_count": 8,
   "id": "cd1c3025",
   "metadata": {},
   "outputs": [
    {
     "name": "stdout",
     "output_type": "stream",
     "text": [
      "{1, 2, 5, 6, 7, 8}\n"
     ]
    }
   ],
   "source": [
    "myset1 = {1, 2, 3, 4, 5}\n",
    "myset2 = {3, 4, 6, 7, 8}\n",
    "\n",
    "myset3 = myset1.symmetric_difference(myset2)\n",
    "print(myset3)"
   ]
  },
  {
   "cell_type": "code",
   "execution_count": 9,
   "id": "b0ad8956",
   "metadata": {},
   "outputs": [
    {
     "name": "stdout",
     "output_type": "stream",
     "text": [
      "{1, 2, 5, 6, 7, 8}\n"
     ]
    }
   ],
   "source": [
    "myset1 = {1, 2, 3, 4, 5}\n",
    "myset2 = {3, 4, 6, 7, 8}\n",
    "\n",
    "myset3 = myset1 ^ myset2\n",
    "print(myset3)"
   ]
  },
  {
   "cell_type": "markdown",
   "id": "9e859d27",
   "metadata": {},
   "source": [
    "Метод update() изменяет исходное множество по объединению.\n",
    "Аналогичный результат получается, если использовать оператор |=:"
   ]
  },
  {
   "cell_type": "code",
   "execution_count": 10,
   "id": "cddead49",
   "metadata": {},
   "outputs": [
    {
     "name": "stdout",
     "output_type": "stream",
     "text": [
      "{1, 2, 3, 4, 5, 6, 7, 8}\n"
     ]
    }
   ],
   "source": [
    "myset1 = {1, 2, 3, 4, 5}\n",
    "myset2 = {3, 4, 6, 7, 8}\n",
    "\n",
    "myset1.update(myset2)\n",
    "print(myset1)"
   ]
  },
  {
   "cell_type": "code",
   "execution_count": 11,
   "id": "38c11938",
   "metadata": {},
   "outputs": [
    {
     "name": "stdout",
     "output_type": "stream",
     "text": [
      "{1, 2, 3, 4, 5, 6, 7, 8}\n"
     ]
    }
   ],
   "source": [
    "myset1 = {1, 2, 3, 4, 5}\n",
    "myset2 = {3, 4, 6, 7, 8}\n",
    "\n",
    "myset1 |= myset2\n",
    "print(myset1)"
   ]
  },
  {
   "cell_type": "markdown",
   "id": "45431ff1",
   "metadata": {},
   "source": [
    "Метод intersection_update() изменяет исходное множество по пересечению.\n",
    "\n",
    "Аналогичный результат получается, если использовать оператор &=:"
   ]
  },
  {
   "cell_type": "code",
   "execution_count": 12,
   "id": "db3174d6",
   "metadata": {},
   "outputs": [
    {
     "name": "stdout",
     "output_type": "stream",
     "text": [
      "{3, 4}\n"
     ]
    }
   ],
   "source": [
    "myset1 = {1, 2, 3, 4, 5}\n",
    "myset2 = {3, 4, 6, 7, 8}\n",
    "\n",
    "myset1.intersection_update(myset2)\n",
    "print(myset1)"
   ]
  },
  {
   "cell_type": "code",
   "execution_count": 13,
   "id": "95bc9de0",
   "metadata": {},
   "outputs": [
    {
     "name": "stdout",
     "output_type": "stream",
     "text": [
      "{3, 4}\n"
     ]
    }
   ],
   "source": [
    "myset1 = {1, 2, 3, 4, 5}\n",
    "myset2 = {3, 4, 6, 7, 8}\n",
    "\n",
    "myset1 &= myset2\n",
    "print(myset1)"
   ]
  },
  {
   "cell_type": "markdown",
   "id": "aeebefa9",
   "metadata": {},
   "source": [
    "Метод difference_update() изменяет исходное множество по разности.\n",
    "Аналогичный результат получается, если использовать оператор -="
   ]
  },
  {
   "cell_type": "code",
   "execution_count": 14,
   "id": "b3f21bdb",
   "metadata": {},
   "outputs": [
    {
     "name": "stdout",
     "output_type": "stream",
     "text": [
      "{1, 2, 5}\n"
     ]
    }
   ],
   "source": [
    "myset1 = {1, 2, 3, 4, 5}\n",
    "myset2 = {3, 4, 6, 7, 8}\n",
    "\n",
    "myset1.difference_update(myset2)\n",
    "print(myset1)"
   ]
  },
  {
   "cell_type": "code",
   "execution_count": 15,
   "id": "179dc003",
   "metadata": {},
   "outputs": [
    {
     "name": "stdout",
     "output_type": "stream",
     "text": [
      "{1, 2, 5}\n"
     ]
    }
   ],
   "source": [
    "myset1 = {1, 2, 3, 4, 5}\n",
    "myset2 = {3, 4, 6, 7, 8}\n",
    "\n",
    "myset1 -= myset2\n",
    "print(myset1)"
   ]
  },
  {
   "cell_type": "markdown",
   "id": "e6cd7e2f",
   "metadata": {},
   "source": [
    "Метод symmetric_difference_update() изменяет исходное множество по симметрической разности.\n",
    "Аналогичный результат получается, если использовать оператор ^=:"
   ]
  },
  {
   "cell_type": "code",
   "execution_count": 16,
   "id": "7dd53773",
   "metadata": {},
   "outputs": [
    {
     "name": "stdout",
     "output_type": "stream",
     "text": [
      "{1, 2, 5, 6, 7, 8}\n"
     ]
    }
   ],
   "source": [
    "myset1 = {1, 2, 3, 4, 5}\n",
    "myset2 = {3, 4, 6, 7, 8}\n",
    "\n",
    "myset1.symmetric_difference_update(myset2)\n",
    "print(myset1)"
   ]
  },
  {
   "cell_type": "code",
   "execution_count": 17,
   "id": "3ddd0d68",
   "metadata": {},
   "outputs": [
    {
     "name": "stdout",
     "output_type": "stream",
     "text": [
      "{1, 2, 5, 6, 7, 8}\n"
     ]
    }
   ],
   "source": [
    "myset1 = {1, 2, 3, 4, 5}\n",
    "myset2 = {3, 4, 6, 7, 8}\n",
    "\n",
    "myset1 ^= myset2\n",
    "print(myset1)"
   ]
  },
  {
   "cell_type": "code",
   "execution_count": 18,
   "id": "4d7078e0",
   "metadata": {},
   "outputs": [
    {
     "name": "stdout",
     "output_type": "stream",
     "text": [
      "{2016, 'c', 'd', 2009, 2010, 'b', 'a'}\n",
      "{2016}\n",
      "{2009, 2010}\n"
     ]
    }
   ],
   "source": [
    "mylist = [2021, 2020, 2019, 2018, 2017, 2016]\n",
    "mytuple = (2021, 2020, 2016)\n",
    "mystr = 'abcd'\n",
    "\n",
    "myset = {2009, 2010, 2016}\n",
    "\n",
    "print(myset.union(mystr))\n",
    "print(myset.intersection(mylist))\n",
    "print(myset.difference(mytuple))"
   ]
  },
  {
   "cell_type": "code",
   "execution_count": 19,
   "id": "9cb69491",
   "metadata": {},
   "outputs": [
    {
     "ename": "TypeError",
     "evalue": "unsupported operand type(s) for |: 'set' and 'str'",
     "output_type": "error",
     "traceback": [
      "\u001b[1;31m---------------------------------------------------------------------------\u001b[0m",
      "\u001b[1;31mTypeError\u001b[0m                                 Traceback (most recent call last)",
      "Cell \u001b[1;32mIn[19], line 7\u001b[0m\n\u001b[0;32m      3\u001b[0m mystr \u001b[38;5;241m=\u001b[39m \u001b[38;5;124m'\u001b[39m\u001b[38;5;124mabcd\u001b[39m\u001b[38;5;124m'\u001b[39m\n\u001b[0;32m      5\u001b[0m myset \u001b[38;5;241m=\u001b[39m {\u001b[38;5;241m2009\u001b[39m, \u001b[38;5;241m2010\u001b[39m, \u001b[38;5;241m2016\u001b[39m}\n\u001b[1;32m----> 7\u001b[0m \u001b[38;5;28mprint\u001b[39m(\u001b[43mmyset\u001b[49m\u001b[43m \u001b[49m\u001b[38;5;241;43m|\u001b[39;49m\u001b[43m \u001b[49m\u001b[43mmystr\u001b[49m)\n\u001b[0;32m      8\u001b[0m \u001b[38;5;28mprint\u001b[39m(myset \u001b[38;5;241m&\u001b[39m mylist)\n\u001b[0;32m      9\u001b[0m \u001b[38;5;28mprint\u001b[39m(myset \u001b[38;5;241m-\u001b[39m mytuple)\n",
      "\u001b[1;31mTypeError\u001b[0m: unsupported operand type(s) for |: 'set' and 'str'"
     ]
    }
   ],
   "source": [
    "mylist = [2021, 2020, 2019, 2018, 2017, 2016]\n",
    "mytuple = (2021, 2020, 2016)\n",
    "mystr = 'abcd'\n",
    "\n",
    "myset = {2009, 2010, 2016}\n",
    "\n",
    "print(myset | mystr)\n",
    "print(myset & mylist)\n",
    "print(myset - mytuple)"
   ]
  },
  {
   "cell_type": "code",
   "execution_count": 20,
   "id": "e9509901",
   "metadata": {},
   "outputs": [
    {
     "name": "stdout",
     "output_type": "stream",
     "text": [
      "True\n",
      "True\n"
     ]
    }
   ],
   "source": [
    "myset1 = {1, 2, 3, 4, 5, 6}\n",
    "myset2 = {2, 3, 4, 5}\n",
    "myset3 = {5, 6, 7, 8}\n",
    "\n",
    "union1 = myset1.union(myset2, myset3)\n",
    "union2 = myset1 | myset2 | myset3\n",
    "\n",
    "difference1 = myset1.difference(myset2, myset3)\n",
    "difference2 = myset1 - myset2 - myset3            # порядок выполнения слева-направо\n",
    "\n",
    "print(union1 == union2)\n",
    "print(difference1 == difference2)"
   ]
  },
  {
   "cell_type": "code",
   "execution_count": 21,
   "id": "b4ba8be9",
   "metadata": {},
   "outputs": [
    {
     "name": "stdout",
     "output_type": "stream",
     "text": [
      "{1, 5, 7, 20, 30}\n"
     ]
    }
   ],
   "source": [
    "myset1 = {1, 2, 3, 4, 5, 6}\n",
    "myset2 = {2, 3, 4, 7}\n",
    "myset3 = {6, 20, 30}\n",
    "\n",
    "symdifference = myset1 ^ myset2 ^ myset3  # порядок выполнения слева-направо\n",
    "\n",
    "print(symdifference)"
   ]
  },
  {
   "cell_type": "code",
   "execution_count": 22,
   "id": "402bfe5f",
   "metadata": {},
   "outputs": [
    {
     "ename": "TypeError",
     "evalue": "set.symmetric_difference() takes exactly one argument (2 given)",
     "output_type": "error",
     "traceback": [
      "\u001b[1;31m---------------------------------------------------------------------------\u001b[0m",
      "\u001b[1;31mTypeError\u001b[0m                                 Traceback (most recent call last)",
      "Cell \u001b[1;32mIn[22], line 5\u001b[0m\n\u001b[0;32m      2\u001b[0m myset2 \u001b[38;5;241m=\u001b[39m {\u001b[38;5;241m2\u001b[39m, \u001b[38;5;241m3\u001b[39m, \u001b[38;5;241m4\u001b[39m, \u001b[38;5;241m7\u001b[39m}\n\u001b[0;32m      3\u001b[0m myset3 \u001b[38;5;241m=\u001b[39m {\u001b[38;5;241m6\u001b[39m, \u001b[38;5;241m20\u001b[39m, \u001b[38;5;241m30\u001b[39m}\n\u001b[1;32m----> 5\u001b[0m symdifference \u001b[38;5;241m=\u001b[39m \u001b[43mmyset1\u001b[49m\u001b[38;5;241;43m.\u001b[39;49m\u001b[43msymmetric_difference\u001b[49m\u001b[43m(\u001b[49m\u001b[43mmyset2\u001b[49m\u001b[43m,\u001b[49m\u001b[43m \u001b[49m\u001b[43mmyset3\u001b[49m\u001b[43m)\u001b[49m\n\u001b[0;32m      7\u001b[0m \u001b[38;5;28mprint\u001b[39m(symdifference)\n",
      "\u001b[1;31mTypeError\u001b[0m: set.symmetric_difference() takes exactly one argument (2 given)"
     ]
    }
   ],
   "source": [
    "myset1 = {1, 2, 3, 4, 5, 6}\n",
    "myset2 = {2, 3, 4, 7}\n",
    "myset3 = {6, 20, 30}\n",
    "\n",
    "symdifference = myset1.symmetric_difference(myset2, myset3)\n",
    "\n",
    "print(symdifference)"
   ]
  },
  {
   "cell_type": "code",
   "execution_count": 23,
   "id": "a88221c4",
   "metadata": {},
   "outputs": [
    {
     "data": {
      "text/plain": [
       "{1, 5, 6, 7}"
      ]
     },
     "execution_count": 23,
     "metadata": {},
     "output_type": "execute_result"
    }
   ],
   "source": [
    "myset1.symmetric_difference(myset2)"
   ]
  },
  {
   "cell_type": "code",
   "execution_count": null,
   "id": "5e09a69d",
   "metadata": {},
   "outputs": [],
   "source": []
  }
 ],
 "metadata": {
  "kernelspec": {
   "display_name": "Python 3 (ipykernel)",
   "language": "python",
   "name": "python3"
  },
  "language_info": {
   "codemirror_mode": {
    "name": "ipython",
    "version": 3
   },
   "file_extension": ".py",
   "mimetype": "text/x-python",
   "name": "python",
   "nbconvert_exporter": "python",
   "pygments_lexer": "ipython3",
   "version": "3.9.13"
  }
 },
 "nbformat": 4,
 "nbformat_minor": 5
}
