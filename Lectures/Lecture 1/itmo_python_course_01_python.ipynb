{
 "cells": [
  {
   "cell_type": "markdown",
   "id": "686b0977",
   "metadata": {},
   "source": [
    "## Введение в python"
   ]
  },
  {
   "cell_type": "markdown",
   "id": "e36cb9b3",
   "metadata": {},
   "source": [
    "1. [Типы данных](#1)\n",
    "2. [Ввод данных с клавиатуры](#2)\n",
    "2. [Основные операции с данными](#3)\n",
    "2. [Ветвления](#4)\n",
    "3. [Циклы](#5)\n",
    "4. [Функции](#6)"
   ]
  },
  {
   "cell_type": "markdown",
   "id": "c76a8005",
   "metadata": {},
   "source": [
    "Название языка программирования происходит от телевизионного шоу «Летающий цирк Монти Пайтона», а не от имени семейства чешуйчатых. Главные его характеристики:\n"
   ]
  },
  {
   "cell_type": "markdown",
   "id": "8ba7bf27",
   "metadata": {},
   "source": [
    "* [высокоуровневый](https://ru.wikipedia.org/wiki/%D0%92%D1%8B%D1%81%D0%BE%D0%BA%D0%BE%D1%83%D1%80%D0%BE%D0%B2%D0%BD%D0%B5%D0%B2%D1%8B%D0%B9_%D1%8F%D0%B7%D1%8B%D0%BA_%D0%BF%D1%80%D0%BE%D0%B3%D1%80%D0%B0%D0%BC%D0%BC%D0%B8%D1%80%D0%BE%D0%B2%D0%B0%D0%BD%D0%B8%D1%8F)\n",
    "* [интерпретируемый](https://ru.wikipedia.org/wiki/%D0%98%D0%BD%D1%82%D0%B5%D1%80%D0%BF%D1%80%D0%B5%D1%82%D0%B8%D1%80%D1%83%D0%B5%D0%BC%D1%8B%D0%B9_%D1%8F%D0%B7%D1%8B%D0%BA_%D0%BF%D1%80%D0%BE%D0%B3%D1%80%D0%B0%D0%BC%D0%BC%D0%B8%D1%80%D0%BE%D0%B2%D0%B0%D0%BD%D0%B8%D1%8F);\n",
    "* строгая динамическая типизация;\n",
    "* [объектно-ориентированный](https://ru.wikipedia.org/wiki/%D0%9E%D0%B1%D1%8A%D0%B5%D0%BA%D1%82%D0%BD%D0%BE-%D0%BE%D1%80%D0%B8%D0%B5%D0%BD%D1%82%D0%B8%D1%80%D0%BE%D0%B2%D0%B0%D0%BD%D0%BD%D1%8B%D0%B9_%D1%8F%D0%B7%D1%8B%D0%BA_%D0%BF%D1%80%D0%BE%D0%B3%D1%80%D0%B0%D0%BC%D0%BC%D0%B8%D1%80%D0%BE%D0%B2%D0%B0%D0%BD%D0%B8%D1%8F);\n",
    "* имеет свою философию [The Zen of Python](https://peps.python.org/pep-0020/)."
   ]
  },
  {
   "cell_type": "markdown",
   "id": "a8b0cad1",
   "metadata": {},
   "source": [
    "Динамическая типизация означает, что мы можем одной и той же переменной присваивать значения\n",
    "различных типов:"
   ]
  },
  {
   "cell_type": "code",
   "execution_count": 21,
   "id": "1e0b832e",
   "metadata": {},
   "outputs": [],
   "source": [
    "a = 14"
   ]
  },
  {
   "cell_type": "code",
   "execution_count": 22,
   "id": "985d3fd6",
   "metadata": {},
   "outputs": [
    {
     "name": "stdout",
     "output_type": "stream",
     "text": [
      "14\n"
     ]
    }
   ],
   "source": [
    "print(a)"
   ]
  },
  {
   "cell_type": "code",
   "execution_count": 23,
   "id": "b21bc578",
   "metadata": {},
   "outputs": [
    {
     "data": {
      "text/plain": [
       "int"
      ]
     },
     "execution_count": 23,
     "metadata": {},
     "output_type": "execute_result"
    }
   ],
   "source": [
    "type(a)"
   ]
  },
  {
   "cell_type": "code",
   "execution_count": 24,
   "id": "2f92db39",
   "metadata": {},
   "outputs": [
    {
     "name": "stdout",
     "output_type": "stream",
     "text": [
      "14\n"
     ]
    },
    {
     "data": {
      "text/plain": [
       "14"
      ]
     },
     "execution_count": 24,
     "metadata": {},
     "output_type": "execute_result"
    }
   ],
   "source": [
    "print(a)\n",
    "a"
   ]
  },
  {
   "cell_type": "code",
   "execution_count": 25,
   "id": "b72ef244",
   "metadata": {},
   "outputs": [
    {
     "name": "stdout",
     "output_type": "stream",
     "text": [
      "<class 'int'>\n",
      "<class 'int'>\n",
      "<class 'int'>\n",
      "<class 'int'>\n"
     ]
    },
    {
     "data": {
      "text/plain": [
       "int"
      ]
     },
     "execution_count": 25,
     "metadata": {},
     "output_type": "execute_result"
    }
   ],
   "source": [
    "type(a)\n",
    "print(type(a))\n",
    "print(type(a))\n",
    "print(type(a))\n",
    "print(type(a))\n",
    "type(a)"
   ]
  },
  {
   "cell_type": "code",
   "execution_count": 26,
   "id": "883e5707",
   "metadata": {},
   "outputs": [
    {
     "name": "stdout",
     "output_type": "stream",
     "text": [
      "<class 'str'>\n"
     ]
    }
   ],
   "source": [
    "a = '14'\n",
    "print(type(a))"
   ]
  },
  {
   "cell_type": "code",
   "execution_count": 27,
   "id": "303534dd",
   "metadata": {},
   "outputs": [
    {
     "data": {
      "text/plain": [
       "str"
      ]
     },
     "execution_count": 27,
     "metadata": {},
     "output_type": "execute_result"
    }
   ],
   "source": [
    "a = '14'\n",
    "type(a)"
   ]
  },
  {
   "cell_type": "code",
   "execution_count": null,
   "id": "f997d29d",
   "metadata": {},
   "outputs": [],
   "source": [
    "a = 'dfh'\n",
    "print(type(a))"
   ]
  },
  {
   "cell_type": "code",
   "execution_count": null,
   "id": "d8c7ccc7",
   "metadata": {},
   "outputs": [],
   "source": [
    "a = 14.0\n",
    "print(type(a))"
   ]
  },
  {
   "cell_type": "code",
   "execution_count": null,
   "id": "a71d96d2",
   "metadata": {},
   "outputs": [],
   "source": [
    "type(a)"
   ]
  },
  {
   "cell_type": "code",
   "execution_count": null,
   "id": "4aa624fc",
   "metadata": {},
   "outputs": [],
   "source": [
    "print(14)"
   ]
  },
  {
   "cell_type": "code",
   "execution_count": null,
   "id": "d67a2188",
   "metadata": {},
   "outputs": [],
   "source": [
    "print('gfsfg')"
   ]
  },
  {
   "cell_type": "markdown",
   "id": "5dc1b35b",
   "metadata": {},
   "source": [
    "С одной стороны, это большое преимущество языка Python — повышается скорость разработки. С другой стороны, она предъявляет более высокие требования к культуре программирования в команде. В некоторых проектах используют аннотации или специальные\n",
    "инструменты для контроля типов, например pydantic.\n",
    "\n",
    "Ещё одна особенность — слово class рядом с именем каждого типа.\n",
    "Важно с первых шагов знать, что в Python всё является объектом, даже числа и строки. Такой подход, как и динамическая типизация, повышает скорость разработки, но увеличивает потребляемые ресурсы вычислительной системы."
   ]
  },
  {
   "cell_type": "markdown",
   "id": "171f318a",
   "metadata": {},
   "source": [
    "## Сферы применения и проекты, в которых используется Python\n",
    "Области применения Python\n",
    "1. Разработка сайтов — Flask , Django .\n",
    "2. Разработка API — DRF .\n",
    "3. Машинное обучение — TensorFlow , scikit-learn .\n",
    "4. Работа с данными — Scrapy , pandas .\n",
    "5. Системные утилиты — docker-compose .\n",
    "6. Работа с базами данных — sqlalchemy .\n",
    "7. Сложные вычисления — numpy ."
   ]
  },
  {
   "cell_type": "markdown",
   "id": "ccc73dc4",
   "metadata": {},
   "source": [
    "## Проекты, реализованные с применением Python\n",
    "1. YouTube \n",
    "2. Instagram \n",
    "3. BitTorrent (до версии 6.0)\n",
    "4. Blender \n",
    "5. Ubuntu Software Center \n",
    "6. DropBox\n",
    "7. Civilization IV, Battlefield 2, World of Tanks \n",
    "\n",
    "Кроме IT-гигантов, Python используют в своих разработках гиганты финансовой сферы: UBS,\n",
    "JPMorgan, Citadel."
   ]
  },
  {
   "cell_type": "markdown",
   "id": "66ea35f4",
   "metadata": {},
   "source": [
    "<a id=1></a>"
   ]
  },
  {
   "cell_type": "markdown",
   "id": "3ef4745d",
   "metadata": {},
   "source": [
    "### 1. Типы данных"
   ]
  },
  {
   "cell_type": "code",
   "execution_count": null,
   "id": "eb2562e8",
   "metadata": {},
   "outputs": [],
   "source": [
    "1+1"
   ]
  },
  {
   "cell_type": "code",
   "execution_count": null,
   "id": "cd13e96d",
   "metadata": {},
   "outputs": [],
   "source": [
    "1-1"
   ]
  },
  {
   "cell_type": "markdown",
   "id": "77871c6a",
   "metadata": {},
   "source": [
    "Операции"
   ]
  },
  {
   "cell_type": "code",
   "execution_count": null,
   "id": "62e87309",
   "metadata": {},
   "outputs": [],
   "source": [
    "print(1.0 + 1) # сложение\n",
    "print(1 - 1)\n",
    "print(10 / 2)\n",
    "print(10 * 3)\n",
    "print(10 // 3) # целочисленное деление\n",
    "print(10 % 3) # остаток от деления\n",
    "print(10 ** 3) # возведение в степень"
   ]
  },
  {
   "cell_type": "code",
   "execution_count": null,
   "id": "c40af84d",
   "metadata": {},
   "outputs": [],
   "source": [
    "a = 5\n",
    "b = 6\n",
    "result = 5 ** 6"
   ]
  },
  {
   "cell_type": "code",
   "execution_count": null,
   "id": "cb5a9cd4",
   "metadata": {},
   "outputs": [],
   "source": [
    "result * 2"
   ]
  },
  {
   "cell_type": "code",
   "execution_count": null,
   "id": "3a4be42d",
   "metadata": {},
   "outputs": [],
   "source": [
    "result"
   ]
  },
  {
   "cell_type": "markdown",
   "id": "0ec3a94d",
   "metadata": {},
   "source": [
    "#### int - целочисленный тип"
   ]
  },
  {
   "cell_type": "code",
   "execution_count": null,
   "id": "ea1d5f87",
   "metadata": {},
   "outputs": [],
   "source": [
    "my_int = 10\n",
    "print(type(my_int))"
   ]
  },
  {
   "cell_type": "markdown",
   "id": "5dbc22db",
   "metadata": {},
   "source": [
    "#### float – число с плавающей точкой"
   ]
  },
  {
   "cell_type": "code",
   "execution_count": null,
   "id": "95f1310d",
   "metadata": {},
   "outputs": [],
   "source": [
    "my_float = 10 / 5\n",
    "print(type(my_float))"
   ]
  },
  {
   "cell_type": "code",
   "execution_count": null,
   "id": "52541dc6",
   "metadata": {},
   "outputs": [],
   "source": [
    "# str\n",
    "my_str = \"'qwe'\"\n",
    "print(type(my_str))"
   ]
  },
  {
   "cell_type": "code",
   "execution_count": null,
   "id": "198b679d",
   "metadata": {},
   "outputs": [],
   "source": [
    "# bool\n",
    "my_bool = True  # False\n",
    "print(type(my_bool))"
   ]
  },
  {
   "cell_type": "markdown",
   "id": "9dbdc232",
   "metadata": {},
   "source": [
    "List, tuple, dict – особые типы данных присущи именно питону. Возможно они присутствуют в других языках в каком-то немного дургом виде, иначе называются."
   ]
  },
  {
   "cell_type": "markdown",
   "id": "8f384e30",
   "metadata": {},
   "source": [
    "#### Списки\n",
    "\n",
    "[Списки (list). Функции и методы списков](https://pythonworld.ru/tipy-dannyx-v-python/spiski-list-funkcii-i-metody-spiskov.html)"
   ]
  },
  {
   "cell_type": "code",
   "execution_count": null,
   "id": "d5e89c6b",
   "metadata": {},
   "outputs": [],
   "source": [
    "my_list = ['100', 10.54534, [5, 'qw'], 'True', 'qwe', False]\n",
    "\n",
    "print(my_list)\n",
    "print(type(my_list))"
   ]
  },
  {
   "cell_type": "code",
   "execution_count": null,
   "id": "abc4b535",
   "metadata": {},
   "outputs": [],
   "source": [
    "print(my_list[2])"
   ]
  },
  {
   "cell_type": "code",
   "execution_count": null,
   "id": "1071a016",
   "metadata": {},
   "outputs": [],
   "source": [
    "# Нумерация, обращение к списку.\n",
    "print(my_list[-2])"
   ]
  },
  {
   "cell_type": "code",
   "execution_count": null,
   "id": "8ca9449d",
   "metadata": {},
   "outputs": [],
   "source": [
    "my_list"
   ]
  },
  {
   "cell_type": "code",
   "execution_count": null,
   "id": "f71b5fc4",
   "metadata": {},
   "outputs": [],
   "source": [
    "# Список – изменяемый объект\n",
    "my_list.append(100)\n",
    "my_list.append(54)\n",
    "my_list.append(504)\n",
    "my_list"
   ]
  },
  {
   "cell_type": "markdown",
   "id": "e197ebc7",
   "metadata": {},
   "source": [
    "my_list[2] = 10\n",
    "print(my_list)"
   ]
  },
  {
   "cell_type": "markdown",
   "id": "82160630",
   "metadata": {},
   "source": [
    "#### tuple - кортеж\n",
    "\n"
   ]
  },
  {
   "cell_type": "code",
   "execution_count": 1,
   "id": "9027eba2",
   "metadata": {},
   "outputs": [],
   "source": [
    "my_tuple = ('100', 10.54534, [5, 'qw'], 'True', 'qwe')"
   ]
  },
  {
   "cell_type": "markdown",
   "id": "090c1958",
   "metadata": {},
   "source": [
    "Кортежи - неизменяемый тип данных!"
   ]
  },
  {
   "cell_type": "code",
   "execution_count": 2,
   "id": "16cb226e",
   "metadata": {},
   "outputs": [
    {
     "ename": "AttributeError",
     "evalue": "'tuple' object has no attribute 'append'",
     "output_type": "error",
     "traceback": [
      "\u001b[1;31m---------------------------------------------------------------------------\u001b[0m",
      "\u001b[1;31mAttributeError\u001b[0m                            Traceback (most recent call last)",
      "Cell \u001b[1;32mIn[2], line 1\u001b[0m\n\u001b[1;32m----> 1\u001b[0m my_tuple\u001b[38;5;241m.\u001b[39mappend(\u001b[38;5;241m123\u001b[39m)\n\u001b[0;32m      2\u001b[0m \u001b[38;5;28mprint\u001b[39m(my_tuple)\n",
      "\u001b[1;31mAttributeError\u001b[0m: 'tuple' object has no attribute 'append'"
     ]
    }
   ],
   "source": [
    "my_tuple.append(123)\n",
    "print(my_tuple)"
   ]
  },
  {
   "cell_type": "code",
   "execution_count": 3,
   "id": "920f76bd",
   "metadata": {},
   "outputs": [
    {
     "ename": "TypeError",
     "evalue": "'tuple' object does not support item assignment",
     "output_type": "error",
     "traceback": [
      "\u001b[1;31m---------------------------------------------------------------------------\u001b[0m",
      "\u001b[1;31mTypeError\u001b[0m                                 Traceback (most recent call last)",
      "Cell \u001b[1;32mIn[3], line 1\u001b[0m\n\u001b[1;32m----> 1\u001b[0m my_tuple[\u001b[38;5;241m1\u001b[39m] \u001b[38;5;241m=\u001b[39m \u001b[38;5;241m23\u001b[39m\n",
      "\u001b[1;31mTypeError\u001b[0m: 'tuple' object does not support item assignment"
     ]
    }
   ],
   "source": [
    "my_tuple[1] = 23"
   ]
  },
  {
   "cell_type": "markdown",
   "id": "b167c64d",
   "metadata": {},
   "source": [
    "Кортежи поддерживают все операции над списками, не изменяющие список (сложение, умножение на число, методы index() и count() и некоторые другие операции)\n",
    "\n",
    "Зачем нужны кортежи, если есть списки?\n",
    "\n",
    "* Кортеж защищен от изменений, как намеренных (что плохо), так и случайных (что хорошо).\n",
    "* Меньший размер (список — изменяемая последовательность. Это означает, что в него можно добавлять новые элементы. Из-за этого Python приходится выделять для списка больше памяти, чем нужно.)"
   ]
  },
  {
   "cell_type": "code",
   "execution_count": null,
   "id": "fd658727",
   "metadata": {},
   "outputs": [],
   "source": [
    "a = (1, 2, 3, 4, 5, 6)\n",
    "b = [1, 2, 3, 4, 5, 6]"
   ]
  },
  {
   "cell_type": "code",
   "execution_count": null,
   "id": "fd43f407",
   "metadata": {},
   "outputs": [],
   "source": [
    "a.__sizeof__() # возвращает размер объекта в байтах"
   ]
  },
  {
   "cell_type": "code",
   "execution_count": null,
   "id": "6fbf3e6a",
   "metadata": {},
   "outputs": [],
   "source": [
    "b.__sizeof__()"
   ]
  },
  {
   "cell_type": "markdown",
   "id": "815f3ea3",
   "metadata": {},
   "source": [
    "#### Множества"
   ]
  },
  {
   "cell_type": "code",
   "execution_count": null,
   "id": "e10b2ed0",
   "metadata": {},
   "outputs": [],
   "source": [
    "set_1 = {'a', 'b', 'c', 'd'}\n",
    "set_1"
   ]
  },
  {
   "cell_type": "code",
   "execution_count": null,
   "id": "3b553894",
   "metadata": {},
   "outputs": [],
   "source": [
    "set_2 = {'a', 'b', 'c', 'd', 'a', 'b', 'a'}\n",
    "set_2"
   ]
  },
  {
   "cell_type": "code",
   "execution_count": null,
   "id": "068445ea",
   "metadata": {},
   "outputs": [],
   "source": [
    "set_1 == set_2"
   ]
  },
  {
   "cell_type": "code",
   "execution_count": null,
   "id": "a7e3c801",
   "metadata": {},
   "outputs": [],
   "source": [
    "'''\n",
    "Множества не могут содержать повторяющиеся элементы. \n",
    "Если в функцию set() передать аргумент, содержащий повторяющиеся элементы, \n",
    "то в множестве появится только один из этих повторяющихся элементов.\n",
    "'''\n",
    "\n",
    "myset1 = {2, 2, 4, 6, 6}\n",
    "myset2 = set([1, 2, 2, 3, 3])\n",
    "myset3 = set('aaaaabbbbccccddd')\n",
    "\n",
    "print(myset1)\n",
    "print(myset2)\n",
    "print(myset3)\n"
   ]
  },
  {
   "cell_type": "code",
   "execution_count": null,
   "id": "f922cd94",
   "metadata": {},
   "outputs": [],
   "source": [
    "int({'c', 'a', 'd', 'b'})"
   ]
  },
  {
   "cell_type": "code",
   "execution_count": null,
   "id": "e56d135e",
   "metadata": {},
   "outputs": [],
   "source": [
    "set(list('aaaaabb...bbcccc33333ddd'))"
   ]
  },
  {
   "cell_type": "code",
   "execution_count": null,
   "id": "683519a5",
   "metadata": {},
   "outputs": [],
   "source": [
    "my_list = [1, 2, 2, 3, 3]\n"
   ]
  },
  {
   "cell_type": "code",
   "execution_count": null,
   "id": "e15aaad8",
   "metadata": {},
   "outputs": [],
   "source": [
    "set(tuple(my_list))"
   ]
  },
  {
   "cell_type": "markdown",
   "id": "ff4a8cc3",
   "metadata": {},
   "source": [
    "`set` - изменяемый тип данных, `frozenset` - неизменяемый\n",
    "\n",
    "[Множества (set и frozenset)](https://pythonworld.ru/tipy-dannyx-v-python/mnozhestva-set-i-frozenset.html)"
   ]
  },
  {
   "cell_type": "code",
   "execution_count": 4,
   "id": "426214a5",
   "metadata": {},
   "outputs": [
    {
     "data": {
      "text/plain": [
       "frozenset({'a', 'b', 'c', 'd'})"
      ]
     },
     "execution_count": 4,
     "metadata": {},
     "output_type": "execute_result"
    }
   ],
   "source": [
    "set_3 = frozenset(['a', 'b', 'c', 'd', 'a', 'b', 'a'])\n",
    "set_3"
   ]
  },
  {
   "cell_type": "code",
   "execution_count": 5,
   "id": "cc376014",
   "metadata": {},
   "outputs": [
    {
     "ename": "AttributeError",
     "evalue": "'frozenset' object has no attribute 'add'",
     "output_type": "error",
     "traceback": [
      "\u001b[1;31m---------------------------------------------------------------------------\u001b[0m",
      "\u001b[1;31mAttributeError\u001b[0m                            Traceback (most recent call last)",
      "Cell \u001b[1;32mIn[5], line 1\u001b[0m\n\u001b[1;32m----> 1\u001b[0m set_3\u001b[38;5;241m.\u001b[39madd(\u001b[38;5;124m'\u001b[39m\u001b[38;5;124me\u001b[39m\u001b[38;5;124m'\u001b[39m)\n",
      "\u001b[1;31mAttributeError\u001b[0m: 'frozenset' object has no attribute 'add'"
     ]
    }
   ],
   "source": [
    "set_3.add('e')"
   ]
  },
  {
   "cell_type": "markdown",
   "id": "c1fb2403",
   "metadata": {},
   "source": [
    "#### Cловари\n",
    "dict[key] = value\n",
    "\n",
    "[Словари (dict) и работа с ними. Методы словарей](https://pythonworld.ru/tipy-dannyx-v-python/slovari-dict-funkcii-i-metody-slovarej.html)"
   ]
  },
  {
   "cell_type": "code",
   "execution_count": 13,
   "id": "c0f8224a",
   "metadata": {},
   "outputs": [
    {
     "data": {
      "text/plain": [
       "{'red': 'красный', 'yellow': 'желтый'}"
      ]
     },
     "execution_count": 13,
     "metadata": {},
     "output_type": "execute_result"
    }
   ],
   "source": [
    "colors = {'red': 'красный', 'yellow': 'желтый'}\n",
    "colors"
   ]
  },
  {
   "cell_type": "markdown",
   "id": "c4fda1d0",
   "metadata": {},
   "source": [
    "Ключи могут быть разных типов"
   ]
  },
  {
   "cell_type": "code",
   "execution_count": 14,
   "id": "04402c5b",
   "metadata": {},
   "outputs": [
    {
     "data": {
      "text/plain": [
       "{'red': 'красный', 'yellow': 'желтый', 'green': 'зеленый', 1: '2'}"
      ]
     },
     "execution_count": 14,
     "metadata": {},
     "output_type": "execute_result"
    }
   ],
   "source": [
    "colors['green'] = 'зеленый'\n",
    "colors[1] = '2'\n",
    "colors"
   ]
  },
  {
   "cell_type": "code",
   "execution_count": 15,
   "id": "34b52dd9",
   "metadata": {},
   "outputs": [
    {
     "ename": "TypeError",
     "evalue": "unhashable type: 'list'",
     "output_type": "error",
     "traceback": [
      "\u001b[1;31m---------------------------------------------------------------------------\u001b[0m",
      "\u001b[1;31mTypeError\u001b[0m                                 Traceback (most recent call last)",
      "Cell \u001b[1;32mIn[15], line 1\u001b[0m\n\u001b[1;32m----> 1\u001b[0m colors[[\u001b[38;5;241m1\u001b[39m, \u001b[38;5;241m2\u001b[39m, \u001b[38;5;241m3\u001b[39m]] \u001b[38;5;241m=\u001b[39m \u001b[38;5;124m'\u001b[39m\u001b[38;5;124mlist\u001b[39m\u001b[38;5;124m'\u001b[39m\n",
      "\u001b[1;31mTypeError\u001b[0m: unhashable type: 'list'"
     ]
    }
   ],
   "source": [
    "colors[[1, 2, 3]] = 'list'"
   ]
  },
  {
   "cell_type": "code",
   "execution_count": 16,
   "id": "1d20fec6",
   "metadata": {},
   "outputs": [
    {
     "data": {
      "text/plain": [
       "{'red': 'красный',\n",
       " 'yellow': 'желтый',\n",
       " 'green': 'зеленый',\n",
       " 1: '2',\n",
       " (1, 2, 3): 'tuple'}"
      ]
     },
     "execution_count": 16,
     "metadata": {},
     "output_type": "execute_result"
    }
   ],
   "source": [
    "colors[(1, 2, 3)] = 'tuple'\n",
    "colors"
   ]
  },
  {
   "cell_type": "code",
   "execution_count": 17,
   "id": "ed4213da",
   "metadata": {},
   "outputs": [
    {
     "name": "stdout",
     "output_type": "stream",
     "text": [
      "красный\n",
      "желтый\n",
      "зеленый\n",
      "2\n",
      "tuple\n"
     ]
    }
   ],
   "source": [
    "for item in colors.values():\n",
    "  print(item)"
   ]
  },
  {
   "cell_type": "code",
   "execution_count": 18,
   "id": "f129cb05",
   "metadata": {},
   "outputs": [
    {
     "name": "stdout",
     "output_type": "stream",
     "text": [
      "red\n",
      "yellow\n",
      "green\n",
      "1\n",
      "(1, 2, 3)\n"
     ]
    }
   ],
   "source": [
    "for item in colors.keys():\n",
    "  print(item)"
   ]
  },
  {
   "cell_type": "code",
   "execution_count": 19,
   "id": "89f8b535",
   "metadata": {},
   "outputs": [
    {
     "name": "stdout",
     "output_type": "stream",
     "text": [
      "red: красный\n",
      "yellow: желтый\n",
      "green: зеленый\n",
      "1: 2\n",
      "(1, 2, 3): tuple\n"
     ]
    }
   ],
   "source": [
    "for k, v in colors.items():\n",
    "  print(f'{k}: {v}')"
   ]
  },
  {
   "cell_type": "markdown",
   "id": "d90f13b4",
   "metadata": {},
   "source": [
    "У каждой переменной в Python должно быть уникальное имя. Можно использовать буквы a–z, цифры 0–9, символ _. \n",
    "\n",
    "Стиль snake_case - разделение слов знаком подчеркивания (my_variable).\n",
    "\n",
    "Первым символом не может быть цифра, т.к. Python — язык регистрозависимый (большие и маленькие буквы в имени переменной различаются).\n",
    "\n",
    "Неправильно: 5_var, User_1, 0data, tmpFile, minStep_shift\n",
    "\n",
    "Отдельного типа для констант в Python нет, но, как и во многих других языках, есть соглашение между\n",
    "разработчиками — писать константы в верхнем регистре, например: MAX_ATTEMPTS, MEDIA_URL, DEBUG\n",
    "\n",
    "* давайте переменным осмысленные имена\n",
    "* коротких переменных вида a, b, x, y, z - в особых случаях\n",
    "* никакого транслита : skorost, imya. Только английские слова."
   ]
  },
  {
   "cell_type": "markdown",
   "id": "29ffb26d",
   "metadata": {},
   "source": [
    "**!!! Никода не использовать в качестве имен:**\n",
    "\n",
    "[Зарезервированные слова](https://docs.python.org/3/reference/lexical_analysis.html#keywords)\n",
    "\n",
    "[Встроенные функции](https://docs.python.org/3/library/functions.html)\n",
    "\n",
    "[Встроенные типы](https://docs.python.org/3/library/stdtypes.html)"
   ]
  },
  {
   "cell_type": "markdown",
   "id": "6a6f81fb",
   "metadata": {},
   "source": [
    "<a id=3></a>"
   ]
  },
  {
   "cell_type": "markdown",
   "id": "3e4ec942",
   "metadata": {},
   "source": [
    "### Ввод данных с клавиатуры"
   ]
  },
  {
   "cell_type": "code",
   "execution_count": null,
   "id": "416a5fba",
   "metadata": {},
   "outputs": [],
   "source": [
    "input('Введите имя: ')"
   ]
  },
  {
   "cell_type": "code",
   "execution_count": null,
   "id": "20c314c1",
   "metadata": {},
   "outputs": [],
   "source": [
    "name = input('Введите имя: ')\n",
    "print(type(name))"
   ]
  },
  {
   "cell_type": "code",
   "execution_count": null,
   "id": "c4d4f93f",
   "metadata": {},
   "outputs": [],
   "source": [
    "name"
   ]
  },
  {
   "cell_type": "code",
   "execution_count": null,
   "id": "0e64d648",
   "metadata": {},
   "outputs": [],
   "source": [
    "age = input('Введите возраст: ')"
   ]
  },
  {
   "cell_type": "code",
   "execution_count": null,
   "id": "f22b8953",
   "metadata": {},
   "outputs": [],
   "source": [
    "type(age)"
   ]
  },
  {
   "cell_type": "code",
   "execution_count": null,
   "id": "1319014a",
   "metadata": {},
   "outputs": [],
   "source": [
    "print(int(age) + 10)"
   ]
  },
  {
   "cell_type": "code",
   "execution_count": null,
   "id": "687e64e9",
   "metadata": {},
   "outputs": [],
   "source": [
    "age + '5'"
   ]
  },
  {
   "cell_type": "code",
   "execution_count": null,
   "id": "a8cd162f",
   "metadata": {},
   "outputs": [],
   "source": [
    "print(type(age + '5'))"
   ]
  },
  {
   "cell_type": "code",
   "execution_count": null,
   "id": "3b50677a",
   "metadata": {},
   "outputs": [],
   "source": [
    "print(int(age + '5'))"
   ]
  },
  {
   "cell_type": "code",
   "execution_count": null,
   "id": "7b415566",
   "metadata": {},
   "outputs": [],
   "source": [
    "print(float(age + '5'))"
   ]
  },
  {
   "cell_type": "markdown",
   "id": "c12dfb3c",
   "metadata": {},
   "source": [
    "<a id=3></a>"
   ]
  },
  {
   "cell_type": "markdown",
   "id": "a6b590fb",
   "metadata": {},
   "source": [
    "### Основные операции с данными"
   ]
  },
  {
   "cell_type": "markdown",
   "id": "c24e72d2",
   "metadata": {},
   "source": [
    "Сложение: +\n",
    "\n",
    "Вычитание: -\n",
    "\n",
    "Умножение: *\n",
    "\n",
    "Деление: /\n",
    "\n",
    "Целочисленное деление: //\n",
    "\n",
    "Остаток от деления: %\n",
    "\n",
    "Возведение в степень: **"
   ]
  },
  {
   "cell_type": "code",
   "execution_count": null,
   "id": "5faee511",
   "metadata": {},
   "outputs": [],
   "source": [
    "123 + 5.0"
   ]
  },
  {
   "cell_type": "code",
   "execution_count": null,
   "id": "c1461ef2",
   "metadata": {},
   "outputs": [],
   "source": [
    "42 - 1"
   ]
  },
  {
   "cell_type": "code",
   "execution_count": null,
   "id": "dd1fa468",
   "metadata": {},
   "outputs": [],
   "source": [
    "5 * 9.5"
   ]
  },
  {
   "cell_type": "code",
   "execution_count": null,
   "id": "d55dc73d",
   "metadata": {},
   "outputs": [],
   "source": [
    "999 / 9"
   ]
  },
  {
   "cell_type": "code",
   "execution_count": null,
   "id": "0643b3fc",
   "metadata": {},
   "outputs": [],
   "source": [
    "123 // 10"
   ]
  },
  {
   "cell_type": "code",
   "execution_count": null,
   "id": "1cbfed69",
   "metadata": {},
   "outputs": [],
   "source": [
    "11 % 3"
   ]
  },
  {
   "cell_type": "code",
   "execution_count": null,
   "id": "e81f5360",
   "metadata": {},
   "outputs": [],
   "source": [
    "2 ** 10"
   ]
  },
  {
   "cell_type": "code",
   "execution_count": null,
   "id": "2b846b17",
   "metadata": {},
   "outputs": [],
   "source": [
    "a = 10\n",
    "b = 3\n",
    "print(a + b)\n",
    "print(a - b)\n",
    "print(a * b)\n",
    "print(a / b)\n",
    "print(a // b)\n",
    "print(a % b)\n",
    "print((a ** 10 + b ** 10) ** 0.5)"
   ]
  },
  {
   "cell_type": "code",
   "execution_count": null,
   "id": "955e1065",
   "metadata": {},
   "outputs": [],
   "source": [
    "# перезаписываем результат в переменную,которая уже участвует в операции\n",
    "\n",
    "a = 12\n",
    "b = 32\n",
    "\n",
    "a += b # a = a + b\n",
    "print(a)"
   ]
  },
  {
   "cell_type": "code",
   "execution_count": null,
   "id": "c89f8a5d",
   "metadata": {},
   "outputs": [],
   "source": [
    "num1 = 2 + 3 * 4\n",
    "num2 = (2 + 3) * 4\n",
    "print(num1)\n",
    "print(num2)"
   ]
  },
  {
   "cell_type": "code",
   "execution_count": null,
   "id": "7b5d185e",
   "metadata": {},
   "outputs": [],
   "source": [
    "print(2 ** 2 ** 3) # 2 ** (2 ** 3) = 2 ** 8\n",
    "print(10 // 3)\n",
    "print(-10 % 3)\n",
    "print(-10/3)"
   ]
  },
  {
   "cell_type": "code",
   "execution_count": null,
   "id": "dad5f021",
   "metadata": {},
   "outputs": [],
   "source": [
    "a = 10\n",
    "a = a / 5\n",
    "# a /= 5\n",
    "print(a)\n",
    "b = 1\n",
    "b += a\n",
    "# b = b + a\n",
    "print(b)"
   ]
  },
  {
   "cell_type": "code",
   "execution_count": null,
   "id": "825ee22e",
   "metadata": {},
   "outputs": [],
   "source": [
    "a, b, c = 15, 0.9, 'kjg'\n",
    "print(a)\n",
    "print(b)\n",
    "print(c)"
   ]
  },
  {
   "cell_type": "code",
   "execution_count": null,
   "id": "af9603e6",
   "metadata": {},
   "outputs": [],
   "source": [
    "a, b"
   ]
  },
  {
   "cell_type": "code",
   "execution_count": null,
   "id": "a9f1338f",
   "metadata": {},
   "outputs": [],
   "source": [
    "d = a, b, c"
   ]
  },
  {
   "cell_type": "code",
   "execution_count": null,
   "id": "276f3d0a",
   "metadata": {},
   "outputs": [],
   "source": [
    "d"
   ]
  },
  {
   "cell_type": "markdown",
   "id": "2dc80de2",
   "metadata": {},
   "source": [
    "#### Логические операции"
   ]
  },
  {
   "cell_type": "markdown",
   "id": "e36569fa",
   "metadata": {},
   "source": [
    "* and — логическое умножение «И»\n",
    "* or — логическое сложение «ИЛИ»\n",
    "* not — логическое отрицание «НЕ»"
   ]
  },
  {
   "cell_type": "markdown",
   "id": "5c293633",
   "metadata": {},
   "source": [
    "Логическое умножение работает по сути как обычное"
   ]
  },
  {
   "cell_type": "code",
   "execution_count": null,
   "id": "47b9a302",
   "metadata": {},
   "outputs": [],
   "source": [
    "print(True and True) # True\n",
    "print(1 * 1) # 1\n",
    "print(True and False) # False\n",
    "print(1 * 0) # 0"
   ]
  },
  {
   "cell_type": "code",
   "execution_count": null,
   "id": "d492f2de",
   "metadata": {},
   "outputs": [],
   "source": [
    "False and False"
   ]
  },
  {
   "cell_type": "markdown",
   "id": "25157c21",
   "metadata": {},
   "source": [
    "Логическое сложение «округляет» до ближайшего значения — True . Это особенности двоичной системы счисления,\n",
    "которая представлена значениями False (аналог 0 ) и True (аналог 1 )."
   ]
  },
  {
   "cell_type": "code",
   "execution_count": null,
   "id": "3eee22c9",
   "metadata": {},
   "outputs": [],
   "source": [
    "print(True or True) # True\n",
    "print(1 + 1) # 2\n",
    "print(True or False) # True\n",
    "print(1 + 0) # 1\n",
    "print(False or False) # False\n",
    "print(0 + 0) # 0"
   ]
  },
  {
   "cell_type": "markdown",
   "id": "c645ad4b",
   "metadata": {},
   "source": [
    "Логическое отрицание меняет значение на противоположное"
   ]
  },
  {
   "cell_type": "code",
   "execution_count": null,
   "id": "9c0705ef",
   "metadata": {},
   "outputs": [],
   "source": [
    "print(not True) # False\n",
    "print(not False) # True"
   ]
  },
  {
   "cell_type": "code",
   "execution_count": null,
   "id": "73a6f353",
   "metadata": {},
   "outputs": [],
   "source": [
    "a = True\n",
    "b = False\n",
    "\n",
    "print('a and b равно ', a and b)\n",
    "print('a or b равно ', a or b)\n",
    "print('not a равно ', not a)"
   ]
  },
  {
   "cell_type": "code",
   "execution_count": null,
   "id": "16224344",
   "metadata": {},
   "outputs": [],
   "source": [
    "print(True==1)\n",
    "print(False==0)"
   ]
  },
  {
   "cell_type": "code",
   "execution_count": null,
   "id": "7fe59c6b",
   "metadata": {},
   "outputs": [],
   "source": [
    "print(True + True + True - False)\n",
    "print(type(True + True + True - False))\n",
    "print(True + (False / True))\n",
    "print(type(True + (False / True)))"
   ]
  },
  {
   "cell_type": "markdown",
   "id": "07caa74d",
   "metadata": {},
   "source": [
    "* \\== — равно;\n",
    "* \\!= — не равно;\n",
    "* \\> — больше;\n",
    "* \\>= — больше или равно;\n",
    "* \\< — меньше;\n",
    "* \\<= — меньше или равно."
   ]
  },
  {
   "cell_type": "code",
   "execution_count": null,
   "id": "af85cc35",
   "metadata": {},
   "outputs": [],
   "source": [
    "print(17 > 7)\n",
    "print(17 == 7)\n",
    "print(17 < 7)\n",
    "print(17 != 7)"
   ]
  },
  {
   "cell_type": "code",
   "execution_count": null,
   "id": "c3de2b0f",
   "metadata": {},
   "outputs": [],
   "source": [
    "int(17 > 7)"
   ]
  },
  {
   "cell_type": "code",
   "execution_count": null,
   "id": "1a7b927b",
   "metadata": {},
   "outputs": [],
   "source": [
    "int(17 == 7)"
   ]
  },
  {
   "cell_type": "code",
   "execution_count": null,
   "id": "bddf6c88",
   "metadata": {},
   "outputs": [],
   "source": [
    "age = 15\n",
    "university = 'VAVT'"
   ]
  },
  {
   "cell_type": "code",
   "execution_count": null,
   "id": "5757d238",
   "metadata": {},
   "outputs": [],
   "source": [
    "time_to_python = (age > 18) or (not (university in [\"VAVT\", \"HSE\", \"ITMO\"]))"
   ]
  },
  {
   "cell_type": "code",
   "execution_count": null,
   "id": "d10e55e8",
   "metadata": {},
   "outputs": [],
   "source": [
    "time_to_python"
   ]
  },
  {
   "cell_type": "markdown",
   "id": "f10e8a96",
   "metadata": {},
   "source": [
    "Приоритет выполнения операций в Python от самого низкого к самому высокому\n",
    "* \\=\n",
    "* if – else\n",
    "* or\n",
    "* and\n",
    "* not x\n",
    "* in, not in, is, is not, \\<, \\<=, \\>, \\>=, \\!=, \\==\n",
    "* +, -\n",
    "* *, /, //, %\n",
    "* \\**\n",
    "\n",
    "т.е. чем ниже операция, тем раньше она выполняется"
   ]
  },
  {
   "cell_type": "markdown",
   "id": "697d2df0",
   "metadata": {},
   "source": [
    "<a id=4></a>"
   ]
  },
  {
   "cell_type": "markdown",
   "id": "5765ac28",
   "metadata": {},
   "source": [
    "### Ветвления"
   ]
  },
  {
   "cell_type": "code",
   "execution_count": null,
   "id": "fe38ede6",
   "metadata": {},
   "outputs": [],
   "source": [
    "# Даны 2 числа. Показать большее и меньшее.\n",
    "\n",
    "a = 12\n",
    "b = 17\n",
    "# a = input('введите a: ')\n",
    "# a = int(a)\n",
    "# b = int(input('введите b: '))\n",
    "if a > b:\n",
    "    print('Больше', a, 'меньше', b)\n",
    "else:\n",
    "    print('Больше', b, 'меньше', a)"
   ]
  },
  {
   "cell_type": "code",
   "execution_count": null,
   "id": "1578f52c",
   "metadata": {},
   "outputs": [],
   "source": [
    "a = input('Введите пароль: ')\n"
   ]
  },
  {
   "cell_type": "code",
   "execution_count": null,
   "id": "054bfed7",
   "metadata": {},
   "outputs": [],
   "source": [
    "# авторизация на сайте\n",
    "password = 'qwe'\n",
    "admin_pass = 'admin'\n",
    "\n",
    "if input('Введите пароль: ') == password:\n",
    "    print('Авторизован успешно!')\n",
    "    if input('Введите пароль админа: ') == admin_pass:\n",
    "        print('Rooted!')\n",
    "    else:\n",
    "        print('Not Rooted!')\n",
    "else:\n",
    "    print('не авторизован успешно!')"
   ]
  },
  {
   "cell_type": "code",
   "execution_count": null,
   "id": "fcd0151e",
   "metadata": {},
   "outputs": [],
   "source": [
    "color = 'green' #'qweqwe'\n",
    "\n",
    "if color == 'red':\n",
    "    print('красный')\n",
    "elif color == 'green':\n",
    "    print('зеленый')\n",
    "elif color == 'black':\n",
    "    print('черный')\n",
    "elif color == 'white':\n",
    "    print('белый')\n",
    "else:\n",
    "    print('unk')"
   ]
  },
  {
   "cell_type": "code",
   "execution_count": null,
   "id": "bb05dba2",
   "metadata": {},
   "outputs": [],
   "source": [
    "color = 'red' #'qweqwe'\n",
    "\n",
    "if color == 'red':    \n",
    "    print('красный')"
   ]
  },
  {
   "cell_type": "code",
   "execution_count": null,
   "id": "5cbc51ea",
   "metadata": {},
   "outputs": [],
   "source": [
    "if color == 'green':\n",
    "    print('зеленый')"
   ]
  },
  {
   "cell_type": "code",
   "execution_count": null,
   "id": "4d9a52c0",
   "metadata": {},
   "outputs": [],
   "source": [
    "if color == 'black':\n",
    "    print('черный')"
   ]
  },
  {
   "cell_type": "code",
   "execution_count": null,
   "id": "61424aea",
   "metadata": {},
   "outputs": [],
   "source": [
    "if color == 'white':\n",
    "    print('белый')\n",
    "else:\n",
    "    print('unk')"
   ]
  },
  {
   "cell_type": "markdown",
   "id": "cc84de80",
   "metadata": {},
   "source": [
    "Обратите внимание на отступы!\n",
    "\n",
    "Отступы — очень важная концепция Python, поскольку без правильного отступа в коде Python вы в конечном итоге увидите IndentationError, и код не будет скомпилирован.\n",
    "\n",
    "Отступы Python — это добавление пробелов перед оператором в определенном блоке кода. Другими словами, все операторы с одинаковым пробелом справа принадлежат одному и тому же блоку кода.\n",
    "\n",
    "Блок представляет собой комбинацию всех этих операторов. Блок можно рассматривать как группировку операторов для определенной цели. Большинство языков программирования, таких как C , C++ и Java , используют фигурные скобки {} для определения блока кода. Python использует отступы для выделения блоков кода. Пробелы используются для отступов в Python. Все операторы с одинаковым расстоянием вправо принадлежат одному и тому же блоку кода. Если блок должен быть более глубоко вложен, его просто смещают дальше вправо. Вы можете лучше понять это, посмотрев следующие строки кода. "
   ]
  },
  {
   "cell_type": "code",
   "execution_count": null,
   "id": "ee47ce93",
   "metadata": {},
   "outputs": [],
   "source": [
    "def my_small_function():      # [0 пробелов] определение функции со знаком «:» в конце\n",
    "    if a > b:                 # [4 пробела] начало блока условия, располагается внутри функции\n",
    "        return a              # [8 пробелов] часть блока if\n",
    "    else:                     # [4 пробела] продолжение блока условия, на том же уровне, что и if\n",
    "        return b              # [8 пробелов] часть блока else\n",
    "print('Результат сравнения чисел: ', my_small_function())    # [0 пробелов] вызов функции вне ее блока"
   ]
  },
  {
   "cell_type": "markdown",
   "id": "6d0a28e5",
   "metadata": {},
   "source": [
    "<a id=5></a>"
   ]
  },
  {
   "cell_type": "markdown",
   "id": "6f2d9c5d",
   "metadata": {},
   "source": [
    "### Циклы\n",
    "\n",
    "В программировании циклы позволяют повторять некоторое действие в зависимости от соблюдения заданного условия. Таким образом организуется исполнение многократной последовательности инструкций.\n",
    "\n",
    "Есть еще несколько важных понятий, которые нужно знать:\n",
    "\n",
    "**Телом цикла** называется та последовательность кода, которую нужно выполнить несколько раз.\n",
    "\n",
    "**Единоразовое выполнение** – это итерация."
   ]
  },
  {
   "cell_type": "markdown",
   "id": "d86f75dc",
   "metadata": {},
   "source": [
    "* while - цикл с предусловием - цикл, который выполняется, пока истинно некоторое условие, указанное перед его началом\n",
    "* for - применяется для обхода последовательности"
   ]
  },
  {
   "cell_type": "code",
   "execution_count": 1,
   "id": "2abb8c9c",
   "metadata": {
    "scrolled": true
   },
   "outputs": [
    {
     "name": "stdout",
     "output_type": "stream",
     "text": [
      "0\n",
      "1\n",
      "\n",
      "1\n",
      "2\n",
      "\n",
      "2\n",
      "3\n",
      "\n",
      "3\n",
      "4\n",
      "\n"
     ]
    }
   ],
   "source": [
    "i = 0\n",
    "while i <= 3:\n",
    "    print(i)\n",
    "    i += 1  # i = i + 1\n",
    "    print(i, end = '\\n\\n')"
   ]
  },
  {
   "cell_type": "code",
   "execution_count": null,
   "id": "bc7b9d49",
   "metadata": {},
   "outputs": [],
   "source": [
    "print('final i =', i)"
   ]
  },
  {
   "cell_type": "code",
   "execution_count": 8,
   "id": "6be52db3",
   "metadata": {},
   "outputs": [
    {
     "name": "stdout",
     "output_type": "stream",
     "text": [
      "1\n",
      "2\n",
      "4\n",
      "5\n",
      "6\n",
      "7\n",
      "8\n"
     ]
    }
   ],
   "source": [
    "i = 0\n",
    "while i < 10:\n",
    "    \n",
    "    i += 1  # i = i + 1\n",
    "    if i == 3:\n",
    "#         print(i)\n",
    "        continue # не выполняем все, что после этого шага в цикле, идем на следующую итерацию\n",
    "    print(i)\n",
    "    if i == 8:\n",
    "        break # выход из цикла    "
   ]
  },
  {
   "cell_type": "code",
   "execution_count": 9,
   "id": "70a5d2f1",
   "metadata": {},
   "outputs": [
    {
     "name": "stdout",
     "output_type": "stream",
     "text": [
      "1\n",
      "2\n",
      "3\n",
      "4\n",
      "5\n",
      "6\n",
      "7\n",
      "8\n",
      "9\n",
      "10\n",
      "fin 10\n"
     ]
    }
   ],
   "source": [
    "i = 0\n",
    "while True:    \n",
    "    i += 1\n",
    "    print(i)\n",
    "    if i == 10:\n",
    "        break\n",
    "print('fin', i)"
   ]
  },
  {
   "cell_type": "code",
   "execution_count": 11,
   "id": "0eece1b7",
   "metadata": {},
   "outputs": [
    {
     "data": {
      "text/plain": [
       "7"
      ]
     },
     "execution_count": 11,
     "metadata": {},
     "output_type": "execute_result"
    }
   ],
   "source": [
    "numbers = [2, 5, 13, 7, 6, 4, 8]\n",
    "len(numbers)"
   ]
  },
  {
   "cell_type": "code",
   "execution_count": 14,
   "id": "c641fcf9",
   "metadata": {},
   "outputs": [
    {
     "name": "stdout",
     "output_type": "stream",
     "text": [
      "12.7\n"
     ]
    }
   ],
   "source": [
    "numbers = [2, 5, 13, 7, 6, 4, 5, 45, -5, 45]\n",
    "\n",
    "my_sum1 = 0\n",
    "index = 0\n",
    "while index < len(numbers):\n",
    "    my_sum1 = my_sum1 + numbers[index]\n",
    "    index += 1\n",
    "avg = my_sum1/len(numbers)\n",
    "print(avg)"
   ]
  },
  {
   "cell_type": "code",
   "execution_count": 17,
   "id": "9fecb83a",
   "metadata": {},
   "outputs": [],
   "source": [
    "index = 2"
   ]
  },
  {
   "cell_type": "code",
   "execution_count": 18,
   "id": "2be36d74",
   "metadata": {},
   "outputs": [
    {
     "data": {
      "text/plain": [
       "13"
      ]
     },
     "execution_count": 18,
     "metadata": {},
     "output_type": "execute_result"
    }
   ],
   "source": [
    "numbers[index]"
   ]
  },
  {
   "cell_type": "code",
   "execution_count": 19,
   "id": "dd360ae4",
   "metadata": {},
   "outputs": [
    {
     "name": "stdout",
     "output_type": "stream",
     "text": [
      "3149.6400000000003\n"
     ]
    }
   ],
   "source": [
    "day_sales = [ 1589.5 , 2687.5 , 5478.2 , 1236.5 , 4756.5 ]\n",
    "idx = 0\n",
    "total_sales = 0\n",
    "while idx < len(day_sales): # pre-condition\n",
    "    total_sales = total_sales + day_sales[idx]\n",
    "    idx = idx + 1\n",
    "price_per_product = total_sales / len(day_sales)\n",
    "print(price_per_product)"
   ]
  },
  {
   "cell_type": "code",
   "execution_count": 5,
   "id": "156df9a1",
   "metadata": {},
   "outputs": [
    {
     "name": "stdout",
     "output_type": "stream",
     "text": [
      "0\n",
      "1\n",
      "2\n",
      "zsfg\n",
      "3\n",
      "4\n",
      "5\n"
     ]
    }
   ],
   "source": [
    "my_list = [0, 1, 2, 'zsfg', 3, 4, 5]\n",
    "for el in my_list:\n",
    "    print(el)"
   ]
  },
  {
   "cell_type": "code",
   "execution_count": 6,
   "id": "10f70b19",
   "metadata": {},
   "outputs": [
    {
     "data": {
      "text/plain": [
       "5"
      ]
     },
     "execution_count": 6,
     "metadata": {},
     "output_type": "execute_result"
    }
   ],
   "source": [
    "el"
   ]
  },
  {
   "cell_type": "code",
   "execution_count": 7,
   "id": "2bfe81c7",
   "metadata": {},
   "outputs": [
    {
     "name": "stdout",
     "output_type": "stream",
     "text": [
      "q\n",
      "w\n",
      "e\n",
      " \n",
      "r\n",
      "t\n",
      "y\n",
      "5\n",
      "6\n",
      "4\n",
      "6\n",
      ",\n",
      " \n",
      "7\n",
      "8\n",
      ",\n",
      "7\n",
      "*\n",
      "&\n",
      "&\n"
     ]
    }
   ],
   "source": [
    "my_str = 'qwe rty5646, 78,7*&&'\n",
    "for lit in my_str:\n",
    "    print(lit)"
   ]
  },
  {
   "cell_type": "code",
   "execution_count": 8,
   "id": "02ca8af2",
   "metadata": {},
   "outputs": [
    {
     "name": "stdout",
     "output_type": "stream",
     "text": [
      "3640.0\n"
     ]
    }
   ],
   "source": [
    "numbers = [2, 5, 13, 7, 6, 4]\n",
    "summa = 0\n",
    "for num in numbers:\n",
    "    summa += num\n",
    "print(summa/len(numbers))"
   ]
  },
  {
   "cell_type": "code",
   "execution_count": 27,
   "id": "0bf825ff",
   "metadata": {},
   "outputs": [
    {
     "data": {
      "text/plain": [
       "6.166666666666667"
      ]
     },
     "execution_count": 27,
     "metadata": {},
     "output_type": "execute_result"
    }
   ],
   "source": [
    "sum(numbers)/len(numbers)"
   ]
  },
  {
   "cell_type": "code",
   "execution_count": 23,
   "id": "5a608df3",
   "metadata": {},
   "outputs": [
    {
     "name": "stdout",
     "output_type": "stream",
     "text": [
      "<class 'range'>\n"
     ]
    }
   ],
   "source": [
    "a = range(0, 10, 2)\n",
    "print(type(a))"
   ]
  },
  {
   "cell_type": "code",
   "execution_count": 26,
   "id": "734bf5d1",
   "metadata": {},
   "outputs": [
    {
     "data": {
      "text/plain": [
       "range(10, 2, -1)"
      ]
     },
     "execution_count": 26,
     "metadata": {},
     "output_type": "execute_result"
    }
   ],
   "source": [
    "a"
   ]
  },
  {
   "cell_type": "code",
   "execution_count": 24,
   "id": "399e1d92",
   "metadata": {},
   "outputs": [
    {
     "data": {
      "text/plain": [
       "[10, 9, 8, 7, 6, 5, 4, 3]"
      ]
     },
     "execution_count": 24,
     "metadata": {},
     "output_type": "execute_result"
    }
   ],
   "source": [
    "list(a)"
   ]
  },
  {
   "cell_type": "code",
   "execution_count": 12,
   "id": "633b2dd8",
   "metadata": {},
   "outputs": [
    {
     "data": {
      "text/plain": [
       "[0, 1, 2, 3, 4, 5, 6, 7, 8, 9]"
      ]
     },
     "execution_count": 12,
     "metadata": {},
     "output_type": "execute_result"
    }
   ],
   "source": [
    "list(range(10))"
   ]
  },
  {
   "cell_type": "code",
   "execution_count": 28,
   "id": "b010e7f7",
   "metadata": {},
   "outputs": [
    {
     "name": "stdout",
     "output_type": "stream",
     "text": [
      "20\n",
      "19\n",
      "18\n",
      "17\n",
      "16\n",
      "15\n",
      "14\n",
      "13\n",
      "12\n",
      "11\n",
      "10\n",
      "9\n",
      "8\n",
      "7\n",
      "6\n",
      "5\n",
      "4\n",
      "3\n"
     ]
    }
   ],
   "source": [
    "for i in range(20, 2, -1): # (start, stop, step)\n",
    "     print(i)"
   ]
  },
  {
   "cell_type": "code",
   "execution_count": 29,
   "id": "91901fff",
   "metadata": {},
   "outputs": [
    {
     "name": "stdout",
     "output_type": "stream",
     "text": [
      "[0, 2, 4, 6, 8, 10, 12, 14, 16, 18, 20]\n"
     ]
    }
   ],
   "source": [
    "numbers = list(range(0, 21, 2))\n",
    "print(numbers)"
   ]
  },
  {
   "cell_type": "code",
   "execution_count": 31,
   "id": "8df86281",
   "metadata": {},
   "outputs": [
    {
     "name": "stdout",
     "output_type": "stream",
     "text": [
      "[1, 3, 5, 7, 9, 11, 13, 15, 17, 19, 21, 23, 25, 27, 29, 31, 33, 35, 37, 39, 41, 43, 45, 47, 49, 51]\n"
     ]
    }
   ],
   "source": [
    "numbers = list(range(1, 52, 2))\n",
    "print(numbers)"
   ]
  },
  {
   "cell_type": "code",
   "execution_count": 50,
   "id": "c0bb27a4",
   "metadata": {},
   "outputs": [
    {
     "name": "stdout",
     "output_type": "stream",
     "text": [
      "0 q\n",
      "1 w\n",
      "2 e\n",
      "3 r\n",
      "4 t\n",
      "5 y\n",
      "6 z\n",
      "7 f\n",
      "8 r\n",
      "9 g\n",
      "10 h\n",
      "11 s\n",
      "12 z\n",
      "13 t\n",
      "14 h\n",
      "15 j\n",
      "16 s\n",
      "17 f\n",
      "18 j\n",
      "Закончили\n"
     ]
    }
   ],
   "source": [
    "# Оборачитваем в enumerate\n",
    "my_str = 'qwertyzfrghszthjsfj'\n",
    "my_list = []\n",
    "for i, letter in enumerate(my_str):\n",
    "    print(i, letter)\n",
    "#     if letter == 'f':\n",
    "#         print(i, 'Ура!')\n",
    "#     else:\n",
    "#         print('Фууу')\n",
    "    my_list.append(str(i+1) + '-' + letter)\n",
    "print(\"Закончили\")\n",
    "    "
   ]
  },
  {
   "cell_type": "code",
   "execution_count": 51,
   "id": "325f4aae",
   "metadata": {},
   "outputs": [
    {
     "data": {
      "text/plain": [
       "['1-q',\n",
       " '2-w',\n",
       " '3-e',\n",
       " '4-r',\n",
       " '5-t',\n",
       " '6-y',\n",
       " '7-z',\n",
       " '8-f',\n",
       " '9-r',\n",
       " '10-g',\n",
       " '11-h',\n",
       " '12-s',\n",
       " '13-z',\n",
       " '14-t',\n",
       " '15-h',\n",
       " '16-j',\n",
       " '17-s',\n",
       " '18-f',\n",
       " '19-j']"
      ]
     },
     "execution_count": 51,
     "metadata": {},
     "output_type": "execute_result"
    }
   ],
   "source": [
    "my_list"
   ]
  },
  {
   "cell_type": "code",
   "execution_count": 62,
   "id": "67c37b35",
   "metadata": {},
   "outputs": [
    {
     "name": "stdout",
     "output_type": "stream",
     "text": [
      "0\n",
      "***\n",
      "1\n",
      "***\n",
      "2\n",
      "***\n",
      "УРА\n",
      "4\n",
      "***\n",
      "5\n",
      "***\n",
      "6\n",
      "***\n",
      "7\n",
      "***\n"
     ]
    }
   ],
   "source": [
    "for i in range(8):    \n",
    "    if i == 3:\n",
    "        print('УРА')\n",
    "        continue\n",
    "    print(i)    \n",
    "    print('***')"
   ]
  },
  {
   "cell_type": "code",
   "execution_count": 65,
   "id": "de579f95",
   "metadata": {},
   "outputs": [
    {
     "name": "stdout",
     "output_type": "stream",
     "text": [
      "0\n",
      "***\n",
      "1\n",
      "***\n",
      "2\n",
      "***\n",
      "End\n"
     ]
    }
   ],
   "source": [
    "for i in range(10):\n",
    "    if i == 3:\n",
    "        break\n",
    "    print(i)    \n",
    "    print('***')\n",
    "print('End') "
   ]
  },
  {
   "cell_type": "code",
   "execution_count": 74,
   "id": "841e5b2e",
   "metadata": {},
   "outputs": [
    {
     "name": "stdout",
     "output_type": "stream",
     "text": [
      "3/*3/*3\n",
      "***\n",
      "**\n",
      "3\n"
     ]
    }
   ],
   "source": [
    "print(i, i, i, sep='/*', end='\\n***\\n**')\n",
    "print()\n",
    "print(i)  "
   ]
  },
  {
   "cell_type": "markdown",
   "id": "6dd76b04",
   "metadata": {},
   "source": [
    "<a id=6></a>"
   ]
  },
  {
   "cell_type": "markdown",
   "id": "c445a584",
   "metadata": {},
   "source": [
    "### Функции"
   ]
  },
  {
   "cell_type": "markdown",
   "id": "2b70a774",
   "metadata": {},
   "source": [
    "Функции помогают повторно использовать код, который нужен во многих местах программы. Если бы функций не существовало, пришлось бы копировать и вставлять фрагмент кода каждый раз, когда он понадобится. А так достаточно написать функцию один раз и вызывать её каждый раз, когда она нужна. Функции нужны, чтобы не переписывать один и тот же код много раз. Функции бывают встроенные и пользовательские."
   ]
  },
  {
   "cell_type": "code",
   "execution_count": 67,
   "id": "aabef5e0",
   "metadata": {},
   "outputs": [],
   "source": [
    "import math"
   ]
  },
  {
   "cell_type": "code",
   "execution_count": 68,
   "id": "76689dc7",
   "metadata": {},
   "outputs": [
    {
     "data": {
      "text/plain": [
       "5.0"
      ]
     },
     "execution_count": 68,
     "metadata": {},
     "output_type": "execute_result"
    }
   ],
   "source": [
    "math.sqrt(25)"
   ]
  },
  {
   "cell_type": "code",
   "execution_count": 69,
   "id": "5f8c3d6d",
   "metadata": {},
   "outputs": [
    {
     "data": {
      "text/plain": [
       "-0.45205267588297"
      ]
     },
     "execution_count": 69,
     "metadata": {},
     "output_type": "execute_result"
    }
   ],
   "source": [
    "math.sin(456)"
   ]
  },
  {
   "cell_type": "code",
   "execution_count": 83,
   "id": "2e7e8d07",
   "metadata": {},
   "outputs": [],
   "source": [
    "import math as m"
   ]
  },
  {
   "cell_type": "code",
   "execution_count": 77,
   "id": "a98161c4",
   "metadata": {},
   "outputs": [
    {
     "data": {
      "text/plain": [
       "0.9917092745620398"
      ]
     },
     "execution_count": 77,
     "metadata": {},
     "output_type": "execute_result"
    }
   ],
   "source": [
    "m.sin(6354)"
   ]
  },
  {
   "cell_type": "code",
   "execution_count": 85,
   "id": "862c7b3e",
   "metadata": {},
   "outputs": [],
   "source": [
    "from math import sqrt"
   ]
  },
  {
   "cell_type": "code",
   "execution_count": 81,
   "id": "75c48fe9",
   "metadata": {},
   "outputs": [
    {
     "data": {
      "text/plain": [
       "5.0"
      ]
     },
     "execution_count": 81,
     "metadata": {},
     "output_type": "execute_result"
    }
   ],
   "source": [
    "wer(25)"
   ]
  },
  {
   "cell_type": "code",
   "execution_count": 82,
   "id": "4cc15b69",
   "metadata": {},
   "outputs": [
    {
     "data": {
      "text/plain": [
       "3.0"
      ]
     },
     "execution_count": 82,
     "metadata": {},
     "output_type": "execute_result"
    }
   ],
   "source": [
    "wer(9)"
   ]
  },
  {
   "cell_type": "code",
   "execution_count": 86,
   "id": "e04e317e",
   "metadata": {},
   "outputs": [
    {
     "data": {
      "text/plain": [
       "46"
      ]
     },
     "execution_count": 86,
     "metadata": {},
     "output_type": "execute_result"
    }
   ],
   "source": [
    "sum([23, 12, 11])"
   ]
  },
  {
   "cell_type": "code",
   "execution_count": 102,
   "id": "3b8477f2",
   "metadata": {},
   "outputs": [],
   "source": [
    "def say_hello():\n",
    "    return 'Hello!'"
   ]
  },
  {
   "cell_type": "code",
   "execution_count": 104,
   "id": "080877c3",
   "metadata": {},
   "outputs": [],
   "source": [
    "a = say_hello()"
   ]
  },
  {
   "cell_type": "code",
   "execution_count": 105,
   "id": "781f4ddb",
   "metadata": {},
   "outputs": [
    {
     "data": {
      "text/plain": [
       "'Hello!'"
      ]
     },
     "execution_count": 105,
     "metadata": {},
     "output_type": "execute_result"
    }
   ],
   "source": [
    "a"
   ]
  },
  {
   "cell_type": "code",
   "execution_count": 106,
   "id": "86ff4317",
   "metadata": {},
   "outputs": [
    {
     "data": {
      "text/plain": [
       "'Hello!'"
      ]
     },
     "execution_count": 106,
     "metadata": {},
     "output_type": "execute_result"
    }
   ],
   "source": [
    "a"
   ]
  },
  {
   "cell_type": "code",
   "execution_count": 92,
   "id": "0e5be580",
   "metadata": {},
   "outputs": [
    {
     "data": {
      "text/plain": [
       "'Hello!'"
      ]
     },
     "execution_count": 92,
     "metadata": {},
     "output_type": "execute_result"
    }
   ],
   "source": [
    "say_hello()"
   ]
  },
  {
   "cell_type": "code",
   "execution_count": 111,
   "id": "7beed539",
   "metadata": {},
   "outputs": [],
   "source": [
    "def plus_2(digit=15):  \n",
    "    result = digit + 2\n",
    "    return result "
   ]
  },
  {
   "cell_type": "code",
   "execution_count": 117,
   "id": "e2261097",
   "metadata": {},
   "outputs": [],
   "source": [
    "num = 155"
   ]
  },
  {
   "cell_type": "code",
   "execution_count": 118,
   "id": "d2d88918",
   "metadata": {},
   "outputs": [
    {
     "data": {
      "text/plain": [
       "157"
      ]
     },
     "execution_count": 118,
     "metadata": {},
     "output_type": "execute_result"
    }
   ],
   "source": [
    "plus_2(num)"
   ]
  },
  {
   "cell_type": "code",
   "execution_count": 119,
   "id": "364ec044",
   "metadata": {},
   "outputs": [
    {
     "data": {
      "text/plain": [
       "157"
      ]
     },
     "execution_count": 119,
     "metadata": {},
     "output_type": "execute_result"
    }
   ],
   "source": [
    "r = plus_2(num)\n",
    "r"
   ]
  },
  {
   "cell_type": "code",
   "execution_count": 120,
   "id": "b6ab4606",
   "metadata": {},
   "outputs": [
    {
     "data": {
      "text/plain": [
       "[155, 156]"
      ]
     },
     "execution_count": 120,
     "metadata": {},
     "output_type": "execute_result"
    }
   ],
   "source": [
    "list(range(num, r))"
   ]
  },
  {
   "cell_type": "code",
   "execution_count": 124,
   "id": "1d8ecde3",
   "metadata": {},
   "outputs": [],
   "source": [
    "def multiplication(num1=5, num2=2):\n",
    "    return num1 * num2"
   ]
  },
  {
   "cell_type": "code",
   "execution_count": 130,
   "id": "c8fc564c",
   "metadata": {},
   "outputs": [
    {
     "data": {
      "text/plain": [
       "890"
      ]
     },
     "execution_count": 130,
     "metadata": {},
     "output_type": "execute_result"
    }
   ],
   "source": [
    "multiplication(89, 10)"
   ]
  },
  {
   "cell_type": "code",
   "execution_count": 137,
   "id": "9aff2632",
   "metadata": {},
   "outputs": [],
   "source": [
    "def calculator(num1, num2, action): #mul, plus, minus, div\n",
    "    if action == 'mul':\n",
    "        return num1 * num2\n",
    "    elif action == 'plus':\n",
    "        return num1 + num2\n",
    "    else:\n",
    "        return 'В разработке!'\n",
    "    "
   ]
  },
  {
   "cell_type": "code",
   "execution_count": 138,
   "id": "abcbc91f",
   "metadata": {},
   "outputs": [],
   "source": [
    "q = 5\n",
    "z = 7\n",
    "f = 'mul'"
   ]
  },
  {
   "cell_type": "code",
   "execution_count": 139,
   "id": "5bd63c9a",
   "metadata": {},
   "outputs": [
    {
     "data": {
      "text/plain": [
       "35"
      ]
     },
     "execution_count": 139,
     "metadata": {},
     "output_type": "execute_result"
    }
   ],
   "source": [
    "r = calculator(q, z, f)\n",
    "r"
   ]
  },
  {
   "cell_type": "code",
   "execution_count": 140,
   "id": "bdf2f003",
   "metadata": {},
   "outputs": [],
   "source": [
    "def translate_color(color):\n",
    "    if color == 'red':\n",
    "        print('красный')\n",
    "    elif color == 'green':\n",
    "        print('зеленый')\n",
    "    elif color == 'black':\n",
    "        print('черный')\n",
    "    elif color == 'white':\n",
    "        print('белый')\n",
    "    else:\n",
    "        print('unk')"
   ]
  },
  {
   "cell_type": "code",
   "execution_count": 142,
   "id": "f78f9f2d",
   "metadata": {},
   "outputs": [],
   "source": [
    "r = 'red'"
   ]
  },
  {
   "cell_type": "code",
   "execution_count": 143,
   "id": "1ac1d10b",
   "metadata": {},
   "outputs": [
    {
     "name": "stdout",
     "output_type": "stream",
     "text": [
      "красный\n"
     ]
    }
   ],
   "source": [
    "translate_color(r)"
   ]
  },
  {
   "cell_type": "code",
   "execution_count": 144,
   "id": "1f6031fd",
   "metadata": {},
   "outputs": [
    {
     "name": "stdout",
     "output_type": "stream",
     "text": [
      "красный\n"
     ]
    }
   ],
   "source": [
    "red = translate_color('red')"
   ]
  },
  {
   "cell_type": "code",
   "execution_count": 145,
   "id": "a83bae7f",
   "metadata": {},
   "outputs": [],
   "source": [
    "red"
   ]
  },
  {
   "cell_type": "code",
   "execution_count": 151,
   "id": "cef4442f",
   "metadata": {},
   "outputs": [],
   "source": [
    "def translate_color(color):\n",
    "#     color = input(\"Введите цвет \")\n",
    "    if color == 'red':\n",
    "        return('красный')\n",
    "    elif color == 'green':\n",
    "        return('зеленый')\n",
    "    elif color == 'black':\n",
    "        return('черный')\n",
    "    elif color == 'white':\n",
    "        return('белый')\n",
    "    else:\n",
    "        return('unk')"
   ]
  },
  {
   "cell_type": "code",
   "execution_count": 155,
   "id": "51730ad4",
   "metadata": {},
   "outputs": [],
   "source": [
    "red = translate_color('black')"
   ]
  },
  {
   "cell_type": "code",
   "execution_count": 156,
   "id": "0aeb5aa5",
   "metadata": {},
   "outputs": [
    {
     "name": "stdout",
     "output_type": "stream",
     "text": [
      "В результате вычислений....  цвет черный оказался лучшим!\n"
     ]
    }
   ],
   "source": [
    "print('В результате вычислений....  цвет', red, 'оказался лучшим!')"
   ]
  },
  {
   "cell_type": "markdown",
   "id": "823986b3",
   "metadata": {},
   "source": [
    "### Лямбда-функции"
   ]
  },
  {
   "cell_type": "markdown",
   "id": "c153ea3b",
   "metadata": {},
   "source": [
    "Лямбда функции в Python – это такие функции, которые не имеют названия. Их также называют анонимными. Слово «lambda» является служебным, и не отражает сути конкретной функции. Основная причина применения лямбда функций — создание функции, которая используется в коде единожды. Использование таких функций позволяет снизить число строк кода, которые вам придется написать."
   ]
  },
  {
   "cell_type": "code",
   "execution_count": 1,
   "id": "019a5298",
   "metadata": {},
   "outputs": [],
   "source": [
    "def some_function(x):\n",
    "    return x * 2"
   ]
  },
  {
   "cell_type": "code",
   "execution_count": 2,
   "id": "5714d830",
   "metadata": {},
   "outputs": [],
   "source": [
    "a = some_function(6)"
   ]
  },
  {
   "cell_type": "code",
   "execution_count": 3,
   "id": "4c663a50",
   "metadata": {},
   "outputs": [
    {
     "data": {
      "text/plain": [
       "12"
      ]
     },
     "execution_count": 3,
     "metadata": {},
     "output_type": "execute_result"
    }
   ],
   "source": [
    "a"
   ]
  },
  {
   "cell_type": "code",
   "execution_count": 7,
   "id": "35247a42",
   "metadata": {},
   "outputs": [],
   "source": [
    "some_function1 = lambda x: x * 2"
   ]
  },
  {
   "cell_type": "code",
   "execution_count": 8,
   "id": "45caac06",
   "metadata": {},
   "outputs": [
    {
     "data": {
      "text/plain": [
       "28"
      ]
     },
     "execution_count": 8,
     "metadata": {},
     "output_type": "execute_result"
    }
   ],
   "source": [
    "some_function1(14)"
   ]
  },
  {
   "cell_type": "code",
   "execution_count": 9,
   "id": "88083c10",
   "metadata": {},
   "outputs": [],
   "source": [
    "def some_foo():\n",
    "    return 10 + 50"
   ]
  },
  {
   "cell_type": "code",
   "execution_count": 10,
   "id": "b2d545db",
   "metadata": {},
   "outputs": [
    {
     "data": {
      "text/plain": [
       "60"
      ]
     },
     "execution_count": 10,
     "metadata": {},
     "output_type": "execute_result"
    }
   ],
   "source": [
    "some_foo()"
   ]
  },
  {
   "cell_type": "code",
   "execution_count": null,
   "id": "a14adcb7",
   "metadata": {},
   "outputs": [],
   "source": [
    "f1 = lambda: 10 + 50\n",
    "print(f1())"
   ]
  },
  {
   "cell_type": "code",
   "execution_count": 11,
   "id": "c692f9ce",
   "metadata": {},
   "outputs": [],
   "source": [
    "def some_function(x, y):\n",
    "    return x + y"
   ]
  },
  {
   "cell_type": "code",
   "execution_count": 12,
   "id": "db9e7822",
   "metadata": {},
   "outputs": [
    {
     "data": {
      "text/plain": [
       "25"
      ]
     },
     "execution_count": 12,
     "metadata": {},
     "output_type": "execute_result"
    }
   ],
   "source": [
    "some_function(10, 15)"
   ]
  },
  {
   "cell_type": "code",
   "execution_count": 14,
   "id": "eb132fde",
   "metadata": {},
   "outputs": [
    {
     "data": {
      "text/plain": [
       "45"
      ]
     },
     "execution_count": 14,
     "metadata": {},
     "output_type": "execute_result"
    }
   ],
   "source": [
    "f2 = lambda х, у: х + у\n",
    "f2(35, 10)"
   ]
  },
  {
   "cell_type": "code",
   "execution_count": 23,
   "id": "37e25d80",
   "metadata": {},
   "outputs": [
    {
     "name": "stdout",
     "output_type": "stream",
     "text": [
      "5*_*10*_*30\n"
     ]
    }
   ],
   "source": [
    "f3 = lambda х: х.replace(', ', '*_*')\n",
    "print(f3('5, 10, 30'))"
   ]
  },
  {
   "cell_type": "code",
   "execution_count": 24,
   "id": "9c0e314d",
   "metadata": {},
   "outputs": [
    {
     "name": "stdout",
     "output_type": "stream",
     "text": [
      "5, 30\n"
     ]
    }
   ],
   "source": [
    "f3 = lambda х: х.replace('10, ', \"\")\n",
    "print(f3('5, 10, 30'))"
   ]
  },
  {
   "cell_type": "code",
   "execution_count": 29,
   "id": "2405048a",
   "metadata": {},
   "outputs": [
    {
     "data": {
      "text/plain": [
       "'5, 10, 305, 10, 305, 10, 305, 10, 305, 10, 30'"
      ]
     },
     "execution_count": 29,
     "metadata": {},
     "output_type": "execute_result"
    }
   ],
   "source": [
    "f3 = lambda х, y: х * y\n",
    "f3('5, 10, 30', 5)"
   ]
  },
  {
   "cell_type": "code",
   "execution_count": 30,
   "id": "5957f502",
   "metadata": {},
   "outputs": [],
   "source": [
    "def compare_by_second(point):\n",
    "    return point[1]"
   ]
  },
  {
   "cell_type": "code",
   "execution_count": 31,
   "id": "f4af9127",
   "metadata": {},
   "outputs": [],
   "source": [
    "def compare_by_sum(point):\n",
    "    return point[0] + point[1]"
   ]
  },
  {
   "cell_type": "code",
   "execution_count": 32,
   "id": "0c37b485",
   "metadata": {},
   "outputs": [],
   "source": [
    "points = [(1, -1), (2, 3), (-10, 15), (10, 9), (7, 18), (1, 5), (2, -4)]"
   ]
  },
  {
   "cell_type": "code",
   "execution_count": 40,
   "id": "042e628e",
   "metadata": {},
   "outputs": [],
   "source": [
    "def compare_by_mul(point):\n",
    "    return point[0] * point[1]"
   ]
  },
  {
   "cell_type": "code",
   "execution_count": 37,
   "id": "ce9fd213",
   "metadata": {},
   "outputs": [
    {
     "data": {
      "text/plain": [
       "[(-10, 15), (1, -1), (1, 5), (2, -4), (2, 3), (7, 18), (10, 9)]"
      ]
     },
     "execution_count": 37,
     "metadata": {},
     "output_type": "execute_result"
    }
   ],
   "source": [
    "sorted(points)"
   ]
  },
  {
   "cell_type": "code",
   "execution_count": 38,
   "id": "a4fccd38",
   "metadata": {},
   "outputs": [
    {
     "name": "stdout",
     "output_type": "stream",
     "text": [
      "[(2, -4), (1, -1), (2, 3), (1, 5), (10, 9), (-10, 15), (7, 18)]\n"
     ]
    }
   ],
   "source": [
    "print(sorted(points, key=compare_by_second))"
   ]
  },
  {
   "cell_type": "code",
   "execution_count": 41,
   "id": "12141bbc",
   "metadata": {},
   "outputs": [
    {
     "name": "stdout",
     "output_type": "stream",
     "text": [
      "[(-10, 15), (2, -4), (1, -1), (1, 5), (2, 3), (10, 9), (7, 18)]\n"
     ]
    }
   ],
   "source": [
    "print(sorted(points, key=compare_by_mul))"
   ]
  },
  {
   "cell_type": "code",
   "execution_count": 42,
   "id": "c624489a",
   "metadata": {},
   "outputs": [
    {
     "name": "stdout",
     "output_type": "stream",
     "text": [
      "[(2, -4), (1, -1), (2, 3), (1, 5), (10, 9), (-10, 15), (7, 18)]\n"
     ]
    }
   ],
   "source": [
    "print(sorted(points, key=lambda point: point[1]))"
   ]
  },
  {
   "cell_type": "code",
   "execution_count": 43,
   "id": "36bdde50",
   "metadata": {},
   "outputs": [
    {
     "name": "stdout",
     "output_type": "stream",
     "text": [
      "[(2, -4), (1, -1), (2, 3), (-10, 15), (1, 5), (10, 9), (7, 18)]\n"
     ]
    }
   ],
   "source": [
    "print(sorted(points, key=lambda point: point[0] + point[1]))"
   ]
  },
  {
   "cell_type": "markdown",
   "id": "e229c4d4",
   "metadata": {
    "id": "AqowFgM1r1M-"
   },
   "source": [
    "### Классы"
   ]
  },
  {
   "cell_type": "markdown",
   "id": "d20ddeb4",
   "metadata": {
    "id": "NIcTPsKyJw9u"
   },
   "source": [
    "**Класс** — шаблон, с помощью которого удобно описывать однотипные объекты. В классе соержатся свойства, правила создания и поведение объекта.\n",
    "\n",
    "**Объект** — экземпляр, созданный на основе шаблона.\n",
    "\n",
    "**Атрибут** — поле, хранящее значение. Содержит свойства объекта.\n",
    "\n",
    "**Метод** — функция, связанная с классом. Описывает поведение или действия объекта.\n",
    "\n",
    "Пример класса - автомобили, его атрибутами будут: цвет, марка автомобиля, регистрационный номер."
   ]
  },
  {
   "cell_type": "code",
   "execution_count": null,
   "id": "7b3db8b3",
   "metadata": {
    "id": "aug0vYHGuRmR"
   },
   "outputs": [],
   "source": [
    "class Auto:\n",
    "  def __init__(self, model, color): # Инициализация объекта\n",
    "    self.model = model\n",
    "    self.color = color\n",
    "\n",
    "  def run(self):\n",
    "    print('Автомобиль заведен')\n",
    "\n",
    "  def stop(self):\n",
    "    print('Автомобиль остановлен')"
   ]
  },
  {
   "cell_type": "code",
   "execution_count": null,
   "id": "d2c4d932",
   "metadata": {
    "colab": {
     "base_uri": "https://localhost:8080/"
    },
    "id": "0rX1j7vnuRo6",
    "outputId": "6df78b4f-1b93-4ac9-ac2c-beca326e8d0d"
   },
   "outputs": [
    {
     "name": "stdout",
     "output_type": "stream",
     "text": [
      "<__main__.Auto object at 0x7f294a8876a0>\n"
     ]
    }
   ],
   "source": [
    "auto = Auto('BMW', 'red')\n",
    "print(auto)"
   ]
  },
  {
   "cell_type": "code",
   "execution_count": null,
   "id": "d76226ff",
   "metadata": {
    "id": "dbgTE9zFMr6h"
   },
   "outputs": [],
   "source": [
    "class Auto:\n",
    "  def __init__(model, color):\n",
    "    self.model = model\n",
    "    self.color = color\n",
    "\n",
    "  def run(self):\n",
    "    print('Автомобиль заведен')\n",
    "\n",
    "  def __str__(self): # Преобразование к строке str(obj)\n",
    "    return f'{self.model} {self.color}'"
   ]
  },
  {
   "cell_type": "code",
   "execution_count": null,
   "id": "51e6576a",
   "metadata": {
    "colab": {
     "base_uri": "https://localhost:8080/",
     "height": 193
    },
    "id": "Ut4_ldXvuRrh",
    "outputId": "a3db8832-adb2-43ec-e7e5-1eefb9426da8"
   },
   "outputs": [
    {
     "ename": "TypeError",
     "evalue": "ignored",
     "output_type": "error",
     "traceback": [
      "\u001b[0;31m---------------------------------------------------------------------------\u001b[0m",
      "\u001b[0;31mTypeError\u001b[0m                                 Traceback (most recent call last)",
      "\u001b[0;32m<ipython-input-87-488a829d8ddf>\u001b[0m in \u001b[0;36m<cell line: 1>\u001b[0;34m()\u001b[0m\n\u001b[0;32m----> 1\u001b[0;31m \u001b[0mauto\u001b[0m \u001b[0;34m=\u001b[0m \u001b[0mAuto\u001b[0m\u001b[0;34m(\u001b[0m\u001b[0;34m'BMW'\u001b[0m\u001b[0;34m,\u001b[0m \u001b[0;34m'red'\u001b[0m\u001b[0;34m)\u001b[0m\u001b[0;34m\u001b[0m\u001b[0;34m\u001b[0m\u001b[0m\n\u001b[0m\u001b[1;32m      2\u001b[0m \u001b[0mprint\u001b[0m\u001b[0;34m(\u001b[0m\u001b[0mauto\u001b[0m\u001b[0;34m)\u001b[0m\u001b[0;34m\u001b[0m\u001b[0;34m\u001b[0m\u001b[0m\n",
      "\u001b[0;31mTypeError\u001b[0m: Auto.__init__() takes 2 positional arguments but 3 were given"
     ]
    }
   ],
   "source": [
    "auto = Auto('BMW', 'red')\n",
    "print(auto)"
   ]
  },
  {
   "cell_type": "code",
   "execution_count": null,
   "id": "309b396c",
   "metadata": {
    "colab": {
     "base_uri": "https://localhost:8080/"
    },
    "id": "T3skQImHMvXV",
    "outputId": "6eb0605d-4063-4ed1-aa82-779f4d3f8ee0"
   },
   "outputs": [
    {
     "name": "stdout",
     "output_type": "stream",
     "text": [
      "Автомобиль заведен\n"
     ]
    }
   ],
   "source": [
    "auto.run()"
   ]
  },
  {
   "cell_type": "markdown",
   "id": "ba181386",
   "metadata": {
    "id": "cYaq2Crjr6qW"
   },
   "source": [
    "### Обработка ошибок"
   ]
  },
  {
   "cell_type": "code",
   "execution_count": null,
   "id": "a0d4d435",
   "metadata": {
    "colab": {
     "base_uri": "https://localhost:8080/",
     "height": 175
    },
    "id": "AXN8AIXIr6Yq",
    "outputId": "5c2e0880-8cc6-4de1-eb61-b46071a6af39"
   },
   "outputs": [
    {
     "ename": "TypeError",
     "evalue": "ignored",
     "output_type": "error",
     "traceback": [
      "\u001b[0;31m---------------------------------------------------------------------------\u001b[0m",
      "\u001b[0;31mTypeError\u001b[0m                                 Traceback (most recent call last)",
      "\u001b[0;32m<ipython-input-88-72726d0b0ddc>\u001b[0m in \u001b[0;36m<cell line: 1>\u001b[0;34m()\u001b[0m\n\u001b[0;32m----> 1\u001b[0;31m \u001b[0;34m'100'\u001b[0m \u001b[0;34m/\u001b[0m \u001b[0;36m100\u001b[0m\u001b[0;34m\u001b[0m\u001b[0;34m\u001b[0m\u001b[0m\n\u001b[0m",
      "\u001b[0;31mTypeError\u001b[0m: unsupported operand type(s) for /: 'str' and 'int'"
     ]
    }
   ],
   "source": [
    "'100' / 100"
   ]
  },
  {
   "cell_type": "code",
   "execution_count": null,
   "id": "d770cb7c",
   "metadata": {
    "colab": {
     "base_uri": "https://localhost:8080/",
     "height": 175
    },
    "id": "t3L0_IEzr6cG",
    "outputId": "51a618cc-7f01-4bff-ceaa-c5f95249b594"
   },
   "outputs": [
    {
     "ename": "ZeroDivisionError",
     "evalue": "ignored",
     "output_type": "error",
     "traceback": [
      "\u001b[0;31m---------------------------------------------------------------------------\u001b[0m",
      "\u001b[0;31mZeroDivisionError\u001b[0m                         Traceback (most recent call last)",
      "\u001b[0;32m<ipython-input-89-e9e866a10e2a>\u001b[0m in \u001b[0;36m<cell line: 1>\u001b[0;34m()\u001b[0m\n\u001b[0;32m----> 1\u001b[0;31m \u001b[0;36m100\u001b[0m \u001b[0;34m/\u001b[0m \u001b[0;36m0\u001b[0m\u001b[0;34m\u001b[0m\u001b[0;34m\u001b[0m\u001b[0m\n\u001b[0m",
      "\u001b[0;31mZeroDivisionError\u001b[0m: division by zero"
     ]
    }
   ],
   "source": [
    "100 / 0"
   ]
  },
  {
   "cell_type": "code",
   "execution_count": null,
   "id": "6c3dcb46",
   "metadata": {
    "id": "NP9EU2Kbuc86"
   },
   "outputs": [],
   "source": [
    "def div(a, b):\n",
    "  res = None\n",
    "  try:\n",
    "    res = a / b\n",
    "  except TypeError:\n",
    "    print('Похоже, вы используете несовместимые типы...')\n",
    "  except:\n",
    "    print('Ошибка')\n",
    "  return res"
   ]
  },
  {
   "cell_type": "code",
   "execution_count": null,
   "id": "f866464c",
   "metadata": {
    "colab": {
     "base_uri": "https://localhost:8080/"
    },
    "id": "QayYJ6XiudBW",
    "outputId": "fe025124-5f1a-49e4-e039-18eccba11550"
   },
   "outputs": [
    {
     "data": {
      "text/plain": [
       "10.0"
      ]
     },
     "execution_count": 91,
     "metadata": {},
     "output_type": "execute_result"
    }
   ],
   "source": [
    "div(100, 10)"
   ]
  },
  {
   "cell_type": "code",
   "execution_count": null,
   "id": "ceb6859d",
   "metadata": {
    "colab": {
     "base_uri": "https://localhost:8080/"
    },
    "id": "0Msyi4GTudFD",
    "outputId": "884ffdaf-ad3c-4bbe-85a8-702ccce8cb08"
   },
   "outputs": [
    {
     "name": "stdout",
     "output_type": "stream",
     "text": [
      "Ошибка\n"
     ]
    }
   ],
   "source": [
    "div(100, 0)"
   ]
  },
  {
   "cell_type": "code",
   "execution_count": null,
   "id": "c8d91134",
   "metadata": {
    "colab": {
     "base_uri": "https://localhost:8080/"
    },
    "id": "nwfTq9P2ufwo",
    "outputId": "6afb2901-2191-451a-9220-5c8c1ffaace7"
   },
   "outputs": [
    {
     "name": "stdout",
     "output_type": "stream",
     "text": [
      "Похоже, вы используете несовместимые типы...\n"
     ]
    }
   ],
   "source": [
    "div(100, '10')"
   ]
  },
  {
   "cell_type": "code",
   "execution_count": null,
   "id": "ebc84082",
   "metadata": {
    "id": "1LvcaEyyIPAj"
   },
   "outputs": [],
   "source": [
    "def div(a, b):\n",
    "  res = None\n",
    "  try:\n",
    "    res = a / b\n",
    "  except TypeError:\n",
    "    print('Похоже, вы используете несовместимые типы...')\n",
    "  except ZeroDivisionError:\n",
    "    print('На ноль делить нельзя!')\n",
    "  else: # else выполняется, если исключения не было\n",
    "    print('Все хорошо!')\n",
    "  finally: # finally выполняет блок инструкций в любом случае, было ли исключение, или нет\n",
    "    print('Выполнение программы завершено')\n",
    "  return res"
   ]
  },
  {
   "cell_type": "code",
   "execution_count": null,
   "id": "91401f4e",
   "metadata": {
    "colab": {
     "base_uri": "https://localhost:8080/"
    },
    "id": "KDkd7f0hIPIK",
    "outputId": "94c015cc-2415-45da-f93e-6387bb279272"
   },
   "outputs": [
    {
     "name": "stdout",
     "output_type": "stream",
     "text": [
      "Все хорошо!\n",
      "Выполнение программы завершено\n"
     ]
    },
    {
     "data": {
      "text/plain": [
       "10.0"
      ]
     },
     "execution_count": 99,
     "metadata": {},
     "output_type": "execute_result"
    }
   ],
   "source": [
    "div(100, 10)"
   ]
  },
  {
   "cell_type": "code",
   "execution_count": null,
   "id": "a47c3b1d",
   "metadata": {
    "colab": {
     "base_uri": "https://localhost:8080/"
    },
    "id": "S1uQAbWaIleQ",
    "outputId": "750e5932-c244-45f9-963f-75c9dde83a9a"
   },
   "outputs": [
    {
     "name": "stdout",
     "output_type": "stream",
     "text": [
      "На ноль делить нельзя!\n",
      "Выполнение программы завершено\n"
     ]
    }
   ],
   "source": [
    "div(100, 0)"
   ]
  },
  {
   "cell_type": "markdown",
   "id": "bbd35d24",
   "metadata": {
    "id": "0RCKYlt7orxm"
   },
   "source": [
    "Вызов исключений"
   ]
  },
  {
   "cell_type": "code",
   "execution_count": null,
   "id": "0e644e78",
   "metadata": {
    "colab": {
     "base_uri": "https://localhost:8080/",
     "height": 210
    },
    "id": "LQh_YLqronKb",
    "outputId": "09d102bf-2699-492a-d8d1-aa53bb25a6b6"
   },
   "outputs": [
    {
     "ename": "ValueError",
     "evalue": "ignored",
     "output_type": "error",
     "traceback": [
      "\u001b[0;31m---------------------------------------------------------------------------\u001b[0m",
      "\u001b[0;31mValueError\u001b[0m                                Traceback (most recent call last)",
      "\u001b[0;32m<ipython-input-101-8bec28f28785>\u001b[0m in \u001b[0;36m<cell line: 3>\u001b[0;34m()\u001b[0m\n\u001b[1;32m      4\u001b[0m   \u001b[0mprint\u001b[0m\u001b[0;34m(\u001b[0m\u001b[0;34m'Больше 50'\u001b[0m\u001b[0;34m)\u001b[0m\u001b[0;34m\u001b[0m\u001b[0;34m\u001b[0m\u001b[0m\n\u001b[1;32m      5\u001b[0m \u001b[0;32melse\u001b[0m\u001b[0;34m:\u001b[0m\u001b[0;34m\u001b[0m\u001b[0;34m\u001b[0m\u001b[0m\n\u001b[0;32m----> 6\u001b[0;31m   \u001b[0;32mraise\u001b[0m \u001b[0mValueError\u001b[0m\u001b[0;34m(\u001b[0m\u001b[0;34m'Меньше или равно 50!'\u001b[0m\u001b[0;34m)\u001b[0m\u001b[0;34m\u001b[0m\u001b[0;34m\u001b[0m\u001b[0m\n\u001b[0m",
      "\u001b[0;31mValueError\u001b[0m: Меньше или равно 50!"
     ]
    }
   ],
   "source": [
    "a = 25\n",
    "\n",
    "if a > 50:\n",
    "  print('Больше 50')\n",
    "else:\n",
    "  raise ValueError('Меньше или равно 50!')"
   ]
  },
  {
   "cell_type": "markdown",
   "id": "eae81c13",
   "metadata": {
    "id": "6GSjIhWXPtjx"
   },
   "source": [
    "### Что еще почитать?\n",
    "\n",
    "[Программирование на языке Python: год 1](https://python-course.readthedocs.io/projects/year1/en/latest/index.html#)\n",
    "\n",
    "[Python: основы и применение](https://stepik.org/course/512/syllabus)"
   ]
  },
  {
   "cell_type": "markdown",
   "id": "2ed931bd",
   "metadata": {},
   "source": [
    "### Форматирование строк"
   ]
  },
  {
   "cell_type": "code",
   "execution_count": 159,
   "id": "ffa11902",
   "metadata": {},
   "outputs": [
    {
     "name": "stdout",
     "output_type": "stream",
     "text": [
      "Это пример первого 123 формата 666\n",
      "Это пример drfghasdhtsath второго 555 формата 666\n",
      "Это вариация второго 555 формата 666\n"
     ]
    }
   ],
   "source": [
    "print('Это пример первого %d формата %s' % (123, 666))\n",
    "print('Это пример {2} второго {0} формата {1}'.format(111 + 444, 666, 'drfghasdhtsath'))\n",
    "print('Это вариация второго {first} формата {second}'.format(first='555', second=666))"
   ]
  },
  {
   "cell_type": "code",
   "execution_count": 165,
   "id": "b4bc9f0a",
   "metadata": {},
   "outputs": [],
   "source": [
    "num = 19"
   ]
  },
  {
   "cell_type": "code",
   "execution_count": 166,
   "id": "adab4f59",
   "metadata": {},
   "outputs": [
    {
     "name": "stdout",
     "output_type": "stream",
     "text": [
      "Это пример \"третьего\" формата 19\n"
     ]
    }
   ],
   "source": [
    "print(f'Это пример \"третьего\" формата {num}')"
   ]
  },
  {
   "cell_type": "code",
   "execution_count": 163,
   "id": "ba33fe7c",
   "metadata": {},
   "outputs": [
    {
     "name": "stdout",
     "output_type": "stream",
     "text": [
      "Самый 555 медленный\n"
     ]
    }
   ],
   "source": [
    "# самый медленный\n",
    "print('Самый ' + str(555) + ' медленный')  # конкатенация строк"
   ]
  },
  {
   "cell_type": "code",
   "execution_count": 164,
   "id": "201eff38",
   "metadata": {},
   "outputs": [
    {
     "name": "stdout",
     "output_type": "stream",
     "text": [
      "name 4.3 4 4.300000 4.3\n"
     ]
    }
   ],
   "source": [
    "name ='name'\n",
    "number = 4.3\n",
    "print('%s %s %d %f %g' % (name, number, number, number, number))"
   ]
  },
  {
   "cell_type": "markdown",
   "id": "9d16fbb3",
   "metadata": {},
   "source": [
    "https://djangofan.ru/python-string-formatting"
   ]
  },
  {
   "cell_type": "code",
   "execution_count": null,
   "id": "63c82a9b",
   "metadata": {},
   "outputs": [],
   "source": []
  }
 ],
 "metadata": {
  "kernelspec": {
   "display_name": "Python 3 (ipykernel)",
   "language": "python",
   "name": "python3"
  },
  "language_info": {
   "codemirror_mode": {
    "name": "ipython",
    "version": 3
   },
   "file_extension": ".py",
   "mimetype": "text/x-python",
   "name": "python",
   "nbconvert_exporter": "python",
   "pygments_lexer": "ipython3",
   "version": "3.11.5"
  }
 },
 "nbformat": 4,
 "nbformat_minor": 5
}
