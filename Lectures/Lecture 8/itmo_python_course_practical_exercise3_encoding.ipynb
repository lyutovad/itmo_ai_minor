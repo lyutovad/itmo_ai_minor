{
 "cells": [
  {
   "cell_type": "code",
   "execution_count": 1,
   "id": "c2c0ff6e",
   "metadata": {},
   "outputs": [],
   "source": [
    "import pandas as pd\n",
    "from sklearn.preprocessing import LabelEncoder, OneHotEncoder, OrdinalEncoder\n",
    "import category_encoders as ce"
   ]
  },
  {
   "cell_type": "code",
   "execution_count": 2,
   "id": "58385d5a",
   "metadata": {},
   "outputs": [],
   "source": [
    "column_names = ['age', 'workclass', 'fnlwgt', 'education', 'education-num', \n",
    "                'marital-status', 'occupation', 'relationship', 'race', 'sex', \n",
    "                'capital-gain', 'capital-loss', 'hours-per-week', 'native-country', 'income']"
   ]
  },
  {
   "cell_type": "code",
   "execution_count": 3,
   "id": "2c7060b9",
   "metadata": {},
   "outputs": [],
   "source": [
    "df = pd.read_csv('./adult.data', delim_whitespace=True, header = None, names=column_names)"
   ]
  },
  {
   "cell_type": "markdown",
   "id": "13629c58",
   "metadata": {},
   "source": [
    "### Задание 1: Label Encoding для переменной sex\n",
    "\n",
    "Перекодируйте категориальную переменную sex в числовой формат, где 0 — женщина, 1 — мужчина."
   ]
  },
  {
   "cell_type": "markdown",
   "id": "c096ea33",
   "metadata": {},
   "source": [
    "### Задание 2: One-Hot Encoding для переменной workclass\n",
    "\n",
    "Примените One-Hot Encoding для переменной workclass и создайте новый DataFrame, где каждая уникальная категория станет отдельной колонкой."
   ]
  },
  {
   "cell_type": "markdown",
   "id": "9c1328ce",
   "metadata": {},
   "source": [
    "### Задание 3: Ordinal Encoding для переменной education\n",
    "\n",
    "Создайте упорядоченное кодирование для переменной education, где более высокий уровень образования будет соответствовать большему числу."
   ]
  },
  {
   "cell_type": "markdown",
   "id": "965df2a0",
   "metadata": {},
   "source": [
    "### Задание 4: Target Encoding для переменной occupation\n",
    "\n",
    "Перекодируйте переменную occupation с использованием целевой переменной income. Присвойте каждой категории среднее значение дохода."
   ]
  },
  {
   "cell_type": "markdown",
   "id": "5e466dfa",
   "metadata": {},
   "source": [
    "### Задание 5: Frequency Encoding для переменной native-country\n",
    "\n",
    "Перекодируйте переменную native-country на основе частоты встречаемости каждой категории."
   ]
  },
  {
   "cell_type": "markdown",
   "id": "dd4a5c25",
   "metadata": {},
   "source": [
    "### Задание 6: Hash Encoding для переменной relationship\n",
    "\n",
    "Используйте хеш-кодирование для переменной relationship, чтобы закодировать её с помощью фиксированного количества хеш-функций."
   ]
  },
  {
   "cell_type": "markdown",
   "id": "fd35510c",
   "metadata": {},
   "source": [
    "### Задание 7: LeaveOneOut Encoding для переменной marital-status\n",
    "\n",
    "Примените LeaveOneOut Encoding к переменной marital-status, используя целевую переменную income."
   ]
  },
  {
   "cell_type": "markdown",
   "id": "4382db37",
   "metadata": {},
   "source": [
    "### Задание 8: Binary Encoding для переменной race\n",
    "\n",
    "Примените Binary Encoding к переменной race, чтобы закодировать каждую категорию двоичными числами."
   ]
  }
 ],
 "metadata": {
  "kernelspec": {
   "display_name": "Python 3 (ipykernel)",
   "language": "python",
   "name": "python3"
  },
  "language_info": {
   "codemirror_mode": {
    "name": "ipython",
    "version": 3
   },
   "file_extension": ".py",
   "mimetype": "text/x-python",
   "name": "python",
   "nbconvert_exporter": "python",
   "pygments_lexer": "ipython3",
   "version": "3.9.13"
  }
 },
 "nbformat": 4,
 "nbformat_minor": 5
}
