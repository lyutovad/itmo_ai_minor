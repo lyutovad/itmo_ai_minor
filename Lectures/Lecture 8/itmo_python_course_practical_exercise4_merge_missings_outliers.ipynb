{
 "cells": [
  {
   "cell_type": "code",
   "execution_count": 1,
   "id": "c90162b5",
   "metadata": {},
   "outputs": [],
   "source": [
    "import pandas as pd\n",
    "import numpy as np\n",
    "import missingno as msno\n",
    "import matplotlib.pyplot as plt\n",
    "import seaborn as sns\n",
    "from sklearn.impute import KNNImputer"
   ]
  },
  {
   "cell_type": "markdown",
   "id": "ef8001d6",
   "metadata": {},
   "source": [
    "## 1. Выявление и заполнение пропусков"
   ]
  },
  {
   "cell_type": "markdown",
   "id": "00d0b278",
   "metadata": {},
   "source": [
    "Считайте файл"
   ]
  },
  {
   "cell_type": "code",
   "execution_count": null,
   "id": "5ddf70a8",
   "metadata": {},
   "outputs": [],
   "source": [
    "data = pd.read_csv(\"./data/recipeData.csv\", encoding='latin-1')"
   ]
  },
  {
   "cell_type": "markdown",
   "id": "ba7d5752",
   "metadata": {},
   "source": [
    "#### 1.1 Определите количество пропусков суммарно и в процентах"
   ]
  },
  {
   "cell_type": "markdown",
   "id": "9afc30bd",
   "metadata": {},
   "source": [
    "#### 1.2 Посмотрите пропуски при помощи библиотеки missigno и посмотрите тепловую карту, чтобы определить корреляцию между пропусками"
   ]
  },
  {
   "cell_type": "markdown",
   "id": "bc96c43c",
   "metadata": {},
   "source": [
    "#### 1.3 Удаление колонок с большим количеством пропусков: \n",
    "\n",
    "Удалите колонки, в которых более 50% данных отсутствуют, так как их заполнение может исказить информацию или не иметь практического смысла."
   ]
  },
  {
   "cell_type": "markdown",
   "id": "db152674",
   "metadata": {},
   "source": [
    "#### 1.4 Заполните пропуски в числовых данных"
   ]
  },
  {
   "cell_type": "markdown",
   "id": "548fe231",
   "metadata": {},
   "source": [
    "#### 1.4 Заполните пропуски в категориальных данных"
   ]
  },
  {
   "cell_type": "markdown",
   "id": "b66ce19d",
   "metadata": {},
   "source": [
    "#### 1.5 Заполните пропуски в PrimaryTemp при помощи KNNImputer. Выбирете только числовые столбцы для работы KNNImputer.\n",
    "\n",
    "Задание дается домой, т.к. модель работает долго."
   ]
  },
  {
   "cell_type": "markdown",
   "id": "cc979892",
   "metadata": {},
   "source": [
    "#### 1.5 Проверьте, что все пропуски отсутвуют\n",
    "\n",
    "Если это не выполнено, примите решение, что делать дальше."
   ]
  },
  {
   "cell_type": "markdown",
   "id": "d7aa6ac3",
   "metadata": {},
   "source": [
    "## 2. Выявление и обработка выбросов"
   ]
  },
  {
   "cell_type": "code",
   "execution_count": null,
   "id": "cdd3f65b",
   "metadata": {},
   "outputs": [],
   "source": [
    "df = pd.read_csv('./data/housing.data', delim_whitespace=True, header = None)\n",
    "df "
   ]
  },
  {
   "cell_type": "code",
   "execution_count": null,
   "id": "72106aae",
   "metadata": {},
   "outputs": [],
   "source": [
    "columns_names = ['CRIM', 'ZN' , 'INDUS', 'CHAS', 'NOX', 'RM', 'AGE', 'DIS', 'RAD', 'TAX', 'PTRATIO', 'B', 'LSTAT', 'MEDV']"
   ]
  },
  {
   "cell_type": "code",
   "execution_count": null,
   "id": "40dc9f8d",
   "metadata": {},
   "outputs": [],
   "source": [
    "df.columns = columns_names"
   ]
  },
  {
   "cell_type": "code",
   "execution_count": null,
   "id": "45bd24fc",
   "metadata": {},
   "outputs": [],
   "source": [
    "df.head(3)"
   ]
  },
  {
   "cell_type": "markdown",
   "id": "9cca017d",
   "metadata": {},
   "source": [
    "#### 2.1 Определите наличие выбросов в столбце MEDV визуальными методами."
   ]
  },
  {
   "cell_type": "markdown",
   "id": "688bf5e2",
   "metadata": {},
   "source": [
    "#### 2.2 Определите наличие выбросов в столбце MEDV с использованием IQR (межквартильного размаха) и обрежте значения до предельных"
   ]
  },
  {
   "cell_type": "markdown",
   "id": "bd0d5e22",
   "metadata": {},
   "source": [
    "#### 2.3 Определите наличие выбросов в столбце \"CRIM\" (уровень преступности) с использованием Z-оценки"
   ]
  },
  {
   "cell_type": "markdown",
   "id": "032d303e",
   "metadata": {},
   "source": [
    "#### 2.4  Замените выбросы в столбце CRIM медианным значением"
   ]
  },
  {
   "cell_type": "markdown",
   "id": "c7599ea5",
   "metadata": {},
   "source": [
    "#### 2.5  Выполните тримминг, удаляя выбросы с Z-оценкой больше 3 или меньше -3 в столбце CRIM"
   ]
  },
  {
   "cell_type": "markdown",
   "id": "6ac94ddc",
   "metadata": {},
   "source": [
    "## 3. Объединение файлов"
   ]
  },
  {
   "cell_type": "markdown",
   "id": "4813f4cf",
   "metadata": {},
   "source": [
    "#### Задание 3.1 Объедините два датафрейма так, чтобы информация из второго датафрейма была присоединена к первому по идентификатору человека. Используйте метод merge для правильного объединения."
   ]
  },
  {
   "cell_type": "markdown",
   "id": "96e9b377",
   "metadata": {},
   "source": [
    "Создадим небольшие тренировочные датасеты для объединения"
   ]
  },
  {
   "cell_type": "code",
   "execution_count": null,
   "id": "9ef595e4",
   "metadata": {},
   "outputs": [],
   "source": [
    "dataframe_1 = pd.DataFrame({\n",
    "    \"person_ID\": [101, 102, 103, 104],\n",
    "    \"name\": [\"Alice\", \"Bob\", \"Charlie\", \"David\"]\n",
    "})\n",
    "\n",
    "# Второй датафрейм (назовем его \"dataframe_2\")\n",
    "dataframe_2 = pd.DataFrame({\n",
    "    \"unique_ID\": [\"101-1\", \"102-1\", \"103-1\", \"105-1\"],\n",
    "    \"extra_info\": [\"info1\", \"info2\", \"info3\", \"info4\"]\n",
    "})"
   ]
  },
  {
   "cell_type": "markdown",
   "id": "d20d8482",
   "metadata": {},
   "source": [
    "#### Задание 3.2 Объедините оба датафрейма по индексу с помощью метода join, чтобы посмотреть все данные о людях из первого датафрейма и их события из второго.\n",
    "\n",
    "Создадим небольшие тренировочные датасеты для объединения"
   ]
  },
  {
   "cell_type": "code",
   "execution_count": null,
   "id": "e82ca406",
   "metadata": {},
   "outputs": [],
   "source": [
    "dataframe_1 = pd.DataFrame({\n",
    "    \"name\": [\"Alice\", \"Bob\", \"Charlie\", \"David\"],\n",
    "    \"age\": [25, 30, 35, 40]\n",
    "}, index=[101, 102, 103, 104])\n",
    "\n",
    "dataframe_2 = pd.DataFrame({\n",
    "    \"event\": [\"login\", \"purchase\", \"login\", \"logout\"],\n",
    "    \"timestamp\": [\"2024-10-01\", \"2024-10-02\", \"2024-10-03\", \"2024-10-04\"]\n",
    "}, index=[102, 103, 104, 105])"
   ]
  },
  {
   "cell_type": "markdown",
   "id": "d7b273a4",
   "metadata": {},
   "source": [
    "#### Задание 3.3 Считайте и объедините оба датафрейма "
   ]
  },
  {
   "cell_type": "code",
   "execution_count": null,
   "id": "b8306ff0",
   "metadata": {},
   "outputs": [],
   "source": [
    "ratings = pd.read_csv(\"./data/rating_final.csv\")\n",
    "parking = pd.read_csv(\"./data/chefmozparking.csv\")"
   ]
  },
  {
   "cell_type": "code",
   "execution_count": null,
   "id": "29c13953",
   "metadata": {},
   "outputs": [],
   "source": []
  }
 ],
 "metadata": {
  "kernelspec": {
   "display_name": "Python 3 (ipykernel)",
   "language": "python",
   "name": "python3"
  },
  "language_info": {
   "codemirror_mode": {
    "name": "ipython",
    "version": 3
   },
   "file_extension": ".py",
   "mimetype": "text/x-python",
   "name": "python",
   "nbconvert_exporter": "python",
   "pygments_lexer": "ipython3",
   "version": "3.9.13"
  }
 },
 "nbformat": 4,
 "nbformat_minor": 5
}
